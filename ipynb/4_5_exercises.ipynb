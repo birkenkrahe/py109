{
  "cells": [
    {
      "cell_type": "markdown",
      "metadata": {},
      "source": [
        "## Three `if`, `else`, `elif` exercises\n\n"
      ]
    },
    {
      "cell_type": "markdown",
      "metadata": {},
      "source": [
        "These exercises will help you practice basic conditional\nstatements in Python and get a grasp of how to use if, elif, and else.\n\n"
      ]
    },
    {
      "cell_type": "markdown",
      "metadata": {},
      "source": [
        "### Exercise 1: Movie Age Restriction\n\n"
      ]
    },
    {
      "cell_type": "markdown",
      "metadata": {},
      "source": [
        "#### Problem:\n\n"
      ]
    },
    {
      "cell_type": "markdown",
      "metadata": {},
      "source": [
        "Write a program that asks the user for their age and tells them which\nmovies they are allowed to watch:\n\n-   Ages under 13: \"You can watch PG movies.\"\n-   Ages 13 to 17: \"You can watch PG-13 movies.\"\n-   Ages 18 and above: \"You can watch R-rated movies.\"\n\n"
      ]
    },
    {
      "cell_type": "markdown",
      "metadata": {},
      "source": [
        "#### Solution:\n\n"
      ]
    },
    {
      "cell_type": "code",
      "execution_count": 1,
      "metadata": {},
      "outputs": [],
      "source": [
        "age = int(input(\"Enter your age: \"))\n\nif age < 13:\n    print(\"You can watch PG movies.\")\nelif 13 <= age < 18:\n    print(\"You can watch PG-13 movies.\")\nelse:\n    print(\"You can watch R-rated movies.\")"
      ]
    },
    {
      "cell_type": "markdown",
      "metadata": {},
      "source": [
        "### Exercise 2: Days of the Week\n\n"
      ]
    },
    {
      "cell_type": "markdown",
      "metadata": {},
      "source": [
        "#### Problem:\n\n"
      ]
    },
    {
      "cell_type": "markdown",
      "metadata": {},
      "source": [
        "Ask the user for a number between 1 and 7 and print the corresponding\nday of the week. (1 for Monday, 2 for Tuesday, etc.). If the number is\noutside of that range, print \"Invalid number.\"\n\n"
      ]
    },
    {
      "cell_type": "markdown",
      "metadata": {},
      "source": [
        "#### Solution:\n\n"
      ]
    },
    {
      "cell_type": "code",
      "execution_count": 1,
      "metadata": {},
      "outputs": [],
      "source": [
        "day_num = int(input(\"Enter a number between 1 and 7: \"))\n\nif day_num == 1:\n    print(\"Monday\")\nelif day_num == 2:\n    print(\"Tuesday\")\nelif day_num == 3:\n    print(\"Wednesday\")\nelif day_num == 4:\n    print(\"Thursday\")\nelif day_num == 5:\n    print(\"Friday\")\nelif day_num == 6:\n    print(\"Saturday\")\nelif day_num == 7:\n    print(\"Sunday\")\nelse:\n    print(\"Invalid number.\")"
      ]
    },
    {
      "cell_type": "markdown",
      "metadata": {},
      "source": [
        "### Exercise 3: Basic Calculator\n\n"
      ]
    },
    {
      "cell_type": "markdown",
      "metadata": {},
      "source": [
        "#### Problem:\n\n"
      ]
    },
    {
      "cell_type": "markdown",
      "metadata": {},
      "source": [
        "Write a program that:\n\n-   Asks the user for two numbers.\n-   Asks the user for an operation (+, -, \\*, /).\n-   Performs the operation on the two numbers and prints the result.\n\nIf the operation is not recognized, print \"Invalid operation.\"\n\n"
      ]
    },
    {
      "cell_type": "markdown",
      "metadata": {},
      "source": [
        "#### Solution:\n\n"
      ]
    },
    {
      "cell_type": "code",
      "execution_count": 1,
      "metadata": {},
      "outputs": [],
      "source": [
        "num1 = float(input(\"Enter the first number: \"))\nnum2 = float(input(\"Enter the second number: \"))\noperation = input(\"Enter an operation (+, -, *, /): \")\n\nif operation == \"+\":\n    print(f\"Result: {num1 + num2}\")\nelif operation == \"-\":\n    print(f\"Result: {num1 - num2}\")\nelif operation == \"*\":\n    print(f\"Result: {num1 * num2}\")\nelif operation == \"/\":\n    if num2 == 0:\n        print(\"Error: Division by zero.\")\n    else:\n        print(f\"Result: {num1 / num2}\")\nelse:\n    print(\"Invalid operation.\")"
      ]
    },
    {
      "cell_type": "markdown",
      "metadata": {},
      "source": [
        "## Three `while` loop exercises\n\n"
      ]
    },
    {
      "cell_type": "markdown",
      "metadata": {},
      "source": [
        "These exercises will help you practice basic control structures in\nPython and understand the mechanics of while loops.\n\n"
      ]
    },
    {
      "cell_type": "markdown",
      "metadata": {},
      "source": [
        "### Exercise 1: Count Up\n\n"
      ]
    },
    {
      "cell_type": "markdown",
      "metadata": {},
      "source": [
        "#### Problem:\n\n"
      ]
    },
    {
      "cell_type": "markdown",
      "metadata": {},
      "source": [
        "Write a program that asks the user for a number and then counts up\nfrom 1 to that number using a while loop.\n\n"
      ]
    },
    {
      "cell_type": "markdown",
      "metadata": {},
      "source": [
        "#### Solution:\n\n"
      ]
    },
    {
      "cell_type": "code",
      "execution_count": 1,
      "metadata": {},
      "outputs": [],
      "source": [
        "num = int(input(\"Enter a number: \"))\ni = 1\nwhile i <= num:\n    print(i)\n    i += 1"
      ]
    },
    {
      "cell_type": "markdown",
      "metadata": {},
      "source": [
        "### Exercise 2: Sum of Numbers\n\n"
      ]
    },
    {
      "cell_type": "markdown",
      "metadata": {},
      "source": [
        "#### Problem:\n\n"
      ]
    },
    {
      "cell_type": "markdown",
      "metadata": {},
      "source": [
        "Write a program that continually asks the user for numbers until they\nenter 'stop'. Once they enter 'stop', print out the sum of all the\nnumbers they entered.\n\n"
      ]
    },
    {
      "cell_type": "markdown",
      "metadata": {},
      "source": [
        "#### Solution:\n\n"
      ]
    },
    {
      "cell_type": "code",
      "execution_count": 1,
      "metadata": {},
      "outputs": [],
      "source": [
        "total = 0\nwhile True:\n    user_input = input(\"Enter a number (or 'stop' to finish): \")\n    if user_input == \"stop\":\n        break\n    total += float(user_input)\n    print(f\"The sum of all the numbers is: {total}\")"
      ]
    },
    {
      "cell_type": "markdown",
      "metadata": {},
      "source": [
        "### Exercise 3: Guess the Number\n\n"
      ]
    },
    {
      "cell_type": "markdown",
      "metadata": {},
      "source": [
        "#### Problem:\n\n"
      ]
    },
    {
      "cell_type": "markdown",
      "metadata": {},
      "source": [
        "Implement a number guessing game. The program should randomly select a\nnumber between 1 and 10 and ask the user to guess it. If the user's\nguess is too high or too low, it should tell them so. When the user\nguesses correctly, the program should congratulate them and show the\nnumber of attempts it took.\n\n*Tip: you can use the `randint` function from the `random` library.*\n\n"
      ]
    },
    {
      "cell_type": "markdown",
      "metadata": {},
      "source": [
        "#### Solution:\n\n"
      ]
    },
    {
      "cell_type": "code",
      "execution_count": 1,
      "metadata": {},
      "outputs": [],
      "source": [
        "import random\n\nnumber = random.randint(1, 10)\nguess = None\nattempts = 0\n\nwhile guess != number:\n    guess = int(input(\"Guess a number between 1 and 10: \"))\n    attempts += 1\n    if guess < number:\n        print(\"Too low!\")\n    elif guess > number:\n        print(\"Too high!\")\n\nprint(f\"Congratulations! You guessed the number {number} in {attempts} attempts.\")"
      ]
    }
  ],
  "metadata": [
    [
      "org"
    ],
    null,
    null
  ],
  "nbformat": 4,
  "nbformat_minor": 0
}