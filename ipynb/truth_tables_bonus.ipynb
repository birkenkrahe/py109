{
  "cells": [
    {
      "cell_type": "markdown",
      "metadata": {},
      "source": [
        "## Logic exercises I: Truth tables (bonus)\n\n"
      ]
    },
    {
      "cell_type": "markdown",
      "metadata": {},
      "source": [
        "### Exercise 1 example\n\n"
      ]
    },
    {
      "cell_type": "markdown",
      "metadata": {},
      "source": [
        "Here is an example for a solution with Python for exercise 1: given\np,q, created truth tables for a Boolean expression.\n\n$\\neg (P \\lor Q)$\n\n\"Truth table\" means: run through all values for $P$ and $Q$ and\nestablish the Boolean (truth) value for the expression. Here is the\ncode for only one pair of values: `P = True` and `Q = False`:\n\n"
      ]
    },
    {
      "cell_type": "code",
      "execution_count": 1,
      "metadata": {},
      "outputs": [
        {
          "name": "stdout",
          "output_type": "stream",
          "text": [
            "\"not (False or False)\" is True\n\"not (False or True)\" is False\n\"not (True or False)\" is False\n\"not (True or True)\" is False"
          ]
        }
      ],
      "source": [
        "p = False\nq = False\nprint(f'\"not ({p} or {q})\" is {not(p or q)}')\np = False\nq = True\nprint(f'\"not ({p} or {q})\" is {not(p or q)}')\np = True\nq = False\nprint(f'\"not ({p} or {q})\" is {not(p or q)}')\np = True\nq = True\nprint(f'\"not ({p} or {q})\" is {not(p or q)}')"
      ]
    },
    {
      "cell_type": "markdown",
      "metadata": {},
      "source": [
        "Here is the code with a `for` loop (you don't need to do that yet but I\nwanted to show it to you):\n\n"
      ]
    },
    {
      "cell_type": "code",
      "execution_count": 1,
      "metadata": {},
      "outputs": [
        {
          "name": "stdout",
          "output_type": "stream",
          "text": [
            "\"NOT (False OR False)\" is True\n\"NOT (False OR True)\" is False\n\"NOT (True OR False)\" is False\n\"NOT (True OR True)\" is False"
          ]
        }
      ],
      "source": [
        "boolean = [0,1]\nfor p in boolean:\n    for q in boolean:\n        print(f'\"NOT ({bool(p)} OR {bool(q)})\" is {not(p or q)}')"
      ]
    },
    {
      "cell_type": "markdown",
      "metadata": {},
      "source": [
        "### Exercise 2 example\n\n"
      ]
    },
    {
      "cell_type": "markdown",
      "metadata": {},
      "source": [
        "The task is to simplify the logical expression using De Morgan's\nlaw. You don't need Python to do this!\n\n$\\neg (P \\lor \\neg Q) = (\\neg P) \\land (\\neg (\\neg Q)) = (\\neg P) \\land Q$\n\nThe second step is to check with a truth table that the equality\nbetween the first and the last expression is: $\\neg (P \\lor \\neg Q) =\n(\\neg P) \\land Q$. You saw in exercise 1 how it's done, so I'm just\ngoing to use the `for` loop to do it quickly:\n\n"
      ]
    },
    {
      "cell_type": "code",
      "execution_count": 1,
      "metadata": {},
      "outputs": [
        {
          "name": "stdout",
          "output_type": "stream",
          "text": [
            "#+begin_example\nNOT (False OR NOT False) is False\n(NOT False) AND False) is False\n\nNOT (False OR NOT True) is True\n(NOT False) AND True) is True\n\nNOT (True OR NOT False) is False\n(NOT True) AND False) is False\n\nNOT (True OR NOT True) is False\n(NOT True) AND True) is False\n#+end_example"
          ]
        }
      ],
      "source": [
        "boolean = [0,1]\nfor p in boolean:\n    for q in boolean:\n        # first expression  NOT (P OR NOT Q)\n        print(f'NOT ({bool(p)} OR NOT {bool(q)}) is {bool(not (p or not q))}')\n        # second expression (NOT P) AND Q\n        print(f'(NOT {bool(p)}) AND {bool(q)}) is {bool((not p) and q)}\\n')"
      ]
    },
    {
      "cell_type": "markdown",
      "metadata": {},
      "source": [
        "Here, the expressions are all explicitly converted to `bool` because\nsometimes the results are shown as `0` and `1` instead of `False` and ~True\n\n"
      ]
    },
    {
      "cell_type": "markdown",
      "metadata": {},
      "source": [
        "### Exercise 3 example\n\n"
      ]
    },
    {
      "cell_type": "markdown",
      "metadata": {},
      "source": [
        "To determine equivalence $\\Leftrightarrow$ between two logical\nexpressions, you use the same code we've used in the last exercise,\nbut swap the first and second expression by the ones given in the\nexercise.\n\n"
      ]
    }
  ],
  "metadata": [
    [
      "org"
    ],
    null,
    null
  ],
  "nbformat": 4,
  "nbformat_minor": 0
}