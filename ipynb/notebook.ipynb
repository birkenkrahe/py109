{
  "cells": [
    {
      "cell_type": "markdown",
      "metadata": {},
      "source": [
        "## README\n\n"
      ]
    },
    {
      "cell_type": "markdown",
      "metadata": {},
      "source": [
        "-   Notes usually based on whiteboard screenshots ([GDrive](https://drive.google.com/drive/folders/1_UwbKsqmefLu97aVizfUE_qCYeg6IvHm?usp=sharing)).\n-   Includes further reading, watching and comments\n\n"
      ]
    },
    {
      "cell_type": "markdown",
      "metadata": {},
      "source": [
        "## 1.1 Monday, 21-Aug\n\n"
      ]
    },
    {
      "cell_type": "markdown",
      "metadata": {},
      "source": [
        "-   R vs. Python: two dominant data science languages ([more on the DataCamp blog](https://www.datacamp.com/blog/python-vs-r-for-data-science-whats-the-difference?irclickid=0a2UQaStbxyNWhXRYE2FCwsmUkF3qu3eNVpDxo0&irgwc=1&utm_medium=affiliate&utm_source=impact&utm_campaign=000000_1-1310690_2-mix_3-all_4-na_5-na_6-na_7-mp_8-affl-ip_9-na_10-bau_11-Admitad%20-%201310690&utm_content=TEXT_LINK&utm_term=442763))\n-   OOP = Object-Oriented Programming. [See DataCamp course chapter](https://campus.datacamp.com/courses/introduction-to-programming-paradigms/object-oriented-programming?ex=1).\n-   TIOBE: software quality control, also ranking site based on searches\n    ([tiobe.com/index](https://tiobe.com/index)). Little change among the top 10 languages. \"TIOBE\"\n    stands for \"The Importance Of Being Earnest\" ([play by Oscar Wilde](https://en.wikipedia.org/wiki/The_Importance_of_Being_Earnest)).\n-   HTML = HyperText Markup Language. Not a programming language at all,\n    but a language of meta data for layout. ([learn it @freeCodeCamp](https://www.freecodecamp.org/news/search?query=HTML)).\n-   C++ is a superset of C, i.e. C is fully contained within C++\n    (more on C vs. C++ [@freeCodeCamp](https://www.freecodecamp.org/news/c-vs-cpp-whats-the-difference/)).\n-   Scrum: agile project management method originating from software\n    engineering and now used much elsewhere ([Scrum in 20 min - video](https://youtu.be/SWDhGSZNF9M)).\n\n"
      ]
    },
    {
      "cell_type": "markdown",
      "metadata": {},
      "source": [
        "## 1.2 Wednesday, 23-Aug\n\n"
      ]
    },
    {
      "cell_type": "markdown",
      "metadata": {},
      "source": [
        "-   Opened DataCamp workspace to a sample notebook\n    at tinyurl.com/WorkspaceDemoPython\n-   Workspace has sample data, code along webinars. It runs on a virtual\n    Linux server (16GB RAM and 8 vCPUs).\n-   Interactive notebooks are much easier to use than files because\n    documentation, code and output are all integrated already.\n-   These are the steps that we save when using workspace: 1) Opening\n    Jupyter Lab launcher; 2) Opening a file editor for our first Python\n    file (\"hello world\"); 3) saving the file with the ending .py; 4)\n    opening a terminal and finding the file; 5) executing the file with\n    the `python3` command.\n-   CSV files (.csv) are comma-separated-value files i.e. individual\n    values for the cells of a table are separated by a comma.\n\n"
      ]
    },
    {
      "cell_type": "markdown",
      "metadata": {},
      "source": [
        "## 1.3 Friday, 25-Aug\n\n"
      ]
    },
    {
      "cell_type": "markdown",
      "metadata": {},
      "source": [
        "-   \"Dynamically typed\" languages take care of memory management for\n    data types (e.g. integer, floating point, character).\n-   \"Cheat sheets\" are collections of useful commands.\n-   Python libraries (like `pandas`) contain useful functions that you can\n    use in your code if you link (aka `import`) the library first.\n-   `pandas` is a library for the manipulation of tabular data (called\n    data frames). It is usually imported as the alias `pd`.\n-   The interactive notebook (aka workspace) contains text cells and\n    code cells. Text cells can be edited, code cells can be run. The\n    output appears below the code cell.\n\n"
      ]
    },
    {
      "cell_type": "markdown",
      "metadata": {},
      "source": [
        "### Week review\n\n"
      ]
    },
    {
      "cell_type": "markdown",
      "metadata": {},
      "source": [
        "1.  What are the graded course activities?\n2.  What is a sprint review?\n3.  Which tools are we using in this course?\n4.  Is \"Python code is indented\" a programming paradigm?\n5.  How many paradigms does Python support?\n6.  Can you give an example of \"modular code\"?\n7.  Which tools can you find in DataCamp workspace?\n8.  Terminal / shell / Command line interface\n9.  What are unicorn companies?\n10. `pandas` and `pd.read_csv`\n\n"
      ]
    },
    {
      "cell_type": "markdown",
      "metadata": {},
      "source": [
        "### Week preview\n\n"
      ]
    },
    {
      "cell_type": "markdown",
      "metadata": {},
      "source": [
        "-   [ ] Complete DataCamp workspace demo online\n-   [ ] Friday: talk about the project/first sprint review\n-   [ ] Tuesday: complete the first test (max 30 min)\n-   [ ] Tuesday/Thursday: complete the next DataCamp lesson (max 30 min)\n\n"
      ]
    },
    {
      "cell_type": "markdown",
      "metadata": {},
      "source": [
        "## 2.1 Monday, 28-Aug\n\n"
      ]
    },
    {
      "cell_type": "markdown",
      "metadata": {},
      "source": [
        "-   Testing the AI coding assistant.\n-   Reading error messages (beginner: jump to the end).\n-   Positional function arguments (function decides based on position\n    what it is).\n-   To get help for the `unique` function in `pandas`, use `help(unique)`.\n-   Syntax highlighting will help you distinguish (reserved) keywords.\n-   When looking for help in the documentation, jump to the end to see\n    the examples.\n-   If variables or functions aren't defined, you may have to run\n    previous cells again (see `Run` tab in workspace).\n-   Extracting a data frame column with the index operator `[]`,\n    e.g. `df['Category']` for the column named `'Category'` in `df`.\n-   To print items one per line (with a dummy variable), loop over the\n    values and `print` them one by one, or use a *list comprehension*.\n-   Python can be written in a very condensed way (\"one-liners\").\n\n"
      ]
    },
    {
      "cell_type": "markdown",
      "metadata": {},
      "source": [
        "## 2.2 Wednesday, 30-Aug\n\n"
      ]
    },
    {
      "cell_type": "markdown",
      "metadata": {},
      "source": [
        "-   The dot operator allows you to access functions or attributes in\n    so-called classes (categories), e.g. `pd.unique` or\n    `str.lower().title()`.\n-   Python errors are named.\n-   The `[]` operator is an index operator when it follows a structure\n    like a data frame, or the delimiter for the `list` data structure.\n-   Grouping records by a values of a column using `group_by`.\n-   The 'not defined' error message may mean that some cells (with\n    definitions, e.g. to create a data frame) were not run.\n-   Looking information up online.\n-   Shared editing allows you to write code or text in other people's\n    notebooks.\n-   Computing the `size` of a subset and sorting it.\n-   Quick barplot plotting with `plotly.express.bar`.\n-   Checking a data type with `type`.\n\n"
      ]
    },
    {
      "cell_type": "markdown",
      "metadata": {},
      "source": [
        "## 2.3 Friday, 1-Sep\n\n"
      ]
    }
  ],
  "metadata": {
    "org": null,
    "kernelspec": {
      "display_name": "Python 3",
      "language": "python",
      "name": "python3"
    },
    "language_info": {
      "codemirror_mode": {
        "name": "ipython",
        "version": 3
      },
      "file_extension": ".py",
      "mimetype": "text/x-python",
      "name": "python",
      "nbconvert_exporter": "python",
      "pygments_lexer": "ipython3",
      "version": "3.5.2"
    }
  },
  "nbformat": 4,
  "nbformat_minor": 0
}