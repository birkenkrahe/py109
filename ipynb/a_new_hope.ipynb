{
  "cells": [
    {
      "cell_type": "markdown",
      "metadata": {},
      "source": [
        "Problem: Repeat the word \"far\" exactly N times in the following output\nformat: A long time ago, in a galaxy far, far away&#x2026;\n\nInput: integer number of \"far\" N > 1\n\nOutput: sentence that includes N times \"far\"\n\nVariables: N\n\nFunctions: `+` to concatenate strings, `=` to assign, `*` to replicate\nstrings, `str.strip` to remove trailing characters from string.\n\nSolution 1: almost right but misses out on the commas between \"far\"\ninstances required to solve the problem fully.\n\n"
      ]
    },
    {
      "cell_type": "code",
      "execution_count": 1,
      "metadata": {},
      "outputs": [
        {
          "name": "stdout",
          "output_type": "stream",
          "text": [
            "A long time ago, in a galaxy far, far far away..."
          ]
        }
      ],
      "source": [
        "N = 2\nfarAway = \"far \" * N\nprint(\"A long time ago, in a galaxy far, \" + farAway + \"away...\")"
      ]
    },
    {
      "cell_type": "markdown",
      "metadata": {},
      "source": [
        "The function `str.strip` will strip the trailing character away:\n\n"
      ]
    },
    {
      "cell_type": "code",
      "execution_count": 1,
      "metadata": {},
      "outputs": [
        {
          "name": "stdout",
          "output_type": "stream",
          "text": [
            "far, far"
          ]
        }
      ],
      "source": [
        "foo = \"far, far,\"\nprint(foo.strip(\",\"))"
      ]
    },
    {
      "cell_type": "markdown",
      "metadata": {},
      "source": [
        "Solution 2:\n\n"
      ]
    },
    {
      "cell_type": "code",
      "execution_count": 1,
      "metadata": {},
      "outputs": [
        {
          "name": "stdout",
          "output_type": "stream",
          "text": [
            "A long time ago, in a galaxy far, far away..."
          ]
        }
      ],
      "source": [
        "N = 2\nfarAway = \"far, \" * N\nprint(\"A long time ago, in a galaxy \" + farAway.strip(\", \") + \" away...\")"
      ]
    }
  ],
  "metadata": [
    [
      "org"
    ],
    null,
    null
  ],
  "nbformat": 4,
  "nbformat_minor": 0
}