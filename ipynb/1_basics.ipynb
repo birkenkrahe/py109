{
  "cells": [
    {
      "cell_type": "markdown",
      "metadata": {},
      "source": "PYTHON BASICS\n=============\n\n**Author:** Marcus Birkenkrahe\n\n"
    },
    {
      "cell_type": "markdown",
      "metadata": {},
      "source": [
        "## Python Basics\n\n"
      ]
    },
    {
      "cell_type": "markdown",
      "metadata": {},
      "source": [
        "-   Python is a rich high-level programming language (like C or R) with\n    many features. To master it takes a long time (5-10 years).\n\n-   To write handy little programs that automate 'boring' tasks, you\n    only need some basics:\n    1.  expressions 2 + 2\n    2.  data types  integer\n    3.  variables  spam\n    4.  statements spam = 1\n    5.  debugging dealing with errors\n\n-   When I lecture, you should always keep Python open to code along:\n    1.  Google Colab notebook\n    2.  IDLE interactive shell\n    3.  `python` on the command line\n    4.  Console in replit.com or DataCamp workspace\n\n-   The code is available as [GitHub gist](https://gist.github.com/birkenkrahe/445237c66cb015ca243c3c5fe40f9888) and in the `ipynb` directory.\n\n"
      ]
    },
    {
      "cell_type": "markdown",
      "metadata": {},
      "source": [
        "## Expressions: values and operators ([gist](https://gist.github.com/birkenkrahe/6fc1fca1e9021e0837175d41972bcb29))\n\n"
      ]
    },
    {
      "cell_type": "markdown",
      "metadata": {},
      "source": [
        "-   Open an interactive Python shell. I have changed the default\n    settings in Colab to open with a \"scratchpad\" (not saved!).\n\n-   Enter the classic formula `2 + 2` at the prompt and press `RET` (Enter)\n    to (hopefully) get the classic answer `4`.\n\n-   In Colab, if you run your code with `SHIFT + ENTER`, you get a new\n    code cell right away. If you us `CTRL + ENTER` you get nothing but now\n    you can add a text cell below with `CTRL + ALT + t`\n\n-   `2 + 2` is called an *expression*, a basic programming instruction.\n\n-   An expression consist of *values* (such as `2`) in computer memory, and\n    *operators* (such as the binary operator `+`), which are *functions*.\n\n-   Expressions can always *evaluate* i.e. reduce to a single value - so\n    you can e.g. use `2+2` anywhere instead of `4` because you know it's\n    going to be reduced to `4`.\n\n-   Examples:\n    1.  use `2+2` as the *argument* of a `print` function.\n    2.  use `2+2` as the argument of a `str` function.\n\n-   A single value like `2` is also an expression (it doesn't express\n    anything else but itself) and evaluates to itself.\n\n"
      ]
    },
    {
      "cell_type": "markdown",
      "metadata": {},
      "source": [
        "## Error messages\n\n"
      ]
    },
    {
      "cell_type": "markdown",
      "metadata": {},
      "source": [
        "-   When Python cannot evaluate an expression, it \"throws\" an\n    error. Here is [list of common error messages](http://inventwithpython.com/appendixd.html) in Python with a plain\n    English explanation (Sweigart, 2019).\n\n-   Let's create a couple of error messages using wrong expressions:\n    1.  Enter `2 +`\n    2.  Enter `2 + '2'`\n    3.  Enter `2` and then on the next line enter `2` again in the 2nd column\n    4.  Enter `2 + ++ 2` then change the first `+` to a `-`\n\n"
      ]
    },
    {
      "cell_type": "markdown",
      "metadata": {},
      "source": [
        "## Operators\n\n"
      ]
    },
    {
      "cell_type": "markdown",
      "metadata": {},
      "source": [
        "-   The table shows a lit of all math operators in Python. They are\n    listed from highest to lowest precedence:\n    \n    ![img](../img/py_ops.png)\n\n-   The precedence is the order of operations: when Python gets an\n    expression with more than one operator, it evaluates from left to\n    right (you can force execution with parentheses).\n\n-   For example, the expression `-2+24/8` is evaluated as `1` and not as\n    `2.75` because `(24/8)=3` and `3-2=1`:\n    1.  Enter `-2 + 24 / 8`\n    2.  Enter `(-2 + 24) / 8`\n\n-   So-called \"whitespace\" (empty space) between symbols does not\n    matter, so `24/8` is evaluated identically to `24 / 8`.\n\n-   Enter the following expressions into the interactive shell:\n    \n        2 + 3 * 6\n        (2 + 3) * 6\n        48565857 * 578453\n        2 ** 8\n        23 / 7\n        23 // 7\n        2      +     2\n        (5 - 1) * ((7 + 1 ) / (3 - 1))\n\n-   You should get this result:\n    \n    ![img](../img/py_ops_example.png \"Expressions in the interactive Python shell (in Emacs)\")\n\n-   The next diagram shows how Python ruthlessly evaluates parts of the\n    expression until it has reached a single value:\n    \n    ![img](../img/py_ops_example1.png \"Evaluation of composite expression to a single value\")\n\n"
      ]
    },
    {
      "cell_type": "markdown",
      "metadata": {},
      "source": [
        "## Variables\n\n"
      ]
    },
    {
      "cell_type": "markdown",
      "metadata": {},
      "source": [
        "-   A data type is a category for values: every value belongs to exactly\n    one data type.\n\n-   Variables in Python do not need to be declared but they are\n    dynamically typed, i.e. at runtime.\n\n-   Common data types are listed in this table:\n    \n    ![img](../img/1_data_types.png \"Common data types (Source: Sweigart, 2019)\")\n\n-   Python's names for these data types are: `int`, `float` and `str`.\n\n-   The `type` function reveals a value's or a variable's data type:\n    \n        type(-2)\n        type(2)\n        type(1.25)\n        type('a')\n        type('name')\n        type(a)\n\n-   Why does `type(a)` give a \"Name Error\"? Because Python expects a\n    variable named `a`.\n\n"
      ]
    },
    {
      "cell_type": "markdown",
      "metadata": {},
      "source": [
        "## String concatenation and replication\n\n"
      ]
    },
    {
      "cell_type": "markdown",
      "metadata": {},
      "source": [
        "-   The meaning of an operator may change based on the data types of its\n    operands.\n\n-   Enter the following examples in separate code cells (otherwise you\n    only get the last result - or you have to add `print`).\n\n-   Examples:\n    1.  `'Alice' + 'Bob'`\n    2.  `'Alice' + 42`\n\n-   Python can only concatenate numbers or strings. You have to\n    explicitly convert the 2nd argument to a string:\n    1.  `'Alice' + str(42)`\n    2.  `'Alice' + str(Bob)`\n\n-   Unless `Bob` is initialized as an integer, this will not work:\n    1.  `Bob = 42`\n    2.  `'Alice' + str(Bob)`\n\n-   The `*` operator can be used with one string and one integer value for\n    replication:\n    1.  `'Alice' * 'Bob'`\n    2.  `'Alice' * 5.0`\n    3.  `'Alice' * 5`\n    4.  `'Alice' * int(5.0)`\n\n"
      ]
    },
    {
      "cell_type": "markdown",
      "metadata": {},
      "source": [
        "## Assignments: storing values in variables\n\n"
      ]
    },
    {
      "cell_type": "markdown",
      "metadata": {},
      "source": [
        "-   A *variable* is like a box in the computer's memory where you can\n    store a single value.\n\n-   You store values in variables with an `assignment statement`,\n    consisting of: a variable name, the `=` operator, and the value.\n\n-   A variable is initialized or created the first time a value is\n    stored in it.\n\n-   When a variable is assigned a new value, the old value is forgotten.\n\n-   For variables and flow control visualization, the site\n    `pythontutor.com` is particularly valuable.\n    \n    ![img](../img/py_pythontutor.png \"pythontutor.com home page\")\n\n-   To visualize this, open `pythontutor.com` and enter this code:\n    \n        spam = 40\n        eggs = 2\n        spam + eggs\n        spam + eggs + spam\n        spam = spam + eggs\n        print(spam)\n\n-   Similarly for strings:\n    \n        spam = 'Hello'\n        print(spam)\n        spam = 'Goodbye'\n        print(spam)\n\n"
      ]
    },
    {
      "cell_type": "markdown",
      "metadata": {},
      "source": [
        "## Variable names\n\n"
      ]
    },
    {
      "cell_type": "markdown",
      "metadata": {},
      "source": [
        "![img](../img/py_variable_names.png)\n\n-   You can name a variable anything as long as it obeys these rules:\n    1.  It can be only one word with no spaces\n    2.  It can only use letters, numbers and the underscore character (`_`)\n    3.  It can't begin with a number\n\n-   You should not use Python keywords, symbols, function or module\n    names as your variables (though you may be allowed to).\n\n-   Variables in Python are case-sensitive.\n\n-   Some people prefer camel-case for variable names instead of\n    underscores: `helloWorld` instead of `hello_world`. Either is OK.\n\n"
      ]
    },
    {
      "cell_type": "markdown",
      "metadata": {},
      "source": [
        "## Warming up: spooky season\n\n"
      ]
    },
    {
      "cell_type": "markdown",
      "metadata": {},
      "source": [
        "![img](../img/spooky.jpg \"\"spooky\" by Tony Coates (flickr.com)\")\n\n-   Problem: print \"spooky\" with 2 to 20 vowels ([solution](https://gist.github.com/birkenkrahe/3c4487280dbfaa10963be8a598a4ad53)).\n\n-   **Let's do it together** - open a new Colab notebook `spooky.ipynb` for:\n    1.  solution flow (from input to output)\n    2.  variables (storing values)\n    3.  functions and operators (doing stuff)\n    4.  implementation (coding)\n    5.  testing (debugging)\n    6.  production (submission)\n\n"
      ]
    },
    {
      "cell_type": "markdown",
      "metadata": {},
      "source": [
        "## Understanding standard data streams\n\n"
      ]
    },
    {
      "cell_type": "markdown",
      "metadata": {},
      "source": [
        "-   We want to write a program that\n    1.  Says 'Hello world!'\n    2.  Asks for your name\n    3.  Greets you with your name\n    4.  Tells you how many characters your name has\n    5.  Asks for your age\n    6.  Tells you how old you're going to be in one year\n\n-   We're going to use this command sequence to learn a few functions\n    useful to get input from the keyboard and manipulate text.\n\n-   Check the `help` for `input` in the Python reference manual, or in\n    Colab, enter `input?` to get the *docstring*:\n    \n    ![img](../img/input.png \"Python help for keyboard input() function\")\n\n-   What does this mean?\n    1.  `input` reads a string from the keyboard or from a file (*stdin*)\n    2.  If `input()` is used, the default `prompt` is missing (`None`)\n    3.  If a prompt is used, it is printed without newline (*stdout*)\n    4.  If CTRL-D (End Of File) is hit, an `EOFError` is raised.\n\n-   Standard input, output and error are the three data streams:\n    \n    ![img](../img/streams.png \"stdin, stdout, stderr for two shell commands\")\n\n-   Their standard direction is the screen but they can be redirected\n    anywhere, e.g. into files:\n\n"
      ]
    },
    {
      "cell_type": "code",
      "execution_count": 1,
      "metadata": {},
      "outputs": [
        {
          "name": "stdout",
          "output_type": "stream",
          "text": [
            ": Hello, world"
          ]
        }
      ],
      "source": [
        "rm hello 2&>/dev/null\necho \"Hello, world\" > hello\ncat hello"
      ]
    },
    {
      "cell_type": "markdown",
      "metadata": {},
      "source": [
        "## Getting input from the keyboard\n\n"
      ]
    },
    {
      "cell_type": "markdown",
      "metadata": {},
      "source": [
        "-   Step 1: Ask for user's `name` and print out the number of characters\n    in the name:\n    \n        print('hello world')\n        name = input('What is your name?' )\n        print('Good to meet you,' + name)\n        print('Your name has', len(name), 'characters')\n\n-   Why did we not use the `+` operator in the last line? Try it.\n\n-   Step 2: ask for user's age and print out age one year from now:\n    \n        print('What is your age?')\n        age = input()\n        print('You are going to be ' + str(int(age) + 1) + ' years old')\n\n"
      ]
    },
    {
      "cell_type": "markdown",
      "metadata": {},
      "source": [
        "## Python script infrastructure\n\n"
      ]
    },
    {
      "cell_type": "markdown",
      "metadata": {},
      "source": [
        "-   Not to forget about the Python script infrastructure:\n    1.  You can save the Python code of your notebook as `.py` file\n    2.  Open `File > Download > Download as .py`\n    3.  Look at the file (`\"\"\" ... \"\"\"` is a multi-line comment)\n    4.  You can run the script on the terminal\n\n"
      ]
    },
    {
      "cell_type": "markdown",
      "metadata": {},
      "source": [
        "## Getting keyboard input with a prompt\n\n"
      ]
    },
    {
      "cell_type": "markdown",
      "metadata": {},
      "source": [
        "-   To save code, let's use the ability of `input` to display a `prompt` (as\n    shown in the docstring with `input?`:\n    1.  Put both programs in one code cell.\n    2.  Use `input` to ask for the `name` and the `age`.\n    3.  Print greeting with `name`, length of `name`.\n    4.  Print `age` next year.\n    5.  Sample run (terminal):\n        \n        ![img](../img/prompt.png \"Testing input with prompt\")\n\n-   Step 3: getting `input` with `prompt`:\n    \n        print(\"Hello world!\")\n        name = input(\"What is your name? \")\n        print(\"Good to meet you, \" + name)\n        print(\"Your name has \", len(name), \" characters\")\n        age = input(\"What is your age? \")\n        print(\"You're going to be \" + str(int(age) + 1) + \" years old\")\n\n"
      ]
    },
    {
      "cell_type": "markdown",
      "metadata": {},
      "source": [
        "## Getting two input values at once\n\n"
      ]
    },
    {
      "cell_type": "markdown",
      "metadata": {},
      "source": [
        "-   Step 4: getting two input values at once with `split`:\n    \n        print(\"Hello world!\")\n        input_data = input(\"Enter name and age separated by a space: \")\n        name, age = input_data.split()\n        print(\"Good to meet you, \" + name)\n        print(\"Your name has \", len(name), \" characters\")\n        print(\"You're going to be \" + str(int(age) + 1) + \" years old\")\n\n-   Check out the docstring of this new function with: `split?`.\n\n>   - `split` is a string method - outside of `str` it has no meaning.\n>   - You have to look for `str.split?` to get the docstring.\n>   - Notice that `str.split()?` or `help(str.split())` throw errors.\n\n"
      ]
    },
    {
      "cell_type": "markdown",
      "metadata": {},
      "source": [
        "## Function preview\n\n"
      ]
    },
    {
      "cell_type": "markdown",
      "metadata": {},
      "source": [
        "-   Functions in your code are like mini programs. We called six\n    functions: `print`, `input`, `len`, `int`, `str`, `split`:\n    1.  `print` prints its arguments but can also evaluate:\n        \n            print(\"Hi\")\n            print(5 + 5)\n    2.  `input` takes input from the keyboard or from the command line\n        (input stream `stdin`) and either prints it or\n        lets you assign it to a variable (output stream `stdout`):\n        \n            input(\"What's your name? \") # prints and waits for input\n    3.  `len` computes the length of its (string) argument and returns an\n        integer:\n        \n            print(len(\"Birkenkrahe\"))\n            var = 'Dampfschiffahrtsgesellschaftskapitän'\n            print(len(var))  # with the len() function\n            print(var.__len__())  # with the str.__len__ method\n    4.  `str` returns its value as a string:\n        \n            print(str(1000) + \" random numbers\")\n            print(str('1000') + \" random numbers\")\n    5.  `split` returns a `list` of words that can be split up among\n        different variables:\n        \n            name = \"Marcus 2  Birkenkrahe\"\n            print(name.split()) # default: split on whitespace, ignore ' '\n            first, last = name.split()  # split name in two parts\n            print(first,last)\n            print(first + last)\n\n"
      ]
    },
    {
      "cell_type": "markdown",
      "metadata": {},
      "source": [
        "## A few open questions\n\n"
      ]
    },
    {
      "cell_type": "markdown",
      "metadata": {},
      "source": [
        "-   What does the expression `str(int(age) + 1)` do?\n    1.  `age` is string `input`\n    2.  `int(age)` converts the string to a number - you cannot do that\n        with any character like \"a\": `int(\"a\")` throws an error. To convert\n        characters to their Unicode standard, you need to use `ord`:\n        \n            print(int(\"25\"))\n            print(ord(\"a\"))\n            print(ord(\"A\"))\n    3.  `int(age) + 1` adds 1 to whatever number `int(age)` evaluates to:\n        \n            age = \"25\"\n            print(age)\n            print(age + \" years old\")\n            print(int(age))\n            print(int(age)+1)\n    4.  `str(int(age) + 1)` converts the result to a string:\n        \n            age = \"25\"\n            print(age)\n            print(age + \" years old\")\n            print(int(age))\n            print(int(age)+1)\n            print(str(int(age)+1))\n            print(str(int(age)+1) + \" years old\")\n\n-   [Here is an HTML animation to illustrate these steps](https://automatetheboringstuff.com/eval/3-4.html) (Sweigart, 2023)\n\n-   `split(self, / , sep=None, maxsplit=-1)` is a *string method* with two\n    optional (defaulted) arguments - it returns list of words in the\n    string using `sep` as the delimiter, at most `maxsplit` splits are done:\n    elements (note the implicit arguments):\n    \n        print('1,2,3'.split(','))  # default maxsplit = -1 means no limit\n        print('1,2,3'.split(',',0)) # don't split\n        print('1,2,3'.split(',',1)) # split once\n        print('1,2,3'.split(',',2)) # split twice\n        print('1,2,3'.split(',',3)) # split thrice - nothing more to do\n\n-   The dot-operator `.` is an *accessor*: it allows you to access anything\n    that's stored inside an object, e.g. the *string* class `str`, or an\n    instance of that class, a particular string.\n\n-   What happens when the string to be split does not have substrings?\n    \n        a, b = 'Marcus'.split()\n        print(a,b)\n\n-   Why?\n    \n        help(str.split)\n\n-   What does the `/` refer to in the `str.split` docstring:\n    \n        str.split(self, /, sep=None, maxsplit=-1)\n    \n    The `/` is a *parameter separator*: it denotes the end of\n    positional-only parameters. After `self` (the string itself), the\n    parameters `sep` and `maxsplit` can be explicitly assigned:\n    \n        print(str.split('Marcus Birkenkrahe'))\n        print(str.split('Marcus_Birkenkrahe','_'))\n        print(str.split('Marcus_Birkenkrahe',sep='_'))\n        print('Marcus_Birkenkrahe'.split(sep='_'))\n        print('Marcus_Birkenkrahe'.split('_'))\n\n"
      ]
    },
    {
      "cell_type": "markdown",
      "metadata": {},
      "source": [
        "## Summary\n\n"
      ]
    },
    {
      "cell_type": "markdown",
      "metadata": {},
      "source": [
        "-   An instruction that evaluates to a single value is an\n    **expression**. An instruction that doesn't is a **statement**.\n-   Data types are: integer (`int`), floating-point (`float`), string (`str`)\n-   Strings hold text and begin and end with quotes: `‘Hello world!'`\n-   Strings can be concatenated (`+`) and replicated (`*`)\n-   Values can be stored in variables: `spam = 42`\n-   Variables can be used anywhere where values can be used in\n    expressions: `spam + 1`\n-   Variable names: one word, letters, numbers (not at beginning),\n    underscore only\n-   Comments begin with a # character and are ignored by Python; they\n    are notes & reminders for the programmer.\n-   Functions are like mini-programs in your program.\n-   The `print` function displays the value passed to it.\n-   The `input` function lets users type in a value.\n-   The `len` function takes a string value and returns an integer value\n    of the string's length.\n-   The `int`, `str`, and `float` functions can be used to convert data.\n\n"
      ]
    },
    {
      "cell_type": "markdown",
      "metadata": {},
      "source": [
        "## Glossary\n\n"
      ]
    },
    {
      "cell_type": "markdown",
      "metadata": {},
      "source": [
        "| TERM/COMMAND|MEANING|\n|---|---|\n| expression|a basic programming instruction, like <code>2+2</code>|\n| values|something stored in a computer memory cell|\n| operator|a function that takes values to evaluate them|\n| binary operator|an operator that takes 2 values as arguments|\n| whitespace|empty space between values or operators|\n| indentation|empty spaces at the beginning of a line|\n| precedence|order of operations|\n| Syntax error|you've broken the grammatical Python rules|\n| Type error|you've made a mistake with data types|\n| Concatenation|adding strings with +|\n| Replication|replicating strings with *|\n| Conversion|changing data types|\n| Coercion|implicit conversion of data types|\n| File type|used by the computer to identify a language|\n| Data type|used by the computer to reserve memory|\n| <code>print</code>|printing function|\n| <code>input</code>|takes input from stdin (e.g. keyboard, file)|\n| <code>len</code>|returns length of argument|\n| <code>str.split</code>|splits string into substrings|\n| <code>str.strip</code>|removes leading and trailing whitespace|\n| <code>int</code>, <code>float</code>, <code>str</code>|data type conversion functions|\n\n"
      ]
    },
    {
      "cell_type": "markdown",
      "metadata": {},
      "source": [
        "## References\n\n"
      ]
    },
    {
      "cell_type": "markdown",
      "metadata": {},
      "source": [
        "-   pythontutor.com (2023). Visualize code execution.\n-   Sweigart, A. (2016). Invent your own computer games with\n    Python. NoStarch. URL: [inventwithpython.com](http://inventwithpython.com/).\n-   Sweigart, A. (2019). Automate the boring stuff with\n    Python. NoStarch. URL: [automatetheboringstuff.com](http://automatetheboringstuff.com).\n\n"
      ]
    }
  ],
  "metadata": [
    [
      "org"
    ],
    null,
    null
  ],
  "nbformat": 4,
  "nbformat_minor": 0
}