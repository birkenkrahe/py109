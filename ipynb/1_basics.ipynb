{
  "cells": [
    {
      "cell_type": "markdown",
      "metadata": {},
      "source": "PYTHON BASICS\n=============\n\n**Author:** Marcus Birkenkrahe\n\n"
    },
    {
      "cell_type": "markdown",
      "metadata": {},
      "source": [
        "## Python Basics\n\n"
      ]
    },
    {
      "cell_type": "markdown",
      "metadata": {},
      "source": [
        "To write handy little programs that automate 'boring' tasks, you only\nneed some basics:\n\n1.  expressions `2 + 2`\n2.  data types like `integer`\n3.  variables like `spam`\n4.  statements like `spam = 1`\n5.  debugging dealing with errors like `NameError`\n\nThe code is available as [GitHub gist](https://gist.github.com/birkenkrahe/445237c66cb015ca243c3c5fe40f9888) and in the `ipynb` [in GitHub](https://github.com/birkenkrahe/py109/tree/main/ipynb).\n\n"
      ]
    },
    {
      "cell_type": "markdown",
      "metadata": {},
      "source": [
        "## Expressions: values and operators ([gist](https://gist.github.com/birkenkrahe/6fc1fca1e9021e0837175d41972bcb29))\n\n"
      ]
    },
    {
      "cell_type": "markdown",
      "metadata": {},
      "source": [
        "Enter the classic formula `2 + 2` at the prompt and press `RET` (Enter)\nto (hopefully) get the classic answer `4`.\n\n"
      ]
    },
    {
      "cell_type": "code",
      "execution_count": 1,
      "metadata": {},
      "outputs": [
        {
          "name": "stdout",
          "output_type": "stream",
          "text": [
            "4"
          ]
        }
      ],
      "source": [
        "print(2+2)"
      ]
    },
    {
      "cell_type": "markdown",
      "metadata": {},
      "source": [
        "`2 + 2` is called an *expression*, a basic programming instruction.\n\nAn expression consist of *values* (such as `2`) in computer memory, and\n*operators* (such as the binary operator `+`), which are *functions*.\n\nExpressions can always *evaluate* i.e. reduce to a single value - so\nyou can e.g. use `2+2` anywhere instead of `4` because you know it's\ngoing to be reduced to `4`.\n\nExamples:\n\n1.  use `2+2` as the *argument* of a `print` function.\n2.  use `2+2` as the argument of a `str` function.\n3.  look at the help for `print`\n4.  look at the help for `str`\n\n"
      ]
    },
    {
      "cell_type": "code",
      "execution_count": 1,
      "metadata": {},
      "outputs": [
        {
          "name": "stdout",
          "output_type": "stream",
          "text": [
            "4\n4"
          ]
        }
      ],
      "source": [
        "print(2+2)\nprint(str(2+2))"
      ]
    },
    {
      "cell_type": "markdown",
      "metadata": {},
      "source": [
        "A single value like `2` is also an expression (it doesn't express\nanything else but itself) and evaluates to itself.\n\n"
      ]
    },
    {
      "cell_type": "markdown",
      "metadata": {},
      "source": [
        "## Error messages\n\n"
      ]
    },
    {
      "cell_type": "markdown",
      "metadata": {},
      "source": [
        "When Python cannot evaluate an expression, it \"throws\" an\nerror. Here is [list of common error messages](http://inventwithpython.com/appendixd.html) in Python with a plain\nEnglish explanation (Sweigart, 2019).\n\nLet's create a couple of error messages using wrong expressions:\n\n1.  Enter `2 +`\n2.  Enter `2 + '2'`\n3.  Enter `2` and then on the next line enter `2` again\n4.  Enter `2` then `\\` and then on the next line `2` again\n5.  Enter `2 + ++ 2` then change the first `+` to a `-`\n\n"
      ]
    },
    {
      "cell_type": "code",
      "execution_count": 1,
      "metadata": {},
      "outputs": [],
      "source": [
        ""
      ]
    },
    {
      "cell_type": "markdown",
      "metadata": {},
      "source": [
        "## Operators\n\n"
      ]
    },
    {
      "cell_type": "markdown",
      "metadata": {},
      "source": [
        "The table shows a list of all math operators in Python. They are\nlisted from highest to lowest precedence:\n\n\\![img](\"file\")\n\nThe precedence is the order of operations: when Python gets an\nexpression with more than one operator, it evaluates from left to\nright (you can force execution with parentheses).\n\nFor example, the expression `-2+24/8` is evaluated as `1` and not as `2.75`\nbecause `(24/8)=3` and `3-2=1`:\n\n1.  Enter `-2 + 24 / 8`\n2.  Enter `(-2 + 24) / 8`\n\n"
      ]
    },
    {
      "cell_type": "code",
      "execution_count": 1,
      "metadata": {},
      "outputs": [],
      "source": [
        ""
      ]
    },
    {
      "cell_type": "markdown",
      "metadata": {},
      "source": [
        "So-called \"whitespace\" (empty space) between symbols does not\nmatter, so `24/8` is evaluated identically to `24 / 8`.\n\nEnter the following expressions into the interactive shell:\n\n    2 + 3 * 6\n    (2 + 3) * 6\n    48565857 * 578453\n    2 ** 8\n    23 / 7\n    23 // 7\n    2      +     2\n    (5 - 1) * ((7 + 1 ) / (3 - 1))\n\nYou can see the result in `py_ops_example.png`.\n\n![img](../img/py_ops_example.png \"Expressions in the interactive Python shell (in Emacs)\")\n\nThis diagram shows how Python ruthlessly evaluates parts of the\nexpression until it has reached a single value: `py_ops_example1.png`.\n\n![img](../img/py_ops_example1.png \"Evaluation of composite expression to a single value\")\n\n"
      ]
    },
    {
      "cell_type": "markdown",
      "metadata": {},
      "source": [
        "## Variables\n\n"
      ]
    },
    {
      "cell_type": "markdown",
      "metadata": {},
      "source": [
        "A data type is a category for values: every value belongs to exactly\none data type.\n\nVariables in Python do not need to be declared but they are\ndynamically typed, i.e. at runtime.\n\nCommon data types are listed in this table: `1_data_types.png` - insert\nit here:\n\n![img](../img/1_data_types.png \"Common data types (Source: Sweigart, 2019)\")\n\nPython's names for these data types are:\n\n-   `int` for integer numbers,\n-   `float` for floating point numbers,\n-   `str` for strings.\n\nThe `type` function reveals a value's or a variable's data type: check\nthe type of `-2`, `2`, `1.25`, `'a'`, `'name'`, `a`.\n\n    type(-2)\n    type(2)\n    type(1.25)\n    type('a')\n    type('name')\n    type(a)\n\nWhy does `type(a)` give a \"Name Error\"? Answer: Because Python expects a\nvariable named `a`, which is not defined.\n\n"
      ]
    },
    {
      "cell_type": "markdown",
      "metadata": {},
      "source": [
        "## String concatenation and replication\n\n"
      ]
    },
    {
      "cell_type": "markdown",
      "metadata": {},
      "source": [
        "The meaning of an operator may change based on the data types of its\noperands.\n\nEnter the following examples in separate code cells (otherwise you\nonly get the last result - or you have to add `print`). Create a new\ncode cell after the current cell by typing `b`.\n\nExamples:\n\n1.  `'Alice' + 'Bob'`\n2.  `'Alice' + 42`\n\n"
      ]
    },
    {
      "cell_type": "code",
      "execution_count": 1,
      "metadata": {},
      "outputs": [
        {
          "name": "stdout",
          "output_type": "stream",
          "text": [
            "AliceBob"
          ]
        }
      ],
      "source": [
        "print('Alice' + 'Bob')\nprint('Alice' + 42)"
      ]
    },
    {
      "cell_type": "markdown",
      "metadata": {},
      "source": [
        "Python can only concatenate numbers or strings. You have to\nexplicitly convert the 2nd argument to a string:\n\n1.  `'Alice' + str(42)`\n2.  `'Alice' + str(Bob)`\n\n"
      ]
    },
    {
      "cell_type": "code",
      "execution_count": 1,
      "metadata": {},
      "outputs": [],
      "source": [
        ""
      ]
    },
    {
      "cell_type": "markdown",
      "metadata": {},
      "source": [
        "Unless `Bob` is initialized as an integer, this will not work:\n\n1.  `Bob = 42`\n2.  `'Alice' + str(Bob)`\n\n"
      ]
    },
    {
      "cell_type": "code",
      "execution_count": 1,
      "metadata": {},
      "outputs": [],
      "source": [
        ""
      ]
    },
    {
      "cell_type": "markdown",
      "metadata": {},
      "source": [
        "The `*` operator can be used with one string and one integer value for\nreplication:\n\n1.  `'Alice' * 'Bob'`\n2.  `'Alice' * 5.0`\n3.  `'Alice' * 5`\n4.  `'Alice' * int(5.0)`\n\n"
      ]
    },
    {
      "cell_type": "code",
      "execution_count": 1,
      "metadata": {},
      "outputs": [],
      "source": [
        ""
      ]
    },
    {
      "cell_type": "markdown",
      "metadata": {},
      "source": [
        "## Assignments: storing values in variables\n\n"
      ]
    },
    {
      "cell_type": "markdown",
      "metadata": {},
      "source": [
        "A *variable* is like a box in the computer's memory where you can\nstore a single value.\n\nYou store values in variables with an `assignment statement`,\nconsisting of: a variable name, the `=` operator, and the value.\n\nA variable is initialized or created the first time a value is\nstored in it.\n\nWhen a variable is assigned a new value, the old value is forgotten.\n\nFor variables and flow control visualization, the site\n`pythontutor.com` is particularly valuable.\n\n![img](../img/py_pythontutor.png \"pythontutor.com home page\")\n\nTo visualize this, open `pythontutor.com` and enter this code:\n\n    spam = 40\n    eggs = 2\n    spam + eggs\n    spam + eggs + spam\n    spam = spam + eggs\n    print(spam)\n\nSimilarly for strings:\n\n    spam = 'Hello'\n    print(spam)\n    spam = 'Goodbye'\n    print(spam)\n\n"
      ]
    },
    {
      "cell_type": "markdown",
      "metadata": {},
      "source": [
        "## Variable names\n\n"
      ]
    },
    {
      "cell_type": "markdown",
      "metadata": {},
      "source": [
        "Insert the table `py_variable_names.png` for example of valid and invalid\nvariable names.\n\n![img](../img/py_variable_names.png)\n\nYou can name a variable anything as long as it obeys these rules:\n\n1.  It can be only one word with no spaces\n2.  It can only use letters, numbers and the underscore character (`_`)\n3.  It can't begin with a number\n\nYou should not use Python keywords, symbols, function or module\nnames as your variables (though you may be allowed to).\n\nVariables in Python are case-sensitive.\n\nSome people prefer camel-case for variable names instead of\nunderscores: `helloWorld` instead of `hello_world`. Either is OK.\n\n"
      ]
    },
    {
      "cell_type": "markdown",
      "metadata": {},
      "source": [
        "## Warming up: spooky season\n\n"
      ]
    },
    {
      "cell_type": "markdown",
      "metadata": {},
      "source": [
        "![img](../img/spooky.jpg \"\"spooky\" by Tony Coates (flickr.com)\")\n\nProblem: print \"spooky\" with 2 to 20 vowels ([solution](https://gist.github.com/birkenkrahe/3c4487280dbfaa10963be8a598a4ad53)).\n\n**Let's do it together** - open a new notebook `spooky.ipynb` for:\n\n1.  solution flow (from input to output)\n2.  variables (storing values)\n3.  functions and operators (doing stuff)\n4.  implementation (coding)\n5.  testing (debugging)\n6.  production (submission)\n\n"
      ]
    },
    {
      "cell_type": "markdown",
      "metadata": {},
      "source": [
        "## Summary\n\n"
      ]
    },
    {
      "cell_type": "markdown",
      "metadata": {},
      "source": [
        "-   An instruction that evaluates to a single value is an\n    **expression**. An instruction that doesn't is a **statement**.\n-   Data types are: integer (`int`), floating-point (`float`), string (`str`)\n-   Strings hold text and begin and end with quotes: `‘Hello world!'`\n-   Strings can be concatenated (`+`) and replicated (`*`)\n-   Values can be stored in variables: `spam = 42`\n-   Variables can be used anywhere where values can be used in\n    expressions: `spam + 1`\n-   Variable names: one word, letters, numbers (not at beginning),\n    underscore only\n-   Comments begin with a # character and are ignored by Python; they\n    are notes & reminders for the programmer.\n-   Functions are like mini-programs in your program.\n-   The `print` function displays the value passed to it.\n\n"
      ]
    },
    {
      "cell_type": "markdown",
      "metadata": {},
      "source": [
        "## Glossary\n\n"
      ]
    },
    {
      "cell_type": "markdown",
      "metadata": {},
      "source": [
        "| TERM/COMMAND|MEANING|\n|---|---|\n| expression|a basic programming instruction, like <code>2+2</code>|\n| values|something stored in a computer memory cell|\n| operator|a function that takes values to evaluate them|\n| binary operator|an operator that takes 2 values as arguments|\n| whitespace|empty space between values or operators|\n| indentation|empty spaces at the beginning of a line|\n| precedence|order of operations|\n| Syntax error|you've broken the grammatical Python rules|\n| Type error|you've made a mistake with data types|\n| Concatenation|adding strings with +|\n| Replication|replicating strings with *|\n| Conversion|changing data types|\n| Coercion|implicit conversion of data types|\n| File type|used by the computer to identify a language|\n| Data type|used by the computer to reserve memory|\n| <code>print</code>|printing function|\n\n"
      ]
    },
    {
      "cell_type": "markdown",
      "metadata": {},
      "source": [
        "## References\n\n"
      ]
    },
    {
      "cell_type": "markdown",
      "metadata": {},
      "source": [
        "-   pythontutor.com (2023). Visualize code execution.\n-   Sweigart, A. (2016). Invent your own computer games with\n    Python. NoStarch. URL: [inventwithpython.com](http://inventwithpython.com/).\n-   Sweigart, A. (2019). Automate the boring stuff with\n    Python. NoStarch. URL: [automatetheboringstuff.com](http://automatetheboringstuff.com).\n\n"
      ]
    }
  ],
  "metadata": [
    [
      "org"
    ],
    null,
    null
  ],
  "nbformat": 4,
  "nbformat_minor": 0
}