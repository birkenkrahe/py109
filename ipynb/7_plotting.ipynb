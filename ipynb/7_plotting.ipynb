{
  "cells": [
    {
      "cell_type": "markdown",
      "metadata": {},
      "source": [
        "## README\n\n"
      ]
    },
    {
      "cell_type": "markdown",
      "metadata": {},
      "source": [
        "-   [See GitHub for a Colab version of this file](https://gist.github.com/birkenkrahe/a61584bb88d5b97390e5781e9d62358c).\n\n"
      ]
    },
    {
      "cell_type": "markdown",
      "metadata": {},
      "source": [
        "## Plotting practice: histograms\n\n"
      ]
    },
    {
      "cell_type": "markdown",
      "metadata": {},
      "source": [
        "**Plot challenge:** make a histogram of the results for Test 1 and for\nTest 2. Draw the average of each test as a straight dashed line.\n\n"
      ]
    },
    {
      "cell_type": "markdown",
      "metadata": {},
      "source": [
        "## Make a histogram and customize it\n\n"
      ]
    },
    {
      "cell_type": "markdown",
      "metadata": {},
      "source": [
        "1.  Open a new [DataCamp workspace](https://app.datacamp.com/workspace/w/72c934ff-643c-4214-b2ac-e333ed91289d/edit).\n\n2.  Define two lists `test_1` and `test_2`:\n\n"
      ]
    },
    {
      "cell_type": "code",
      "execution_count": 1,
      "metadata": {},
      "outputs": [],
      "source": [
        "test_1 = [18.17, 21, 21.5, 21.67, 23.17, 24]\ntest_2 = [14.17, 17.67, 17.83, 19.17, 19.5, 23]"
      ]
    },
    {
      "cell_type": "markdown",
      "metadata": {},
      "source": [
        "1.  Import the library `matplotlib.pyplot` as `plt`:\n\n"
      ]
    },
    {
      "cell_type": "code",
      "execution_count": 1,
      "metadata": {},
      "outputs": [],
      "source": [
        "import matplotlib.pyplot as plt"
      ]
    },
    {
      "cell_type": "markdown",
      "metadata": {},
      "source": [
        "1.  Look up the documentation for the `pyplot` module.\n\n"
      ]
    },
    {
      "cell_type": "code",
      "execution_count": 1,
      "metadata": {},
      "outputs": [],
      "source": [
        "plt?  # or ?plt"
      ]
    },
    {
      "cell_type": "markdown",
      "metadata": {},
      "source": [
        "1.  Enter and run the first example provided in the help.\n\n"
      ]
    },
    {
      "cell_type": "code",
      "execution_count": 1,
      "metadata": {},
      "outputs": [],
      "source": [
        "import numpy as np\nx = np.arange(0,5,0.1)\ny = np.sin(x)\n\nplt.plot(x,y)  # line plot"
      ]
    },
    {
      "cell_type": "markdown",
      "metadata": {},
      "source": [
        "![img](../img/plt_demo.png)\n\n1.  We're after something else: a frequency distribution of a single\n    numeric variable (test points). We use the `plt.hist` method for\n    that - without any bells and whistles at first:\n\n"
      ]
    },
    {
      "cell_type": "code",
      "execution_count": 1,
      "metadata": {},
      "outputs": [],
      "source": [
        "plt.hist(test_1)\nplt.show()"
      ]
    },
    {
      "cell_type": "markdown",
      "metadata": {},
      "source": [
        "![img](../img/hist_test.png)\n\n1.  Add some customization:\n    1.  `plt.hist()` is the function that creates the histogram. The\n        first argument is the data you want to plot.\n    2.  The `bins` argument is set to `'auto'` (determine number of bins\n        based on the dataset).\n    3.  The `alpha` argument sets the transparency of the bars (1\n        is opaque, 0 is transparent).\n    4.  The `rwidth` argument sets the relative width of the bars as a\n        fraction of the bin width.\n\n"
      ]
    },
    {
      "cell_type": "code",
      "execution_count": 1,
      "metadata": {},
      "outputs": [],
      "source": [
        "plt.hist(test_1, bins='auto', alpha=0.7, rwidth=0.85)\nplt.show()"
      ]
    },
    {
      "cell_type": "markdown",
      "metadata": {},
      "source": [
        "![img](../img/hist_test_1.png)\n\n1.  Add a title and axis labels:\n\n"
      ]
    },
    {
      "cell_type": "code",
      "execution_count": 1,
      "metadata": {},
      "outputs": [],
      "source": [
        "plt.hist(test_1, bins='auto', alpha=0.7, rwidth=0.85)\nplt.xlabel('Points')\nplt.ylabel('Frequency')\nplt.title('Histogram of Test 1 results')\nplt.show()"
      ]
    },
    {
      "cell_type": "markdown",
      "metadata": {},
      "source": [
        "![img](../img/hist_test_2.png)\n\n1.  Finally, put a grid behind the plot to ease readibility:\n\n"
      ]
    },
    {
      "cell_type": "code",
      "execution_count": 1,
      "metadata": {},
      "outputs": [],
      "source": [
        "plt.hist(test_1, bins='auto', alpha=0.7, rwidth=0.85)\nplt.xlabel('Points')\nplt.ylabel('Frequency')\nplt.title('Histogram of Test 1 results')\nplt.grid(True)\nplt.show()"
      ]
    },
    {
      "cell_type": "markdown",
      "metadata": {},
      "source": [
        "![img](../img/hist_test_3.png)\n\n1.  All of these functions are *methods* of the `pyplot` module.\n\n"
      ]
    },
    {
      "cell_type": "markdown",
      "metadata": {},
      "source": [
        "## Compute and draw a line for the point average\n\n"
      ]
    },
    {
      "cell_type": "markdown",
      "metadata": {},
      "source": [
        "1.  Import the NumPy package as `np`.\n\n"
      ]
    },
    {
      "cell_type": "code",
      "execution_count": 1,
      "metadata": {},
      "outputs": [],
      "source": [
        "import numpy as np"
      ]
    },
    {
      "cell_type": "markdown",
      "metadata": {},
      "source": [
        "1.  Compute the average of the `test_1` and the `test_2` results as `avg_1`\n    and `avg_2` and print them with two digits after the decimal point:\n\n"
      ]
    },
    {
      "cell_type": "code",
      "execution_count": 1,
      "metadata": {},
      "outputs": [],
      "source": [
        "avg_1 = np.mean(test_1)\navg_2 = np.mean(test_2)\nprint(f'Average Test 1: {avg_1:.2f}\\nAverage Test 2: {avg_2:.2f}')"
      ]
    },
    {
      "cell_type": "markdown",
      "metadata": {},
      "source": [
        "1.  Since I already use NumPy, I can do this with an array in one go:\n\n"
      ]
    },
    {
      "cell_type": "code",
      "execution_count": 1,
      "metadata": {},
      "outputs": [],
      "source": [
        "data = np.array([test_1, test_2])\nprint(data)"
      ]
    },
    {
      "cell_type": "markdown",
      "metadata": {},
      "source": [
        "1.  To compute the average along the rows, use the `axis=1` parameter:\n\n"
      ]
    },
    {
      "cell_type": "code",
      "execution_count": 1,
      "metadata": {},
      "outputs": [
        {
          "name": "stdout",
          "output_type": "stream",
          "text": [
            ": Average Test 1: 21.58\n   : Average Test 2: 18.56"
          ]
        }
      ],
      "source": [
        "avg = np.mean(data,axis=1)\nprint(f'Average Test 1: {avg[0]:.2f}\\nAverage Test 2: {avg[1]:.2f}')"
      ]
    },
    {
      "cell_type": "markdown",
      "metadata": {},
      "source": [
        "1.  We can use `plt.avxline` to print the average as a dashed line into\n    the histogram:\n\n"
      ]
    },
    {
      "cell_type": "code",
      "execution_count": 1,
      "metadata": {},
      "outputs": [],
      "source": [
        "plt.hist(test_1, bins='auto', alpha=0.7, rwidth=0.85)\nplt.axvline(avg[0], color'r', linestyle='dashed',linewidth=2)\nplt.xlabel('Points')\nplt.ylabel('Frequency')\nplt.title('Histogram of Test 1 results')\nplt.grid(True)\nplt.show()"
      ]
    },
    {
      "cell_type": "markdown",
      "metadata": {},
      "source": [
        "![img](../img/hist_avg_1.png)\n\n1.  Finally, add a legend in the plot itself to identify the average:\n\n"
      ]
    },
    {
      "cell_type": "code",
      "execution_count": 1,
      "metadata": {},
      "outputs": [],
      "source": [
        "plt.hist(test_1, bins='auto', alpha=0.7, rwidth=0.85)\nplt.axvline(avg[0], color='r', linestyle='dashed',linewidth=2,\n            label=f'Test 1 average: {avg[0]:.2f}')\nplt.legend()\nplt.xlabel('Points')\nplt.ylabel('Frequency')\nplt.title('Histogram of Test 1 results')\nplt.grid(True)\nplt.show()"
      ]
    },
    {
      "cell_type": "markdown",
      "metadata": {},
      "source": [
        "![img](../img/hist_avg_2.png)\n\n1.  Repeat this procedure for the second set of data points and create\n    a similar histogram:\n\n"
      ]
    },
    {
      "cell_type": "code",
      "execution_count": 1,
      "metadata": {},
      "outputs": [],
      "source": [
        "plt.hist(test_2, bins='auto', alpha=0.7, rwidth=0.85)\nplt.axvline(avg[1], color='r', linestyle='dashed',linewidth=2,\n            label=f'Test 2 average: {avg[1]:.2f}')\nplt.legend()\nplt.xlabel('Points')\nplt.ylabel('Frequency')\nplt.title('Histogram of Test 2 results')\nplt.grid(True)\nplt.show()"
      ]
    },
    {
      "cell_type": "markdown",
      "metadata": {},
      "source": [
        "![img](../img/hist_avg_3.png)\n\n"
      ]
    },
    {
      "cell_type": "markdown",
      "metadata": {},
      "source": [
        "## Subplots\n\n"
      ]
    },
    {
      "cell_type": "markdown",
      "metadata": {},
      "source": [
        "We want to put the two histogram plots next to one another on two\npanels. To do this, we need to use the `plt.subplots` method.\n\n1.  Create a figure and a set of two subplots (for each dataset):\n    -   `plt.subplots(2)` creates a new figure `fig` and returns a NumPy\n        array `axs` containing the created subplot objects.\n    -   `fig` is the whole window or page that everything is drawn\n        on.\n    -   `axs` is an array of length 2 containing the axes for the\n        subplots. In this case, since you're creating 2 subplots, axs\n        will be an array of length 2. Each item in the array is a\n        separate set of axes, which you can think of as an individual\n        plot. You can draw on these axes (i.e., create a plot) by\n        calling methods on them.\n\n"
      ]
    },
    {
      "cell_type": "code",
      "execution_count": 1,
      "metadata": {},
      "outputs": [],
      "source": [
        "fig, axs = plt.subplots(2)"
      ]
    },
    {
      "cell_type": "markdown",
      "metadata": {},
      "source": [
        "1.  When you run the code you should see two empty plot panels. You\n    can experiment with these to find out more about `plt` after\n    looking at `plt.subplots?`:\n    \n    ![img](../img/plt_panels.png)\n\n2.  To plot a histogram of your data on a subplot N of your figure,\n    you call `axs[N].hist()`. Do this now for N=0 only:\n\n"
      ]
    },
    {
      "cell_type": "code",
      "execution_count": 1,
      "metadata": {},
      "outputs": [],
      "source": [
        "# Create a figure and a set of subplots\nfig, axs = plt.subplots(2)\n\n# Create a histogram for test_1\naxs[0].hist(test_1,\n            bins='auto',\n            color='b',\n            alpha=0.7,\n            edgecolor='black')\naxs[0].set_title('Histogram of test_1')"
      ]
    },
    {
      "cell_type": "markdown",
      "metadata": {},
      "source": [
        "![img](../img/sub_hist_1.png)\n\n1.  And then add the code for the second histogram below it, adapting\n    the values accordingly:\n\n"
      ]
    },
    {
      "cell_type": "code",
      "execution_count": 1,
      "metadata": {},
      "outputs": [],
      "source": [
        "import matplotlib.pyplot as plt\nimport numpy as np\n\n# input data as lists\ntest_1 = [18.17, 21, 21.5, 21.67, 23.17, 24]\ntest_2 = [14.17, 17.67, 17.83, 19.17, 19.5, 23]\n\n# Create a figure and a set of subplots\nfig, axs = plt.subplots(2)\n\n# Create a histogram for test_1\naxs[0].hist(test_1,\n            bins=3,\n            color='b',\n            alpha=0.7,\n            edgecolor='black')\naxs[0].set_title('Histogram of test_1')\n\n# Create a histogram for test_2\naxs[1].hist(test_2, bins=3, color='r', alpha=0.7, edgecolor='black')\naxs[1].set_title('Histogram of test_2')\n\n# Display the plot\nplt.tight_layout()\nplt.show()"
      ]
    },
    {
      "cell_type": "markdown",
      "metadata": {},
      "source": [
        "![img](../img/sub_hist_2.png)\n\n-   Here, `plt.tight_layout()` automatically adjusts subplot parameters so\n    that the subplot fits the panels nicely. Take it out and re-plot to\n    see the effect.\n\n"
      ]
    }
  ],
  "metadata": [
    [
      "org"
    ],
    null,
    null
  ],
  "nbformat": 4,
  "nbformat_minor": 0
}