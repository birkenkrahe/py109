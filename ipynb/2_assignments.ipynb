{
  "cells": [
    {
      "cell_type": "markdown",
      "metadata": {},
      "source": [
        "## Two Programming assignments\n\n"
      ]
    },
    {
      "cell_type": "markdown",
      "metadata": {},
      "source": [
        "### Word count programming assignment\n\n"
      ]
    },
    {
      "cell_type": "markdown",
      "metadata": {},
      "source": [
        "Count the number of words provided. For this problem, a word is any\nsequence of lowercase letters. For example, 'hello' is a word, but so\nare non-English “words” like 'bbaabbb'.\n\nInput: sentence (from keyboard)\n\nOutput: number of words in sentence (separated by \" \")\n\nVariables: `sentence` (stored input)\n\nFunctions:\n\n1.  `=` for assignment,\n2.  `str.count(sub)` to count substring `sub` in string `str`\n3.  `str.split(sub)` to remove trailing `sub` in string `str`\n\n"
      ]
    },
    {
      "cell_type": "code",
      "execution_count": 1,
      "metadata": {},
      "outputs": [
        {
          "name": "stdout",
          "output_type": "stream",
          "text": [
            "Enter a text (no more than 80 characters):"
          ]
        }
      ],
      "source": [
        "sentence = input(\"Enter a text (no more than 80 characters): \")\nprint(sentence)"
      ]
    },
    {
      "cell_type": "markdown",
      "metadata": {},
      "source": [
        "#### Solution 1 (`str.count`)\n\n"
      ]
    },
    {
      "cell_type": "markdown",
      "metadata": {},
      "source": [
        "Solution with `str.count` (returns occurrences of substring argument):\n\n"
      ]
    },
    {
      "cell_type": "code",
      "execution_count": 1,
      "metadata": {},
      "outputs": [
        {
          "name": "stdout",
          "output_type": "stream",
          "text": [
            "6"
          ]
        }
      ],
      "source": [
        "sentence = \"It is early in the morning.\"\nprint(sentence.count(\" \") + 1)"
      ]
    },
    {
      "cell_type": "markdown",
      "metadata": {},
      "source": [
        "#### Solution 2 (`str.split`)\n\n"
      ]
    },
    {
      "cell_type": "markdown",
      "metadata": {},
      "source": [
        "Solution with `str.split`:\n\n"
      ]
    },
    {
      "cell_type": "code",
      "execution_count": 1,
      "metadata": {},
      "outputs": [
        {
          "name": "stdout",
          "output_type": "stream",
          "text": [
            "['It', 'is', 'early', 'in', 'the', 'morning.']\n6"
          ]
        }
      ],
      "source": [
        "sentence = \"It is early in the morning.\"\nprint(sentence.split(\" \"))\nprint(len(sentence.split(\" \")))"
      ]
    },
    {
      "cell_type": "markdown",
      "metadata": {},
      "source": [
        "#### Solution 3 (from scratch)\n\n"
      ]
    },
    {
      "cell_type": "markdown",
      "metadata": {},
      "source": [
        "Input: sentence from keyboard < 80 chars.\n\nOutput: number of words in sentence.\n\nFlow & functions:\n\n1.  Go through the string index by index element (`for` loop).\n2.  The end of the loop is given by `len(sentence`).\n3.  If the `sentence` is longer than 80 characters, `sys.exit`.\n4.  Initialize `count` of number of words.\n5.  Check if the current character is empty (`if` statement).\n6.  When you encounter an empty space, increase word counter (`+=`).\n7.  Print final word counter (`print`).\n\nVariables:\n\n1.  `sentence` to store the input sentence\n2.  Check if `sentence` is <= 80 characters\n3.  `count` to count the number of words in `sentence`\n4.  `i` for the index when looping through `sentence`\n\nImplementation & Testing:\n\n"
      ]
    },
    {
      "cell_type": "code",
      "execution_count": 1,
      "metadata": {},
      "outputs": [],
      "source": [
        "sentence = \"It is early in the morning\"\nsentence_length = len(sentence)\ncount = 0\nif sentence_length > 80:\n    sys.exit(0)\nfor i in range(sentence_length):\n    if sentence[i] == \" \":\n       count += 1\nprint(count+1)"
      ]
    },
    {
      "cell_type": "markdown",
      "metadata": {},
      "source": [
        "    21\n\nThis version only checks for \" \" and was fooled by whitespace.\n\nChange flow for new version of code:\n\n-   Introduce Boolean `word` variable.\n-   If character is not empty, `word` is `False` (we're in a word), go on\n-   If character is empty, we're not in a word:\n    -   check if `word` is `False`, then increase `count` by one\n    -   set `word` to `True`\n\nThis version 2 takes care of all except trailing whitespace:\n\n"
      ]
    },
    {
      "cell_type": "code",
      "execution_count": 1,
      "metadata": {},
      "outputs": [
        {
          "name": "stdout",
          "output_type": "stream",
          "text": [
            "version_2\n5"
          ]
        }
      ],
      "source": [
        "sentence = \"     I am Marcus Birkenkrahe      \"  # initialize sentence\nsentence_length = len(sentence)   # compute length of sentence\ncount = 0  # initialize word counter\nword = True # this takes care of leading whitespace\nif sentence_length > 80:\n    sys.exit(0)\nfor i in range(sentence_length):\n    if sentence[i] != \" \": \n        word = False\n    else:\n        if word == False:  # now we're not in a word\n            count += 1\n        word = True # assuming the next char is a word and if that's\n                    # not the case, don't increase `count`\nprint(count+1)"
      ]
    },
    {
      "cell_type": "markdown",
      "metadata": {},
      "source": [
        "The algorithm still fails for trailing whitespace - but only one of\nthe trailing whitespaces is counted. So we need to check if the last\ncharacters happens to be empty and print only \\`count\\` in that case:\n\n"
      ]
    },
    {
      "cell_type": "code",
      "execution_count": 1,
      "metadata": {},
      "outputs": [
        {
          "name": "stdout",
          "output_type": "stream",
          "text": [
            "version_3\n_-_--_------_\nWords: 3"
          ]
        }
      ],
      "source": [
        "import sys\nsentence = \" I am Marcus \"  # initialize sentence\nsentence_length = len(sentence)   # compute length of sentence\ncount = 0  # initialize word counter\nword = True # this takes care of leading whitespace\nif sentence_length > 80 or sentence_length == 0:\n    print(\"Input error\")\n    sys.exit(0)\nfor i in range(sentence_length):\n    if sentence[i] != \" \":\n        print(\"-\", end='')\n        word = False\n    else:\n        print(\"_\",end='')\n        if word == False:  # now we're not in a word\n            count += 1\n        word = True # assuming the next char is a word and if that's\n                    # not the case, don't increase `count`\nif sentence[sentence_length-1] == \" \":\n    print(f'\\nWords: {count}') # if there's a spurious trailing whitespace\nelse:\n    print(f'\\nWords: {count+1}')"
      ]
    },
    {
      "cell_type": "markdown",
      "metadata": {},
      "source": [
        "Alternatively: use `strip` to remove leading/trailing whitespace - but\nthat's cheating if you want to do it all \"manually\":\n\n"
      ]
    },
    {
      "cell_type": "code",
      "execution_count": 1,
      "metadata": {},
      "outputs": [
        {
          "name": "stdout",
          "output_type": "stream",
          "text": [
            "6"
          ]
        }
      ],
      "source": [
        "sentence = \" I am \".strip()\nprint(len(sentence))"
      ]
    },
    {
      "cell_type": "markdown",
      "metadata": {},
      "source": [
        "[Permanent link to pythontutor.com visualization.](https://pythontutor.com/render.html#code=sentence%20%3D%20%22%20%20I%20am%20%20%22%20%20%23%20initialize%20sentence%0Asentence_length%20%3D%20len%28sentence%29%20%20%20%23%20compute%20length%20of%20sentence%0Acount%20%3D%200%20%20%23%20initialize%20word%20counter%0Aword%20%3D%20True%20%23%20this%20takes%20care%20of%20leading%20whitespace%0Aif%20sentence_length%20%3E%2080%3A%0A%20%20%20%20sys.exit%280%29%0Afor%20i%20in%20range%28sentence_length%29%3A%0A%20%20%20%20print%28sentence%5Bi%5D%29%20%23%20print%20character%0A%20%20%20%20if%20sentence%5Bi%5D%20!%3D%20%22%20%22%3A%20%0A%20%20%20%20%20%20%20%20word%20%3D%20False%0A%20%20%20%20else%3A%0A%20%20%20%20%20%20%20%20if%20word%20%3D%3D%20False%3A%20%20%23%20now%20we're%20not%20in%20a%20word%0A%20%20%20%20%20%20%20%20%20%20%20%20count%20%2B%3D%201%0A%20%20%20%20%20%20%20%20word%20%3D%20True%20%23%20assuming%20the%20next%20char%20is%20a%20word%20and%20if%20that's%0A%20%20%20%20%20%20%20%20%20%20%20%20%20%20%20%20%20%20%20%20%23%20not%20the%20case,%20don't%20increase%20%60count%60%0Aif%20sentence%5Bsentence_length-1%5D%20%3D%3D%20%22%20%22%3A%0A%20%20%20%20print%28count%29%20%23%20if%20there's%20a%20spurious%20trailing%20whitespace%0Aelse%3A%0A%20%20%20%20print%28count%2B1%29&cumulative=false&curInstr=47&heapPrimitives=nevernest&mode=display&origin=opt-frontend.js&py=3&rawInputLstJSON=%5B%5D&textReferences=false)\n\nNext step: reuse (procedural programming!). Put the word count\nalgorithm in a function and get keyboard input. Turns out that this is\nnot trivial because now we must correct for keyboard input format.\n\n"
      ]
    },
    {
      "cell_type": "code",
      "execution_count": 1,
      "metadata": {},
      "outputs": [],
      "source": [
        "## define function\nimport sys  # Import the sys module\n\n# Define function\ndef wc(sentence):\n    sentence_length = len(sentence)   # Compute length of sentence\n    count = 0  # Initialize word counter\n    word = True  # This takes care of leading whitespace\n    if sentence_length > 80 or sentence_length == 0:\n        print(\"Input error\")\n        sys.exit(0)\n    for i in range(sentence_length):\n        if sentence[i] != \" \":\n            print(\"-\", end='')\n            word = False\n        else:\n            print(\"_\", end='')\n            if not word:  # Now we're not in a word\n                count += 1\n                word = True  # Assuming the next char is a word and if that's\n                # not the case, don't increase `count`\n    if sentence[sentence_length-1] == \" \":\n        print(f'\\nWords: {count}') # if there's a spurious trailing whitespace\n    else:\n        print(f'\\nWords: {count+1}')\n    return"
      ]
    },
    {
      "cell_type": "markdown",
      "metadata": {},
      "source": [
        "Testing the function:\n\n"
      ]
    },
    {
      "cell_type": "code",
      "execution_count": 1,
      "metadata": {},
      "outputs": [
        {
          "name": "stdout",
          "output_type": "stream",
          "text": [
            "_-_--_----__\nWords: 3"
          ]
        }
      ],
      "source": [
        "<<def wc>>\nwhile True:\n    inp = input(\"Enter a sentence (1-80 chars) or q to quit:\\n\")\n    if inp == 'q':\n        print(\"Good-bye!\")\n        sys.exit(0)\n    wc(inp)"
      ]
    },
    {
      "cell_type": "markdown",
      "metadata": {},
      "source": [
        "[Permanent link to visualization in pythontutor.com](https://pythontutor.com/render.html#code=%23%20Define%20function%0Adef%20wc%28sentence%29%3A%0A%20%20%20%20sentence_length%20%3D%20len%28sentence%29%20%20%20%23%20Compute%20length%20of%20sentence%0A%20%20%20%20count%20%3D%200%20%20%23%20Initialize%20word%20counter%0A%20%20%20%20word%20%3D%20True%20%20%23%20This%20takes%20care%20of%20leading%20whitespace%0A%20%20%20%20if%20sentence_length%20%3E%2080%20or%20sentence_length%20%3D%3D%200%3A%0A%20%20%20%20%20%20%20%20print%28%22Input%20error%22%29%0A%20%20%20%20%20%20%20%20sys.exit%280%29%0A%20%20%20%20for%20i%20in%20range%28sentence_length%29%3A%0A%20%20%20%20%20%20%20%20if%20sentence%5Bi%5D%20!%3D%20%22%20%22%3A%0A%20%20%20%20%20%20%20%20%20%20%20%20print%28%22-%22,%20end%3D''%29%0A%20%20%20%20%20%20%20%20%20%20%20%20word%20%3D%20False%0A%20%20%20%20%20%20%20%20else%3A%0A%20%20%20%20%20%20%20%20%20%20%20%20print%28%22_%22,%20end%3D''%29%0A%20%20%20%20%20%20%20%20%20%20%20%20if%20not%20word%3A%20%20%23%20Now%20we're%20not%20in%20a%20word%0A%20%20%20%20%20%20%20%20%20%20%20%20%20%20%20%20count%20%2B%3D%201%0A%20%20%20%20%20%20%20%20%20%20%20%20%20%20%20%20word%20%3D%20True%20%20%23%20Assuming%20the%20next%20char%20is%20a%20word%20and%20if%20that's%0A%20%20%20%20%20%20%20%20%20%20%20%20%20%20%20%20%23%20not%20the%20case,%20don't%20increase%20%60count%60%0A%20%20%20%20if%20sentence%5Bsentence_length-1%5D%20%3D%3D%20%22%20%22%3A%0A%20%20%20%20%20%20%20%20print%28f'%5CnWords%3A%20%7Bcount%7D'%29%20%23%20if%20there's%20a%20spurious%20trailing%20whitespace%0A%20%20%20%20else%3A%0A%20%20%20%20%20%20%20%20print%28f'%5CnWords%3A%20%7Bcount%2B1%7D'%29%0A%20%20%20%20return%0A%0A%23%20Call%20function%0Awhile%20True%3A%0A%20%20%20%20inp%20%3D%20input%28%22Enter%20a%20sentence%20%281-80%20chars%29%20or%20q%20to%20quit%3A%5Cn%22%29%0A%20%20%20%20if%20inp%20%3D%3D%20'q'%3A%0A%20%20%20%20%20%20%20%20print%28%22Good-bye!%22%29%0A%20%20%20%20%20%20%20%20sys.exit%280%29%0A%20%20%20%20wc%28inp%29&cumulative=false&curInstr=119&heapPrimitives=nevernest&mode=display&origin=opt-frontend.js&py=3&rawInputLstJSON=%5B%22%20%20I%20am%20%20%20here%20%20%20%20now.%20%20%22,%22q%22%5D&textReferences=false)\n\n"
      ]
    },
    {
      "cell_type": "markdown",
      "metadata": {},
      "source": [
        "### A New Hope bonus programming assignment\n\n"
      ]
    },
    {
      "cell_type": "markdown",
      "metadata": {},
      "source": [
        "Problem: Repeat the word \"far\" exactly N times in the following output\nformat: A long time ago, in a galaxy far, far away&#x2026;\n\nInput: integer number of \"far\" N > 1\n\nOutput: sentence that includes N times \"far\"\n\nVariables: N\n\nFunctions: `+` to concatenate strings, `=` to assign, `*` to replicate\nstrings, `str.strip` to remove trailing characters from string.\n\nSolution 1: almost right but misses out on the commas between \"far\"\ninstances required to solve the problem fully.\n\n"
      ]
    },
    {
      "cell_type": "code",
      "execution_count": 1,
      "metadata": {},
      "outputs": [
        {
          "name": "stdout",
          "output_type": "stream",
          "text": [
            "A long time ago, in a galaxy far, far far away..."
          ]
        }
      ],
      "source": [
        "N = 2\nfarAway = \"far \" * N\nprint(\"A long time ago, in a galaxy far, \" + farAway + \"away...\")"
      ]
    },
    {
      "cell_type": "markdown",
      "metadata": {},
      "source": [
        "The function `str.strip` will strip the trailing character away:\n\n"
      ]
    },
    {
      "cell_type": "code",
      "execution_count": 1,
      "metadata": {},
      "outputs": [
        {
          "name": "stdout",
          "output_type": "stream",
          "text": [
            "far, far"
          ]
        }
      ],
      "source": [
        "foo = \"far, far,\"\nprint(foo.strip(\",\"))"
      ]
    },
    {
      "cell_type": "markdown",
      "metadata": {},
      "source": [
        "Solution 2:\n\n"
      ]
    },
    {
      "cell_type": "code",
      "execution_count": 1,
      "metadata": {},
      "outputs": [
        {
          "name": "stdout",
          "output_type": "stream",
          "text": [
            "A long time ago, in a galaxy far, far away..."
          ]
        }
      ],
      "source": [
        "N = 2\nfarAway = \"far, \" * N\nprint(\"A long time ago, in a galaxy \" + farAway.strip(\", \") + \" away...\")"
      ]
    }
  ],
  "metadata": [
    [
      "org"
    ],
    null,
    null
  ],
  "nbformat": 4,
  "nbformat_minor": 0
}