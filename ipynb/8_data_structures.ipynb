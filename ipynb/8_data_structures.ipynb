{
  "cells": [
    {
      "cell_type": "markdown",
      "metadata": {},
      "source": "Python datastructures with examples\n===================================\n\n"
    },
    {
      "cell_type": "markdown",
      "metadata": {},
      "source": [
        "## List\n\n"
      ]
    },
    {
      "cell_type": "markdown",
      "metadata": {},
      "source": [
        "A list is a dynamic array that can store elements of different\ntypes. Lists are **ordered** and **mutable**, which means that their elements\ncan be changed.\n\n"
      ]
    },
    {
      "cell_type": "code",
      "execution_count": 1,
      "metadata": {},
      "outputs": [
        {
          "name": "stdout",
          "output_type": "stream",
          "text": [
            "['apple', 'banana', 'cherry', 'orange']"
          ]
        }
      ],
      "source": [
        "fruits = [\"apple\", \"banana\", \"cherry\"]\nfruits.append(\"orange\")  # Adding an element\nprint(fruits)"
      ]
    },
    {
      "cell_type": "markdown",
      "metadata": {},
      "source": [
        "You can extract list items using the ordered indices:\n\n"
      ]
    },
    {
      "cell_type": "code",
      "execution_count": 1,
      "metadata": {},
      "outputs": [
        {
          "name": "stdout",
          "output_type": "stream",
          "text": [
            "banana\norange\n['cherry']"
          ]
        }
      ],
      "source": [
        "print(fruits[1]) # output: 'banana'\nprint(fruits[-1]) # output: 'orange'\nprint(fruits[-2:-1]) # output: 'cherry'"
      ]
    },
    {
      "cell_type": "markdown",
      "metadata": {},
      "source": [
        "Typical `list` problem: You have a list of temperatures in Celsius and\nneed to convert each temperature to Fahrenheit.\n\n"
      ]
    },
    {
      "cell_type": "code",
      "execution_count": 1,
      "metadata": {},
      "outputs": [
        {
          "name": "stdout",
          "output_type": "stream",
          "text": [
            "[0, 10, 20, 30]\n[32.0, 50.0, 68.0, 86.0]"
          ]
        }
      ],
      "source": [
        "celsius = [0,10,20,30]\nprint(celsius)\nfahrenheit = [(9/5) * temp + 32 for temp in celsius]\nprint(fahrenheit)"
      ]
    },
    {
      "cell_type": "markdown",
      "metadata": {},
      "source": [
        "## Tuple\n\n"
      ]
    },
    {
      "cell_type": "markdown",
      "metadata": {},
      "source": [
        "A tuple is similar to a list except that it is **immutable**, that is its\nelements cannot be changed (like a string):\n\n"
      ]
    },
    {
      "cell_type": "code",
      "execution_count": 1,
      "metadata": {},
      "outputs": [
        {
          "name": "stdout",
          "output_type": "stream",
          "text": [
            "(200, 50, 100)\n50"
          ]
        }
      ],
      "source": [
        "dimensions = (200, 50, 100)\nprint(dimensions)\nprint(dimensions[1])"
      ]
    },
    {
      "cell_type": "markdown",
      "metadata": {},
      "source": [
        "Typical `tuple` problem: you need to create a function that returns\nmultiple values: the result of a division operation and its remainder.\n\n"
      ]
    },
    {
      "cell_type": "code",
      "execution_count": 1,
      "metadata": {},
      "outputs": [
        {
          "name": "stdout",
          "output_type": "stream",
          "text": [
            "(3, 1)\n10/3 = 3 with remainder 1"
          ]
        }
      ],
      "source": [
        "def div(dividend,divisor):\n    quotient = dividend // divisor  # integer division\n    remainder = dividend % divisor  # modulo operation\n    return (quotient,remainder)\n\nresult = div(10,3)\nprint(result)\nprint(f'10/3 = {result[0]} with remainder {result[1]}')"
      ]
    },
    {
      "cell_type": "markdown",
      "metadata": {},
      "source": [
        "## Set\n\n"
      ]
    },
    {
      "cell_type": "markdown",
      "metadata": {},
      "source": [
        "A set is an **unordered** collection of **unique** elements. They are **mutable**\nand useful for testing membership and eliminating duplicate entries:\n\n"
      ]
    },
    {
      "cell_type": "code",
      "execution_count": 1,
      "metadata": {},
      "outputs": [
        {
          "name": "stdout",
          "output_type": "stream",
          "text": [
            "{1, 2, 3, 4, 5, 6}"
          ]
        }
      ],
      "source": [
        "unique_numbers = {1,2,3,4,4,5}\nunique_numbers.add(6)\nprint(unique_numbers)"
      ]
    },
    {
      "cell_type": "markdown",
      "metadata": {},
      "source": [
        "You can use a `set` if you have two lists of elements and you need to\nfind the unique elements in both lists:\n\n"
      ]
    },
    {
      "cell_type": "code",
      "execution_count": 1,
      "metadata": {},
      "outputs": [
        {
          "name": "stdout",
          "output_type": "stream",
          "text": [
            "{4, 5}"
          ]
        }
      ],
      "source": [
        "list1 = [1,2,3,4,5]\nlist2 = [4,5,6,7,8]\nunique = set(list1).intersection(set(list2))\nprint(unique)"
      ]
    },
    {
      "cell_type": "markdown",
      "metadata": {},
      "source": [
        "## Dictionary\n\n"
      ]
    },
    {
      "cell_type": "markdown",
      "metadata": {},
      "source": [
        "A `dictionary` is a collection of key-value pairs: it is **unordered**,\n**mutable** and does not allow duplicate keys.\n\n"
      ]
    },
    {
      "cell_type": "code",
      "execution_count": 1,
      "metadata": {},
      "outputs": [
        {
          "name": "stdout",
          "output_type": "stream",
          "text": [
            "{'name': 'John', 'age': 31, 'city': 'New York'}"
          ]
        }
      ],
      "source": [
        "person = {\"name\": \"John\", \"age\": 30, \"city\": \"New York\"}\nperson[\"age\"] = 31  # Modifying a value\nprint(person)"
      ]
    },
    {
      "cell_type": "markdown",
      "metadata": {},
      "source": [
        "A typical problem for a `dictionary` is a library that needs to keep\ntrack of book titles:\n\n"
      ]
    },
    {
      "cell_type": "code",
      "execution_count": 1,
      "metadata": {},
      "outputs": [
        {
          "name": "stdout",
          "output_type": "stream",
          "text": [
            "{'Book A': 2, 'Book B': 1, 'Book C': 1}"
          ]
        }
      ],
      "source": [
        "books = [\"Book A\", \"Book B\", \"Book A\", \"Book C\"]\nbook_count = {}\nfor book in books:\n    book_count[book] = book_count.get(book, 0) + 1\n\nprint(book_count)"
      ]
    },
    {
      "cell_type": "markdown",
      "metadata": {},
      "source": [
        "To access `dictionary` items, values and keys, you can use functions:\n\n"
      ]
    },
    {
      "cell_type": "code",
      "execution_count": 1,
      "metadata": {},
      "outputs": [
        {
          "name": "stdout",
          "output_type": "stream",
          "text": [
            "dict_keys(['Book A', 'Book B', 'Book C'])\ndict_values([2, 1, 1])\ndict_items([('Book A', 2), ('Book B', 1), ('Book C', 1)])"
          ]
        }
      ],
      "source": [
        "print(book_count.keys())\nprint(book_count.values())\nprint(book_count.items())"
      ]
    },
    {
      "cell_type": "markdown",
      "metadata": {},
      "source": [
        "## Pandas DataFrame\n\n"
      ]
    },
    {
      "cell_type": "markdown",
      "metadata": {},
      "source": [
        "A `DataFrame` is a data structure provided by the `pandas` library used to\nhandle tabular data. It is like a 2-dimensional array with labeled\naxes (rows and columns).\n\n"
      ]
    },
    {
      "cell_type": "code",
      "execution_count": 1,
      "metadata": {},
      "outputs": [
        {
          "name": "stdout",
          "output_type": "stream",
          "text": [
            "Name  Age\n0    Tom   20\n1   Nick   21\n2  Julia   19"
          ]
        }
      ],
      "source": [
        "# import pandas library\nimport pandas as pd\n\n# define a data dictionary\ndata = {'Name': ['Tom', 'Nick', 'Julia'], 'Age': [20, 21, 19]}\n\n# convert dictionary to DataFrame\ndf = pd.DataFrame(data)\n\n# print DataFrame\nprint(df)"
      ]
    },
    {
      "cell_type": "markdown",
      "metadata": {},
      "source": [
        "You can access the columns, rows and any subset of the `DataFrame` in different ways:\n\n"
      ]
    },
    {
      "cell_type": "code",
      "execution_count": 1,
      "metadata": {},
      "outputs": [
        {
          "name": "stdout",
          "output_type": "stream",
          "text": [
            "0      Tom\n1     Nick\n2    Julia\nName: Name, dtype: object\n<class 'pandas.core.series.Series'>\n    Name  Age\n0    Tom   20\n1   Nick   21\n2  Julia   19"
          ]
        }
      ],
      "source": [
        "# extract columns\nprint(df['Name']) # Output: column vector aka Series\nprint(type(df['Name'])) # Output: pandas Series\n\nprint(df[['Name','Age']])"
      ]
    },
    {
      "cell_type": "markdown",
      "metadata": {},
      "source": [
        "Using `iloc` (extract column by position) and `loc` (extract row by index):\n\n"
      ]
    },
    {
      "cell_type": "code",
      "execution_count": 1,
      "metadata": {},
      "outputs": [
        {
          "name": "stdout",
          "output_type": "stream",
          "text": [
            "0      Tom\n1     Nick\n2    Julia\nName: Name, dtype: object\n    Name  Age\n1   Nick   21\n2  Julia   19"
          ]
        }
      ],
      "source": [
        "print(df.iloc[:,0]) # slice by position\nprint(df.loc[1:2]) # slicing by index label"
      ]
    },
    {
      "cell_type": "markdown",
      "metadata": {},
      "source": [
        "In a `DataFrame` you can filter rows based on certain criteria:\n\n"
      ]
    },
    {
      "cell_type": "code",
      "execution_count": 1,
      "metadata": {},
      "outputs": [
        {
          "name": "stdout",
          "output_type": "stream",
          "text": [
            "Name  Age\n0    Tom   20\n2  Julia   19"
          ]
        }
      ],
      "source": [
        "young_adults = df[df['Age'] < 21]\nprint(young_adults)"
      ]
    },
    {
      "cell_type": "markdown",
      "metadata": {},
      "source": [
        "## NumPy array\n\n"
      ]
    },
    {
      "cell_type": "markdown",
      "metadata": {},
      "source": [
        "A `numpy` array is an N-dimensional array object in the NumPy library,\nuseful for fast numerical opeations, storage of numerical data and\nscientific computing:\n\n"
      ]
    },
    {
      "cell_type": "code",
      "execution_count": 1,
      "metadata": {},
      "outputs": [
        {
          "name": "stdout",
          "output_type": "stream",
          "text": [
            "[ 1  4  9 16 25]"
          ]
        }
      ],
      "source": [
        "import numpy as np\n\narr = np.array([1,2,3,4,5])\nsquared_arr = arr**2\nprint(squared_arr)"
      ]
    },
    {
      "cell_type": "markdown",
      "metadata": {},
      "source": [
        "We used this example before to show what you can do with lists. You\ncan convert Celsius to Fahrenheit without having to know anything\nabout `list` comprehensions, since NumPy supports element-wise\noperations ('vectorization'):\n\n"
      ]
    },
    {
      "cell_type": "code",
      "execution_count": 1,
      "metadata": {},
      "outputs": [
        {
          "name": "stdout",
          "output_type": "stream",
          "text": [
            "[ 0 10 20 30]\n[32. 50. 68. 86.]"
          ]
        }
      ],
      "source": [
        "import numpy as np\n\ncelsius_temperatures = np.array(celsius)\nfahrenheit_temperatures = (9/5) * celsius_temperatures + 32  # Vectorized operation\n\nprint(celsius_temperatures)\nprint(fahrenheit_temperatures)"
      ]
    }
  ],
  "metadata": [
    [
      "org"
    ],
    null,
    null
  ],
  "nbformat": 4,
  "nbformat_minor": 0
}