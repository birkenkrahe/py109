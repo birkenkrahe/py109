{
  "cells": [
    {
      "cell_type": "markdown",
      "metadata": {},
      "source": "PYTHON FUNCTIONS\n================\n\n**Author:** Marcus Birkenkrahe\n\n"
    },
    {
      "cell_type": "markdown",
      "metadata": {},
      "source": [
        "## Python Functions: Simplifying Your Code\n\n"
      ]
    },
    {
      "cell_type": "markdown",
      "metadata": {},
      "source": [
        "![img](../img/functions.jpg \"Llyfrgell Genedlaethol Cymru / Claerwen Dam (1952)\")\n\nWhy functions?\n\n-   Break down code into smaller, reusable pieces\n-   Make it easier to manage and maintain code\n-   Encapsulate tasks and variable within functions\n-   Call function from anywhere\n\nWhat are functions?\n\n-   `def` keyword\n-   Name of function\n-   Pair of parentheses `()`\n-   Parameters of function\n-   Separator `:`\n-   Body of the function indented in the next line\n-   Return values anywhere in the function (`return`)\n\n"
      ]
    },
    {
      "cell_type": "markdown",
      "metadata": {},
      "source": [
        "## `def` Statements without Parameters\n\n"
      ]
    },
    {
      "cell_type": "markdown",
      "metadata": {},
      "source": [
        "-   Example 1: 'hello world' as a function without arguments:\n\n"
      ]
    },
    {
      "cell_type": "code",
      "execution_count": 1,
      "metadata": {},
      "outputs": [],
      "source": [
        "# function definition\ndef helloWorld():\n    print('Hello, world!')\n    # function call\nhelloWorld()"
      ]
    },
    {
      "cell_type": "markdown",
      "metadata": {},
      "source": [
        "-   Example 2: What will the output of this script be if you call `howdy`\n    three times in a row?\n\n"
      ]
    },
    {
      "cell_type": "code",
      "execution_count": 1,
      "metadata": {},
      "outputs": [
        {
          "name": "stdout",
          "output_type": "stream",
          "text": [
            ": Howdy!\n  : Howdy!!\n  : Hello there.\n  : Howdy!\n  : Howdy!!\n  : Hello there.\n  : Howdy!\n  : Howdy!!\n  : Hello there."
          ]
        }
      ],
      "source": [
        "# function definition\ndef howdy():\n    print('Howdy!')\n    print('Howdy!!')\n    print('Hello there.')\n    # function calls\nhowdy()\nhowdy()\nhowdy()"
      ]
    },
    {
      "cell_type": "markdown",
      "metadata": {},
      "source": [
        "-   You can view the execution of the program at [autbor.com/hellofunc/](https://autbor.com/hellofunc/)\n\n"
      ]
    },
    {
      "cell_type": "markdown",
      "metadata": {},
      "source": [
        "## `def` Statement with Parameters\n\n"
      ]
    },
    {
      "cell_type": "markdown",
      "metadata": {},
      "source": [
        "-   You can define your own functions with *parameters*. When you pass\n    *values* to the function, these are called *arguments*.\n\n-   Example 3: 'hello' as a greeting with `name` input:\n\n"
      ]
    },
    {
      "cell_type": "code",
      "execution_count": 1,
      "metadata": {},
      "outputs": [],
      "source": [
        "def hello(name):\n    print('Hello, ' + name)"
      ]
    },
    {
      "cell_type": "markdown",
      "metadata": {},
      "source": [
        "-   In this example, the function `hello` takes a parameter called\n    `name`. When the function is called with a name, it prints a greeting\n    message using that name.\n\n"
      ]
    },
    {
      "cell_type": "code",
      "execution_count": 1,
      "metadata": {},
      "outputs": [],
      "source": [
        "hello('Marcus')\nhello('Alice')"
      ]
    },
    {
      "cell_type": "markdown",
      "metadata": {},
      "source": [
        "-   When the function returns from being called, the value stored in a\n    parameter is forgotten: what's the output of this script given the\n    definition of `hello(name)` above?\n\n"
      ]
    },
    {
      "cell_type": "code",
      "execution_count": 1,
      "metadata": {},
      "outputs": [],
      "source": [
        "hello('Bob')\nhello(name)"
      ]
    },
    {
      "cell_type": "markdown",
      "metadata": {},
      "source": [
        "## Define, Call, Pass, Argument, Parameter, Recursion\n\n"
      ]
    },
    {
      "cell_type": "markdown",
      "metadata": {},
      "source": [
        "-   It may sound trivial, but it's not trivial to keep these concepts\n    apart:\n    \n    | TERM/COMMAND|MEANING|\n    |---|---|\n    | Function definition|Create a function with <code>def</code> [name]([args]):|\n    | Function call|Executing function (with/out passing arguments)|\n    | Function argument|Value passed to a function in a function call|\n    | Function parameter|Variables that have arguments assigned to them|\n\n-   Analyse this function and decide how to call it - what is 'result'?\n\n"
      ]
    },
    {
      "cell_type": "code",
      "execution_count": 1,
      "metadata": {},
      "outputs": [],
      "source": [
        "def result(result):\n    print(result)"
      ]
    },
    {
      "cell_type": "markdown",
      "metadata": {},
      "source": [
        "-   Example calls:\n\n"
      ]
    },
    {
      "cell_type": "code",
      "execution_count": 1,
      "metadata": {},
      "outputs": [],
      "source": [
        "result(12)\nresult(12 + 500)\nresult('a')\nresult('hello world')\nresult('hello ' + 'world')"
      ]
    },
    {
      "cell_type": "markdown",
      "metadata": {},
      "source": [
        "-   What's what:\n    1.  `result` is a function name\n    2.  `result` is a parameter of the function `result`\n    3.  `result` is an argument of the function call `print`\n\n-   Can you call `result` inside `result`? ([pythontutor.com](https://pythontutor.com/visualize.html#code=def%20result%28result%29%3A%0A%20%20%20%20print%28result%29%0A%20%20%20%20result%281%29%0Aresult%282%29&cumulative=false&curInstr=0&heapPrimitives=nevernest&mode=display&origin=opt-frontend.js&py=3&rawInputLstJSON=%5B%5D&textReferences=false))\n\n"
      ]
    },
    {
      "cell_type": "code",
      "execution_count": 1,
      "metadata": {},
      "outputs": [],
      "source": [
        "def result(result):\n    print(result)\n    result(1)\n    result(2)"
      ]
    },
    {
      "cell_type": "markdown",
      "metadata": {},
      "source": [
        ">   - The `TypeError: 'int' object is not callable` is because at that\n>     point, `result` has been redefined as a parameter of the function,\n>     not the function itself.\n>   - When you try to call `result(1)` inside the function, you treat `2`\n>     (the value passed as an argument to the function parameter) as a\n>     function - but `2` is an `int` and therefore not callable.\n\n-   A clearer version of this procedure:\n\n"
      ]
    },
    {
      "cell_type": "code",
      "execution_count": 1,
      "metadata": {},
      "outputs": [],
      "source": [
        "def result(parameter):\n    print(parameter)\n    parameter(1) # Here parameter is not a function, it's the value\n    # you passed (2)\nresult(2)"
      ]
    },
    {
      "cell_type": "markdown",
      "metadata": {},
      "source": [
        "-   How can you make a *recursive* function that calls itself? ([PythonTutor](https://pythontutor.com/visualize.html#code=def%20result%28parameter%29%3A%0A%20%20%20%20print%28'Parameter%3A%20',%20parameter%29%0A%20%20%20%20if%20parameter%20%3E%200%3A%20%20%0A%20%20%20%20%20%20%20%20result%28parameter%20-%201%29%20%0Aresult%282%29&cumulative=false&curInstr=16&heapPrimitives=nevernest&mode=display&origin=opt-frontend.js&py=3&rawInputLstJSON=%5B%5D&textReferences=false))\n\n"
      ]
    },
    {
      "cell_type": "code",
      "execution_count": 1,
      "metadata": {},
      "outputs": [],
      "source": [
        "def result(parameter):\n    print(f'Parameter: {parameter}')\n    if parameter > 0:  # a base case to stop recursion\n        result(parameter - 1)  # call function itself, not the parameter\n        result(2)"
      ]
    },
    {
      "cell_type": "markdown",
      "metadata": {},
      "source": [
        "## Practice defining functions with one parameter\n\n"
      ]
    },
    {
      "cell_type": "markdown",
      "metadata": {},
      "source": [
        "1.  In Colab, write a function `count` that takes a string `str` as an\n    argument and prints the number of its characters.\n    \n    Tip: remember that there is a built-in function called `str.count` that can count the characters of a string `str` when given the right argument.\n\n2.  Call `count` on these arguments: `a`, `abcd`, `a b c d`. Output:\n\n3.  Is it Okay to call this function `count`?\n\n>    - It's OK to call your own function by a name used by Python: it\n>      will not affect the built-in function of the same name.\n>    - However, in your current scope (i.e. your Python session), it\n>      will overshadow the built-in function.\n>    - It is considered poor practice to re-use function names. In a\n>      modern editor, the syntax highlighting will tip you off.\n\n1.  Is it Okay to call the function parameter `str`?\n\n>    - It is OK to call a parameter inside your own function by a known\n>      name - it won't affect its use outside of the function.\n>    - However, inside the function, your name will overshadow the\n>      previous name used by Python.\n>    - It is considered poor practice to re-use keywords as names. In a\n>      modern editor, the syntax highlighting will tip you off.\n\n1.  Solution 1 ([here in pythontutor with poor naming practice](https://pythontutor.com/visualize.html#code=%23%20function%20def%0Adef%20count%20%28str%29%3A%0A%20%20%20%20%20print%28str%29%0A%20%20%20%20%20print%28str.count%28''%29-1%29%0A%23%20function%20call%0Acount%28str%3D'abcd'%29%0Acount%28''%29%0Aprint%28str%28'0'%29%29%0A&cumulative=false&curInstr=12&heapPrimitives=nevernest&mode=display&origin=opt-frontend.js&py=3&rawInputLstJSON=%5B%5D&textReferences=false)):\n\n"
      ]
    },
    {
      "cell_type": "code",
      "execution_count": 1,
      "metadata": {},
      "outputs": [],
      "source": [
        "# function def\ndef cnt (string):\n    print(string.count('')-1)\n\n# function call\ncnt('a')\ncnt('abcd')\ncnt('a b c d')\ncnt(string='a b c d') # keyword parameter call\nprint('abcd'.count('')-1)  # standard Python `str.count` function"
      ]
    },
    {
      "cell_type": "markdown",
      "metadata": {},
      "source": [
        "1.  Solution 2:\n\n"
      ]
    },
    {
      "cell_type": "code",
      "execution_count": 1,
      "metadata": {},
      "outputs": [
        {
          "name": "stdout",
          "output_type": "stream",
          "text": [
            ": 4\n   : 5"
          ]
        }
      ],
      "source": [
        "def cnt1(string):\n    return len(string)\nprint(cnt1('abcd'))\nprint(cnt1('a b c'))"
      ]
    },
    {
      "cell_type": "markdown",
      "metadata": {},
      "source": [
        "## Return Values and `return` Statements\n\n"
      ]
    },
    {
      "cell_type": "markdown",
      "metadata": {},
      "source": [
        "-   Functions can also provide an *output* or *return value* using the\n    `return` statement. It consists of:\n    1.  the `return` keyword\n    2.  the value or expression that the function should return.\n\n-   The `return` statement causes the function to exit.\n\n-   Example 1 (can you identify the terms?):\n\n"
      ]
    },
    {
      "cell_type": "code",
      "execution_count": 1,
      "metadata": {},
      "outputs": [],
      "source": [
        "def getAnswer(answerNumber):\n    if answerNumber == 42:\n        return 'The meaning of life, the universe, and everything.'"
      ]
    },
    {
      "cell_type": "markdown",
      "metadata": {},
      "source": [
        "-   Analysis of the function:\n    1.  `getAnswer` is a function\n    2.  It takes a parameter `answerNumber`\n    3.  The function checks if parameter is equal to `42`\n    4.  If the parameter is equal to `42`, it returns a string.\n    5.  If the parameter is not equal to `42`, it returns `None`.\n\n-   Let's [check this out in pythontutor](https://pythontutor.com/visualize.html#code=def%20getAnswer%28answerNumber%29%3A%0A%20%20%20%20if%20answerNumber%20%3D%3D%2042%3A%0A%20%20%20%20%20%20%20%20return%20'The%20meaning%20of%20life,%20the%20universe,%20and%20everything.'%0AgetAnswer%2842%29%0AgetAnswer%2840%29&cumulative=false&curInstr=0&heapPrimitives=nevernest&mode=display&origin=opt-frontend.js&py=3&rawInputLstJSON=%5B%5D&textReferences=false).\n\n"
      ]
    },
    {
      "cell_type": "markdown",
      "metadata": {},
      "source": [
        "## Extended example: 'Magic 8 Ball'\n\n"
      ]
    },
    {
      "cell_type": "markdown",
      "metadata": {},
      "source": [
        "-   Enter this code in Colab (without comments), then run it a few times\n    ([pythontutor](https://pythontutor.com/visualize.html#code=import%20random%0A%0Adef%20getAnswer%28answerNumber%29%3A%0A%20%20%20%20if%20answerNumber%20%3D%3D%201%3A%0A%20%20%20%20%20%20%20%20return%20'It%20is%20certain'%0A%20%20%20%20elif%20answerNumber%20%3D%3D%202%3A%0A%20%20%20%20%20%20%20%20return%20'It%20is%20decidedly%20so'%0A%20%20%20%20elif%20answerNumber%20%3D%3D%203%3A%0A%20%20%20%20%20%20%20%20return%20'Yes'%0A%20%20%20%20elif%20answerNumber%20%3D%3D%204%3A%0A%20%20%20%20%20%20%20%20return%20'Reply%20hazy%20try%20again'%0A%20%20%20%20elif%20answerNumber%20%3D%3D%205%3A%0A%20%20%20%20%20%20%20%20return%20'Ask%20again%20later'%0A%20%20%20%20elif%20answerNumber%20%3D%3D%206%3A%0A%20%20%20%20%20%20%20%20return%20'Concentrate%20and%20ask%20again'%0A%20%20%20%20elif%20answerNumber%20%3D%3D%207%3A%0A%20%20%20%20%20%20%20%20return%20'My%20reply%20is%20no'%0A%20%20%20%20elif%20answerNumber%20%3D%3D%208%3A%0A%20%20%20%20%20%20%20%20return%20'Outlook%20not%20so%20good'%0A%20%20%20%20elif%20answerNumber%20%3D%3D%209%3A%0A%20%20%20%20%20%20%20%20return%20'Very%20doubtful'%0A%0Ar%20%3D%20random.randint%281,%209%29%0Afortune%20%3D%20getAnswer%28r%29%0Aprint%28fortune%29%0AgetAnswer%2810%29&cumulative=false&curInstr=27&heapPrimitives=false&mode=display&origin=opt-frontend.js&py=3&rawInputLstJSON=%5B%5D&textReferences=false)):\n\n"
      ]
    },
    {
      "cell_type": "code",
      "execution_count": 1,
      "metadata": {},
      "outputs": [],
      "source": [
        "import random                  #1\n\ndef getAnswer(answerNumber):   #2\n    if answerNumber == 1:      #3\n        return 'It is certain'\n    elif answerNumber == 2:\n        return 'It is decidely so'\n    elif answerNumber == 3:\n        return 'It is Yes'\n    elif answerNumber == 4:\n        return 'Reply hazy try again'\n    elif answerNumber == 5:\n        return 'Ask again later'\n    elif answerNumber == 6:\n        return 'Concentrate and ask again'\n    elif answerNumber == 7:\n        return 'My reply is no'\n    elif answerNumber == 8:\n        return 'Outlook not so good'\n    elif answerNumber == 9:\n        return 'Very doubtful'\n\nr = random.randint(1,9)        #4\nfortune = getAnswer(r)         #5\nprint(fortune)                 #6"
      ]
    },
    {
      "cell_type": "markdown",
      "metadata": {},
      "source": [
        "-   Analysis:\n    1.  Import `random` module for random number functions.\n    2.  Store a random integer from [1,9] in `r`.\n    3.  Call function `getAnswer` with argument `r`.\n    4.  Store `return` value from function in `fortune`.\n    5.  `print` the `fortune`.\n    6.  When calling a value outside of [1,9], `None` is `return` value.\n\n-   Introducing a `list` will allow us to shrink this script by a lot.\n\n"
      ]
    },
    {
      "cell_type": "markdown",
      "metadata": {},
      "source": [
        "## Practice using return values and statements\n\n"
      ]
    },
    {
      "cell_type": "markdown",
      "metadata": {},
      "source": [
        "### Calculate area of a rectangle\n\n"
      ]
    },
    {
      "cell_type": "markdown",
      "metadata": {},
      "source": [
        "-   Write a function called `calculate_area` that takes two parameters,\n    `length` and `width`, and calculates the `area` of a rectangle. The\n    formula to calculate the area of a rectangle is `area = length *\n      width`. The function should return the calculated area via `print`.\n\n-   Test the function with the values (4,5) and (7,3) for\n    (length,width), and the expected output 20 and 21, respectively.\n\n-   Sample solution:\n\n"
      ]
    },
    {
      "cell_type": "code",
      "execution_count": 1,
      "metadata": {},
      "outputs": [],
      "source": [
        "# function definition\ndef calculate_area(length, width):\n    area = length * width\n    return print(area)\n# function call\ncalculate_area(4,5)\ncalculate_area(7,3)"
      ]
    },
    {
      "cell_type": "markdown",
      "metadata": {},
      "source": [
        "    20\n    21\n\n-   What is the impact of `return`? Leave it out:\n\n"
      ]
    },
    {
      "cell_type": "code",
      "execution_count": 1,
      "metadata": {},
      "outputs": [
        {
          "name": "stdout",
          "output_type": "stream",
          "text": [
            "calculate_area_2\n  : 20\n  : 21"
          ]
        }
      ],
      "source": [
        "# function definition\ndef calculate_area_2(length, width):\n    area = length * width\n    print(area)\n    # function call\ncalculate_area_2(4,5)\ncalculate_area_2(7,3)"
      ]
    },
    {
      "cell_type": "markdown",
      "metadata": {},
      "source": [
        "-   What is the impact of `print`? Return only the result:\n\n"
      ]
    },
    {
      "cell_type": "code",
      "execution_count": 1,
      "metadata": {},
      "outputs": [
        {
          "name": "stdout",
          "output_type": "stream",
          "text": [
            "calculate_area_3\n  : 20\n  : 21"
          ]
        }
      ],
      "source": [
        "# function definition\ndef calculate_area_3(length, width):\n    area = length * width\n    return area\n# function call\nprint(calculate_area_3(4,5))\nprint(calculate_area_3(7,3))"
      ]
    },
    {
      "cell_type": "markdown",
      "metadata": {},
      "source": [
        "### Identify an even number\n\n"
      ]
    },
    {
      "cell_type": "markdown",
      "metadata": {},
      "source": [
        "-   Write a function called `is_even` that takes a single parameter,\n    `number`, and checks if the number is even. If the number is even, the\n    function should return `True`; otherwise, it should return `False`.\n\n-   Tip: to check if a number N is even, you can use the modulus\n    operator `%` - the modulus of any even number with 2 is zero.\n\n-   Test the function with the values 4 and 7.\n\n"
      ]
    },
    {
      "cell_type": "markdown",
      "metadata": {},
      "source": [
        "## The `None` Value\n\n"
      ]
    },
    {
      "cell_type": "markdown",
      "metadata": {},
      "source": [
        "-   In Python, `None` represents the absence of a value.\n\n-   `None` is the only value of the `NoneType` data type (show this):\n\n"
      ]
    },
    {
      "cell_type": "code",
      "execution_count": 1,
      "metadata": {},
      "outputs": [],
      "source": [
        "print(type(None))"
      ]
    },
    {
      "cell_type": "markdown",
      "metadata": {},
      "source": [
        "-   `None` is used e.g. as the `return` value for `print()`:\n\n"
      ]
    },
    {
      "cell_type": "code",
      "execution_count": 1,
      "metadata": {},
      "outputs": [],
      "source": [
        "spam = print('Hello') # prints 'Hello'\nprint(None == spam)   # spam now contains None"
      ]
    },
    {
      "cell_type": "markdown",
      "metadata": {},
      "source": [
        "-   Python adds `return None` to the end of any function definition with\n    no `return` statement.\n\n-   This is similar to how a `while` or `for` loop implicitly ends with a\n    `continue` statement (adding it makes the code more readable).\n\n-   Also, using `return` without a return value, returns `None`. Show this\n    with a function that you write yourself!\n\n"
      ]
    },
    {
      "cell_type": "code",
      "execution_count": 1,
      "metadata": {},
      "outputs": [],
      "source": [
        "def none():\n    return\nprint(none())"
      ]
    },
    {
      "cell_type": "markdown",
      "metadata": {},
      "source": [
        "## Practice the `None` value\n\n"
      ]
    },
    {
      "cell_type": "markdown",
      "metadata": {},
      "source": [
        "### Maximum value in a list\n\n"
      ]
    },
    {
      "cell_type": "markdown",
      "metadata": {},
      "source": [
        "-   Write a function called `find_max` that takes a list of numbers as a\n    parameter and returns the maximum value in the list. If the list is\n    empty, the function should return `None`.\n\n-   Tip: you can use the built-in function `max` to identify the maximum\n    number in a Python list, or you can devise your own algorithm\n    (home bonus assignment).\n\n-   Test the function by calling it with these sample arguments:\n    \n        print(find_max([2, 4, 6, 8, 10]))  # Output: 10\n        print(find_max([]))  # Output: None\n\n"
      ]
    },
    {
      "cell_type": "markdown",
      "metadata": {},
      "source": [
        "### Check divisibility of two integers (do it at home)\n\n"
      ]
    },
    {
      "cell_type": "markdown",
      "metadata": {},
      "source": [
        "-   Write a function called `check_divisibility` that takes two integers,\n    `num` and `divisor`, as parameters. The function should check if `num` is\n    divisible by `divisor` without a remainder. If it is divisible, the\n    function should return `True`; otherwise, it should return `None`.\n\n-   Tip: to check if a number N is divisible by a number M, you can use\n    the modulus operator `%` - the modulus of N and M is zero if they are\n    divisible.\n\n-   Test the function with different arguments:\n    \n        print(check_divisibility(10, 5))  # Output: True\n        print(check_divisibility(10, 7))  # Output: None\n\n"
      ]
    },
    {
      "cell_type": "markdown",
      "metadata": {},
      "source": [
        "## Keyword Arguments and `print()`\n\n"
      ]
    },
    {
      "cell_type": "markdown",
      "metadata": {},
      "source": [
        "-   Arguments are either positional arguments or keyword arguments\n\n-   Positional arguments are identified by their position only\n\n-   Keyword arguments can be assigned default values\n\n-   The `print` function is an example:\n\n"
      ]
    },
    {
      "cell_type": "code",
      "execution_count": 1,
      "metadata": {},
      "outputs": [],
      "source": [
        "print('Hello', end='')\nprint('World')"
      ]
    },
    {
      "cell_type": "markdown",
      "metadata": {},
      "source": [
        "-   Which other keyword parameters does `print` have?\n\n"
      ]
    },
    {
      "cell_type": "code",
      "execution_count": 1,
      "metadata": {},
      "outputs": [
        {
          "name": "stdout",
          "output_type": "stream",
          "text": [
            "#+begin_example\n  Help on built-in function print in module builtins:\n\n  print(*args, sep=' ', end='\\n', file=None, flush=False)\n      Prints the values to a stream, or to sys.stdout by default.\n\n      sep\n        string inserted between values, default a space.\n      end\n        string appended after the last value, default a newline.\n      file\n        a file-like object (stream); defaults to the current sys.stdout.\n      flush\n        whether to forcibly flush the stream.\n\n  None\n  #+end_example"
          ]
        }
      ],
      "source": [
        "print(help(print))   # on IPython, use `print?`"
      ]
    },
    {
      "cell_type": "markdown",
      "metadata": {},
      "source": [
        "-   Print `Hello, World Hello, World` using only 'Hello' and 'World':\n\n"
      ]
    },
    {
      "cell_type": "code",
      "execution_count": 1,
      "metadata": {},
      "outputs": [
        {
          "name": "stdout",
          "output_type": "stream",
          "text": [
            ": Hello, World Hello, World"
          ]
        }
      ],
      "source": [
        "print('Hello', 'World', end=' ', sep=', ')\nprint('Hello', 'World', end='', sep=', ')"
      ]
    },
    {
      "cell_type": "markdown",
      "metadata": {},
      "source": [
        "-   Print 'Hello, World!' to a file named `helloworld.txt`, then check if\n    the file was created with 'magic' IPython commands `%ls` and `%cat`:\n    \n        # tell computer to write stdout to a file f\n        with open('helloworld.txt', 'w') as f:\n            print('Hello, World!', file=f)\n        \n        # in IPython, list file and view content\n        %ls -l helloworld.txt\n        %cat helloworld.txt\n\n-   The `flush` keyword parameter default is `False`, which means that the\n    output is buffered (held) before being written to stdout.\n\n-   When you want logging or status messages during run-time to be\n    directly visible, `flush=True` might be useful:\n    \n        import time\n        \n        for i in range(5):\n            print(i, end=' ', flush=True)  # write i immediately\n            time.sleep(1) # pause for 1 second\n\n-   It makes sense to spend some time experimenting with the keyword\n    parameters of important built-in functions that you use a lot.\n\n-   You can add your own keyword arguments to the functions as well\n    (after learning more about lists and dictionaries).\n\n"
      ]
    },
    {
      "cell_type": "markdown",
      "metadata": {},
      "source": [
        "## The Call Stack\n\n"
      ]
    },
    {
      "cell_type": "markdown",
      "metadata": {},
      "source": [
        "-   A conversation could be called 'stack-like' if the current topic is\n    always at the top of the stack structure:\n    \n    ![img](../img/6_stack.png \"Conversation as call stack\")\n\n-   Similarly, Python remembers which line of your script called the\n    function and will return there when it hits a `return` statement.\n\n-   If that function called other functions, it would return to those\n    functions first before returning to the original function call.\n\n-   Check out this program ([autbor.com/abcdcallstack/](https://autbor.com/abcdcallstack/)):\n\n"
      ]
    },
    {
      "cell_type": "code",
      "execution_count": 1,
      "metadata": {},
      "outputs": [
        {
          "name": "stdout",
          "output_type": "stream",
          "text": [
            ": a starts\n  : b starts\n  : c starts\n  : c returns\n  : b returns\n  : d starts\n  : d returns\n  : a returns"
          ]
        }
      ],
      "source": [
        "def a():\n    print('a starts')\n    b()\n    d()\n    print('a returns')\n\ndef b():\n    print('b starts')\n    c()\n    print('b returns')\n\ndef c():\n    print('c starts')\n    print('c returns')\n\ndef d():\n    print('d starts')\n    print('d returns')\n\n# function call\na()"
      ]
    },
    {
      "cell_type": "markdown",
      "metadata": {},
      "source": [
        "-   The stack picture looks like this:\n    \n    ![img](../img/6_abcdstack.png \"abcd call stack\")\n\n-   Frame objects are only added and removed from the top of the stack.\n\n-   The top of the stack is which function is currently being executed.\n\n"
      ]
    },
    {
      "cell_type": "markdown",
      "metadata": {},
      "source": [
        "## Local and Global Scope\n\n"
      ]
    },
    {
      "cell_type": "markdown",
      "metadata": {},
      "source": [
        "-   Variables that are assigned in functions are in *local scope* - they\n    are only known (and can be used only) inside the function.\n\n-   Variables that are assigned outside of any function are in *global\n    scope* - they are known (and can be used) anywhere in the script.\n\n-   A variable must be either local or global in scope.\n\n-   Scopes are like containers: When a scope is destroyed, all the\n    values stored in the scope's variables are forgotten:\n    1.  When a function call is ended, local scope is destroyed.\n    2.  When a program is finished, global scope is destroyed.\n\n-   Why is this important?\n    1.  Code in global scope cannot use local variables\n    2.  Code in local scope can use global variables\n    3.  You can use the same name for variables in different scopes\n    4.  This narrows the number of lines that could cause a bug.\n\n"
      ]
    },
    {
      "cell_type": "markdown",
      "metadata": {},
      "source": [
        "## Local and global variables with the same name\n\n"
      ]
    },
    {
      "cell_type": "markdown",
      "metadata": {},
      "source": [
        "-   Check out this example (in the [pythontutor](https://autbor.com/localglobalsamename/) you can see the frames):\n    how many variables called `eggs` are there?\n\n"
      ]
    },
    {
      "cell_type": "code",
      "execution_count": 1,
      "metadata": {},
      "outputs": [],
      "source": [
        "def spam():\n    eggs = 'spam local'\n    print(eggs) # prints 'spam local'\n\ndef bacon():\n    eggs = 'bacon local'\n    spam()   # call spam\n    print(eggs)  # prints 'bacon local'\n\neggs = 'global'  # global `eggs`\nbacon()          # local `eggs` in bacon() and spam()\nprint(eggs)      # global `eggs`"
      ]
    },
    {
      "cell_type": "markdown",
      "metadata": {},
      "source": [
        "-   **Analyze this:** which printout do you expect - will this work?\n\n"
      ]
    },
    {
      "cell_type": "code",
      "execution_count": 1,
      "metadata": {},
      "outputs": [
        {
          "name": "stdout",
          "output_type": "stream",
          "text": [
            ": Hello from hello1\n  : Hello from hello2"
          ]
        }
      ],
      "source": [
        "# function definition\ndef hello1():\n    print('Hello from hello1')\n    def hello2():\n        return print('Hello from hello2')\n    hello2()\n    # function calls\nhello1()\nhello2()"
      ]
    },
    {
      "cell_type": "markdown",
      "metadata": {},
      "source": [
        "-   **Analysis:**\n    1.  All functions are void (take no arguments).\n    2.  `hello1` prints message and calls `hello2`\n    3.  `hello2` prints message and returns `print` message\n    4.  `hello1` returns `None` and `hello2` is destroyed\n    5.  `hello2` is called outside of scope - `NameError`\n\n"
      ]
    },
    {
      "cell_type": "markdown",
      "metadata": {},
      "source": [
        "## Practice local scope\n\n"
      ]
    },
    {
      "cell_type": "markdown",
      "metadata": {},
      "source": [
        "-   Write a function called `add` that takes two parameters, `x` and\n    `y`. Inside the function, declare a local variable called `z` and assign\n    it the sum of `x` and `y`. Print the value of `z` inside the\n    function. Then, outside the function, print the value of `z`.\n\n"
      ]
    },
    {
      "cell_type": "markdown",
      "metadata": {},
      "source": [
        "## The `global` statement\n\n"
      ]
    },
    {
      "cell_type": "markdown",
      "metadata": {},
      "source": [
        "-   Use `global` to modify a global variable from within a function: the\n    line `global eggs` at the top of a function says to Python \"don't\n    create a local variable with this name!\"\n\n-   View the program execution at [autbor.com/globalstatement/](https://autbor.com/globalstatement/)\n\n"
      ]
    },
    {
      "cell_type": "code",
      "execution_count": 1,
      "metadata": {},
      "outputs": [],
      "source": [
        "def spam():\n    global eggs\n    eggs = 'spam' # this is now the global value of `eggs`\n\neggs = 'global'\nspam()  # returns the global value of `eggs`\nprint(eggs)"
      ]
    },
    {
      "cell_type": "markdown",
      "metadata": {},
      "source": [
        "-   There are four rules to tell which scope a variable is in:\n    1.  If is used in the global scope (outside of all functions), then\n        it is always a global variable.\n    2.  If there is a `global` statement in a function, it is a global\n        variable.\n    3.  If there is no `global` statement and the variable is used in an\n        assignment in the function, it is a local variable.\n    4.  But if the variable is not used in an assignment statement, it is\n        a global variable.\n\n-   Identify output and local or global variables ([pythontutor](https://autbor.com/sameNameLocalGlobal/)):\n\n"
      ]
    },
    {
      "cell_type": "code",
      "execution_count": 1,
      "metadata": {},
      "outputs": [],
      "source": [
        "def spam():\n    global eggs\n    eggs = 'spam'\n\ndef bacon():\n    eggs = 'bacon'\n\ndef ham():\n    print(eggs)\n\neggs = 42\nspam()\nprint(eggs)"
      ]
    },
    {
      "cell_type": "markdown",
      "metadata": {},
      "source": [
        "-   Identify output and local or global variables ([pythontutor](https://pythontutor.com/visualize.html#code=def%20cnt%28%29%3A%0A%20%20%20%20count%20%3D%200%0A%20%20%20%20return%20count%0A%0Adef%20increment%28%29%3A%0A%20%20%20%20global%20count%0A%20%20%20%20count%20%2B%3D%201%0A%0Acount%20%3D%200%0Acnt%28%29%0Aincrement%28%29%0Aprint%28count%29&cumulative=false&curInstr=0&heapPrimitives=nevernest&mode=display&origin=opt-frontend.js&py=3&rawInputLstJSON=%5B%5D&textReferences=false)):\n\n"
      ]
    },
    {
      "cell_type": "code",
      "execution_count": 1,
      "metadata": {},
      "outputs": [
        {
          "name": "stdout",
          "output_type": "stream",
          "text": [
            ": 1"
          ]
        }
      ],
      "source": [
        "count = 0\n\ndef cnt():\n    count = 0\n    return count\n\ndef increment():\n    global count\n    count += 1  # count = count + 1\n\ncnt()\nincrement()\nprint(count)"
      ]
    },
    {
      "cell_type": "markdown",
      "metadata": {},
      "source": [
        "## Referencing local variables before assignment\n\n"
      ]
    },
    {
      "cell_type": "markdown",
      "metadata": {},
      "source": [
        "-   If you try to use a local variable in a function before you assign a\n    value to it, you get an `UnboundLocalError` ([pythontutor](https://autbor.com/sameNameError/)):\n\n"
      ]
    },
    {
      "cell_type": "code",
      "execution_count": 1,
      "metadata": {},
      "outputs": [],
      "source": [
        "def spam():\n    print(eggs) # ERROR\n    eggs = 'spam local'\n\neggs = 'global'\nspam()"
      ]
    },
    {
      "cell_type": "markdown",
      "metadata": {},
      "source": [
        "    print(eggs) # ERROR\n        ^^^^\n    UnboundLocalError: cannot access local variable 'eggs'\n    where it is not associated with a value\n\n-   Python sees the assignment for `eggs` in the function and therefore\n    considers it local.\n\n-   But when trying to execute `print(eggs)`, `eggs` does not exist, and\n    Python will not fall back to using the global `eggs` variable.\n\n"
      ]
    },
    {
      "cell_type": "markdown",
      "metadata": {},
      "source": [
        "## Practice the `global` statement\n\n"
      ]
    },
    {
      "cell_type": "markdown",
      "metadata": {},
      "source": [
        "-   Write a *void* function called `modify_global_variable` that takes no\n    parameters. Inside the function, declare a `global` variable called\n    `count` and assign it an initial value of `0`. Increment the value of\n    `count` by `1` using an *augmented assignment* operator `+=`. Print the\n    value of `count` inside the function. Then, outside the function,\n    increment the value of `count` by `1` and print it.\n\n-   **Print all statements with f-strings**.\n\n-   Sample output:\n    \n        Inside the function: 1\n        Outside the function: 2\n\n-   Copy your solution to [pythontutor.com](https://pythontutor.com/visualize.html#code=def%20modify_global_variable%28%29%3A%0A%20%20%20%20global%20count%0A%20%20%20%20count%20%3D%200%0A%20%20%20%20count%20%2B%3D%201%0A%20%20%20%20print%28f'Inside%20the%20function%3A%20%7Bcount%7D'%29%20%20%23%20inside%20function%0A%0Amodify_global_variable%28%29%0Acount%20%2B%3D%201%0Aprint%28f'Outside%20the%20function%3A%20%7Bcount%7D'%29%20%23%20outside%20of%20function&cumulative=false&curInstr=0&heapPrimitives=nevernest&mode=display&origin=opt-frontend.js&py=3&rawInputLstJSON=%5B%5D&textReferences=false) to visualize the execution.\n\n"
      ]
    },
    {
      "cell_type": "markdown",
      "metadata": {},
      "source": [
        "## Exception handling with `try` and `except`\n\n"
      ]
    },
    {
      "cell_type": "markdown",
      "metadata": {},
      "source": [
        "-   In real-world programs, you want Python to detect errors, handle\n    them, and continue to run.\n\n-   Example: this program has a fatal divide-by-zero error.\n\n"
      ]
    },
    {
      "cell_type": "code",
      "execution_count": 1,
      "metadata": {},
      "outputs": [],
      "source": [
        "def spam(divideBy):\n    return 42 / divideBy\n\nprint(spam(2))\nprint(spam(12))\nprint(spam(0))\nprint(spam(1))"
      ]
    },
    {
      "cell_type": "markdown",
      "metadata": {},
      "source": [
        "-   The error name is `ZeroDivisionError`. From the traceback, you know\n    that the `return` statement is causing the error.\n\n-   To handle this exception, put the divide-by-zero code in a `try`\n    clause and add an `except` clause to handle the error scenario:\n\n"
      ]
    },
    {
      "cell_type": "code",
      "execution_count": 1,
      "metadata": {},
      "outputs": [
        {
          "name": "stdout",
          "output_type": "stream",
          "text": [
            ": 21.0\n  : 3.5\n  : Error: Invalid argument\n  : None\n  : 42.0"
          ]
        }
      ],
      "source": [
        "def spam(divideBy):\n    try:\n        return 42 / divideBy\n    except ZeroDivisionError:\n        print('Error: Invalid argument')\n\nprint(spam(2))\nprint(spam(12))\nprint(spam(0))\nprint(spam(1))"
      ]
    },
    {
      "cell_type": "markdown",
      "metadata": {},
      "source": [
        "-   Why is `None` printed out?\n\n>   Answer: because the `except` clause does not end with a `return`\n>   statement.\n\n-   Any errors that occur in function calls in a `try` block will be\n    caught (see [pythontutor](https://autbor.com/spamintry/)):\n\n"
      ]
    },
    {
      "cell_type": "code",
      "execution_count": 1,
      "metadata": {},
      "outputs": [],
      "source": [
        "def spam(divideBy):\n    return 42 / divideBy\n\ntry:\n    print(spam(2))\n    print(spam(12))\n    print(spam(0))\n    print(spam(1))\n\nexcept ZeroDivisionError:\n    print('Error: Invalid argument')"
      ]
    },
    {
      "cell_type": "markdown",
      "metadata": {},
      "source": [
        "## `try` harder `except` when you're `finally` done\n\n"
      ]
    },
    {
      "cell_type": "markdown",
      "metadata": {},
      "source": [
        "-   You can add as many `except` statements as you like, for more than one\n    error. Example: a version of `float` that fails gracefully.\n\n-   Remember: executing the `except` clause means that a legitimate error\n    is suppressed and the program fails in a controlled manner only.\n\n-   The `except` clause will only be executed if `float(x)` raises an\n    exception (in this case a `ValueError`):\n\n"
      ]
    },
    {
      "cell_type": "code",
      "execution_count": 1,
      "metadata": {},
      "outputs": [
        {
          "name": "stdout",
          "output_type": "stream",
          "text": [
            ": 1.2345\n  : Cannot convert 'something' to float."
          ]
        }
      ],
      "source": [
        "def attempt_float(x):\n    try:\n       return print(float(x))\n    except:\n       return print(f\"Cannot convert '{x}' to float.\")\n\nattempt_float('1.2345')\nattempt_float('something')   # ValueError"
      ]
    },
    {
      "cell_type": "markdown",
      "metadata": {},
      "source": [
        "-   A `float` conversion can also raise a `TypeError`:\n\n"
      ]
    },
    {
      "cell_type": "code",
      "execution_count": 1,
      "metadata": {},
      "outputs": [],
      "source": [
        "float((1,2))  # TypeError: cannot convert a tuple"
      ]
    },
    {
      "cell_type": "markdown",
      "metadata": {},
      "source": [
        "-   Here, the `except` clause will only be executed if a `ValueError` is\n    raised (the `TypeError` might indicate a legitimate bug):\n\n"
      ]
    },
    {
      "cell_type": "code",
      "execution_count": 1,
      "metadata": {},
      "outputs": [],
      "source": [
        "def attempt_float(x):\n    try:\n       return print(float(x))\n    except ValueError:\n       return print(f\"ValueError: cannot convert '{x}' to float.\")\n\nattempt_float((1,2))  # TypeError not excepted - program terminates\nattempt_float('1.2345')\nattempt_float('something')   # ValueError is excepted"
      ]
    },
    {
      "cell_type": "markdown",
      "metadata": {},
      "source": [
        "-   The `except` clause will only be executed if a `ValueError` is raised:\n\n"
      ]
    },
    {
      "cell_type": "code",
      "execution_count": 1,
      "metadata": {},
      "outputs": [],
      "source": [
        "def attempt_float(x):\n    try:\n       return print(float(x))\n    except ValueError:\n       return print(f\"ValueError: cannot convert '{x}' to float.\")\n\nattempt_float((1,2))  \nattempt_float('1.2345')\nattempt_float('something')   # ValueError"
      ]
    },
    {
      "cell_type": "markdown",
      "metadata": {},
      "source": [
        "-   You can catch multiple exception types simultaneously, too:\n\n"
      ]
    },
    {
      "cell_type": "code",
      "execution_count": 1,
      "metadata": {},
      "outputs": [
        {
          "name": "stdout",
          "output_type": "stream",
          "text": [
            ": TypeError or ValueError: a\n  : TypeError or ValueError: (1, 2, 3)\n  : 1.0"
          ]
        }
      ],
      "source": [
        "def attempt_float(x):\n    try:\n        return print(float(x))\n    except (TypeError, ValueError):\n        return print(f'TypeError or ValueError: {x}')\n\nattempt_float('a')\nattempt_float((1,2,3))\nattempt_float(1)"
      ]
    },
    {
      "cell_type": "markdown",
      "metadata": {},
      "source": [
        "-   Or you can catch them serially, like this:\n\n"
      ]
    },
    {
      "cell_type": "code",
      "execution_count": 1,
      "metadata": {},
      "outputs": [
        {
          "name": "stdout",
          "output_type": "stream",
          "text": [
            ": ValueError: a\n  : TypeError: (1, 2, 3)\n  : 1.0"
          ]
        }
      ],
      "source": [
        "def attempt_float(x):\n    try:\n        return print(float(x))\n    except TypeError:\n        return print(f'TypeError: {x}')\n    except ValueError:\n        return print(f'ValueError: {x}')\n\nattempt_float('a')\nattempt_float((1,2,3))\nattempt_float(1)"
      ]
    },
    {
      "cell_type": "markdown",
      "metadata": {},
      "source": [
        "-   You may not want to suppress an exception but code to be executed\n    regardless - use `finally` for that:\n    \n        f = open(path, mode='w') # open path to file f\n        try:\n            write_to_file(f)  # write to file f\n        finally:\n            f.close()          # file f will ALWAYS get closed\n\n-   You can have code that executes only if the `try` clause succeeds\n    using `else` and `finally`:\n    \n        f = open(path, mode='w') # open path to file f\n        try:\n            write_to_file(f)  # write to file f\n        except:\n            print('Failed')   # exit if writing didn't work\n        else:\n            print('Succeeded')  # exit if writing did work\n        finally:\n            f.close()   # close f no matter what\n\n"
      ]
    },
    {
      "cell_type": "markdown",
      "metadata": {},
      "source": [
        "## Practice Exception Handling\n\n"
      ]
    },
    {
      "cell_type": "markdown",
      "metadata": {},
      "source": [
        "-   Write a function that takes two arguments `a` and `b` and returns their\n    sum.\n-   Handle the potential error when trying to add a string or a\n    number.\n-   To test the function, use the following testdata:\n    \n        prt(1,2)\n        prt('hello','world')\n        prt('hello',1)\n\n"
      ]
    },
    {
      "cell_type": "markdown",
      "metadata": {},
      "source": [
        "## Practice Exception Handling (home/bonus)\n\n"
      ]
    },
    {
      "cell_type": "markdown",
      "metadata": {},
      "source": [
        "-   Write a function `div` that asks the user to enter two numbers `num1`\n    and `num2` (with `input`) and divides the first number by the second\n    number.\n\n-   Inside the function, handle two potential exceptions: 1) division by\n    zero, and 2) invalid input.\n\n-   Tip: do this with `try` and `except` and check out which errors are\n    raised when dividing by zero or providing invalid input.\n\n-   Tip: You can stack `except` clauses like shown here:\n    \n        try:\n           [do something]\n        except ErrorType1:\n           [print something]\n        except ErrorType2:\n           [print something]\n\n-   Sample input/output session:\n    \n    ![img](../img/6_div.png)\n\n"
      ]
    },
    {
      "cell_type": "markdown",
      "metadata": {},
      "source": [
        "## Short program: Zig-zag\n\n"
      ]
    },
    {
      "cell_type": "markdown",
      "metadata": {},
      "source": [
        "-   This program will create a back-and-forth, zig-zag pattern until the\n    user stops it by pressing `CTRL-c`. [See here for a notebook in GitHub](https://gist.github.com/birkenkrahe/0b1e4c712a79968e3e21a55d8944adfd).\n\n-   Sample output:\n    \n    ![img](../img/zigzag.png \"Sample output from zig-zag program\")\n\n-   Type this code into Colab:\n\n"
      ]
    },
    {
      "cell_type": "code",
      "execution_count": 1,
      "metadata": {},
      "outputs": [],
      "source": [
        "import time, sys\nindent = 0\nindentIncreasing = True\n\ntry:\n  while True:\n      print(' ' * indent, end='')\n      print('********')\n      time.sleep(0.1)\n\n      if indentIncreasing:\n          indent += 1\n          if indent == 20:\n              indentIncreasing = False\n      else:\n          indent -= 1\n          indentIncreasing = True\n\nexcept KeyboardInterrupt:\n    sys.exit()"
      ]
    },
    {
      "cell_type": "markdown",
      "metadata": {},
      "source": [
        "-   Analysis:\n    1.  The program begins with importing two modules: `time` for\n        time-keeping, and `sys` for the `exit` function, which triggers a\n        `KeyboardInterrupt` 'error':\n        \n            import time, sys\n    2.  Two loop variables are `indent` for the number of spaces to indent\n        per line, and `indentIncreasing`, a Boolean variable that indicates\n        direction: `True` for moving to the right, `False` for the left.\n        \n            indent = 0\n            indentIncreasing = True\n    3.  The rest of the program is placed in a `try` statement: do whatever\n        follows unless the `except` condition is triggered. The script\n        enters an *infinite loop* to print `indent` number of spaces next to\n        one another followed by eight asterisks. The script halts for\n        1/10 secs. after the print.\n        \n            try:\n              while True:\n                 print(' ' * indent, end='')\n                 print('********')\n                 time.sleep(0.1)\n    4.  To adjust the indentation until the asterisks are printed, we\n        check if `indentIncreasing` is `True`: if it is, we indent until the\n        indentation hits the value `20`, and switch `indentIncreasing` to\n        `False`:\n        \n            if indentIncreasing:\n                indent += 1\n                if indent == 20:\n                    indentIncreasing = False\n    5.  If `indentIncreasing` is `False`, the `else` condition is true and we\n        reduce the indentation in `indent` by one until we hit `0`. Then we\n        switch direction by setting `indentIncreasing` to `True`.\n        \n            else:\n              indent -= 1\n                indentIncreasing = True\n    6.  After checking the conditions, the program goes back to the start\n        of the infinite loop and executes again. If the user triggers a\n        keyboard interrupt with CTRL-c (or CTRL-m + i in Colab, or by\n        pressing the STOP button next to the code cell), `sys.exit` is\n        executed, the loop is left and the program is finished.\n        \n            except KeyboardInterrupt:\n                sys.exit()\n\n"
      ]
    },
    {
      "cell_type": "markdown",
      "metadata": {},
      "source": [
        "## Summary\n\n"
      ]
    },
    {
      "cell_type": "markdown",
      "metadata": {},
      "source": [
        "-   Functions provide a way to encapsulate reusable code blocks, accept\n    inputs through parameters, and return outputs using return\n    statements.\n-   Understanding how to define and use functions effectively will\n    enhance your code organization, reusability, and overall\n    readability.\n-   Local and global scope helps you encapsulate and isolate values for\n    program writing, testing and debugging.\n-   Exception handling statements run code when a specific error has\n    been detected to make your programs more resilient to common errors.\n\n"
      ]
    },
    {
      "cell_type": "markdown",
      "metadata": {},
      "source": [
        "## Glossary\n\n"
      ]
    },
    {
      "cell_type": "markdown",
      "metadata": {},
      "source": [
        "| TERM/COMMAND|MEANING|\n|---|---|\n| Function definition|Create a function|\n| Function call|Executing function (with/out passing arguments)|\n| Function argument|Value passed to a function in a function call|\n| Function parameter|Variables that have arguments assigned to them|\n| Keyword parameter|Paramater optionally called with a name|\n| Positional parameter|Parameter called with position only|\n| Recursive function|Function that calls itself|\n| <code>None</code>|Value that indicates a missing value|\n| Return value|Value that is returned by a function|\n| Positional argument|Value in function call for positional parameter|\n| Keyword argument|Value in function call for keyword parameter|\n| Local scope|Variables known only in functions|\n| Global scope|Variables known everywhere in the script|\n| Void function|Function without parameters like <code>print()</code>|\n| <code>try:...except:</code>|Exception handling|\n\n"
      ]
    },
    {
      "cell_type": "markdown",
      "metadata": {},
      "source": [
        "## References\n\n"
      ]
    },
    {
      "cell_type": "markdown",
      "metadata": {},
      "source": [
        "-   Sweigart, A. (2019). Automate the Boring Stuff with\n    Python. NoStarch. URL: [automatetheboringstuff.com](https://automatetheboringstuff.com/2e/chapter2/)\n\n"
      ]
    }
  ],
  "metadata": [
    [
      "org"
    ],
    null,
    null
  ],
  "nbformat": 4,
  "nbformat_minor": 0
}