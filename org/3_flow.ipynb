{
  "cells": [
    {
      "cell_type": "markdown",
      "metadata": {},
      "source": "PYTHON BASICS - FLOW CONTROL\n============================\n\n**Author:** Marcus Birkenkrahe\n\n"
    },
    {
      "cell_type": "markdown",
      "metadata": {},
      "source": [
        "## README\n\n"
      ]
    },
    {
      "cell_type": "markdown",
      "metadata": {},
      "source": [
        "Control flow, Boolean values and Boolean or logical operators.\n\n"
      ]
    },
    {
      "cell_type": "markdown",
      "metadata": {},
      "source": [
        "## Introduction\n\n"
      ]
    },
    {
      "cell_type": "markdown",
      "metadata": {},
      "source": [
        "![img](../img/py_flowchart.png \"Flowchart template from app.creately.com\")\n\n-   A program is just a serious of instructions for the computer but the\n    real power of computing comes from making decisions.\n\n-   Three common visualization methods are common:\n    1.  No: Flow charts (easy but not standardized, hard to read)\n    2.  Yes: BPMN (standard, widely used for decision modeling)\n    3.  No: UML (standard, limited to IT folk, harder to learn)\n\n-   Based on how *expressions* evaluate, the program can decide to\n    1.  **skip** instructions\n    2.  **repeat** instructions\n    3.  **choose** one of several instructions\n\n-   *Flow control statements* decide what to do under which conditions.\n\n"
      ]
    },
    {
      "cell_type": "markdown",
      "metadata": {},
      "source": [
        "## Visualizing flow with BPMN\n\n"
      ]
    },
    {
      "cell_type": "markdown",
      "metadata": {},
      "source": [
        "-   Processes can be visualized in a flowchart (or in a BPMN diagram as\n    shown below, with:\n    \n    1.  events or statuses (start/end)\n    2.  gateways or decision points (exclusive/parallel)\n    3.  tasks (action like \"go outside\", \"wait a while\")\n    4.  sequence flow (directed lines)\n    \n    ![img](../img/py_chatbot_1.png \"BPMN diagram to decide if to use ChatGPT or not\")\n\n-   When there are more process participants, additional elements are\n    useful:\n    \n    1.  pools and lanes (participants like user/chatbot)\n    2.  message events (sending/receiving stuff)\n    3.  message flow (directed lines between pools)\n    \n    ![img](../img/py_chatbot_2.png \"BPMN diagram modeling interaction with chatbot\")\n\n-   This type of visualization is a *modeling* activity. Syntactically\n    correct BPMN diagrams can even be used to automatically create code.\n\n-   You can see the full language model in this cheat sheet (bpmb.de):\n    \n    ![img](../img/2_bpmn_cheat_sheet.png)\n\n-   What are advantages of such models? What are disadvantages?\n\n>   1. Advantages: simulate changes visually without changing code;\n>      highlight structure by eliminating detail. Identify and check\n>      process elements. Apply aesthetic criteria. Mathematical.\n>   2. Disadvantages: dissociated from code; specifics are missing;\n>      subjective selection of elements; static (however: see process\n>      mining).\n\n-   Python is considered to be so simple as to amount to 'pseudocode'\n    (no syntax knowledge necessary) - really?\n    \n    ![img](../img/2_complex.png)\n\n-   To control process flow with Python code, we need a way to check if\n    an event has happened or not, and a way to compare events.\n\n-   Mathematically, this means that we need:\n    1.  Boolean values (`True` and `False`)\n    2.  Comparison operators (to compare anything)\n    3.  Boolean operators (to compare Boolean values)\n\n"
      ]
    },
    {
      "cell_type": "markdown",
      "metadata": {},
      "source": [
        "## Exercise: BPMN model\n\n"
      ]
    },
    {
      "cell_type": "markdown",
      "metadata": {},
      "source": [
        "1.  Model our first Python program as a BPMN model using `bpmn.io`:\n    \n    ![img](../img/bpmn1.png)  ![img](../img/bpmn2.png)\n\n2.  Start with a pool and name it `Computer`.\n3.  Add suitable events and tasks connected by sequence flow.\n4.  Take a screenshot. It should look [like this](https://github.com/birkenkrahe/admin/blob/main/RoamNotes/img/py_first.png).\n5.  Add another pool and name it `User`.\n6.  Connect the two pools with suitable (message) flow.\n7.  Take another screenshot. It should look [like this](https://github.com/birkenkrahe/admin/blob/main/RoamNotes/img/py_first_user.png).\n8.  Save your diagram as `.bpmn` and as `.svg` files.\n9.  Add your `.svg` diagram in a titled Colab text cell:\n10. Upload your diagram to a drive and link to it in the text cell.\n\n![img](../img/2_colab_diagram.png)\n\nNote: BPMN process diagram elements can be *overloaded*, i.e. given meta\ninformation, such as 'tasks accepts input' or 'task sends output' (see\noverloaded diagrams [here](https://github.com/birkenkrahe/admin/blob/main/RoamNotes/img/py_first_overloaded.png) and [here](https://github.com/birkenkrahe/admin/blob/main/RoamNotes/img/py_first_user_overloaded.png)). [More about BPMN from camunda.com.](https://camunda.com/bpmn/reference/)\n\n"
      ]
    },
    {
      "cell_type": "markdown",
      "metadata": {},
      "source": [
        "## Boolean values\n\n"
      ]
    },
    {
      "cell_type": "markdown",
      "metadata": {},
      "source": [
        "-   The Boolean data type only has the values `True` and `False` and must be\n    written in exactly this way. Try this on a Python shell:\n    \n        ham = TRUE\n        ham = True\n        ham\n        spam = False\n        spam\n        true\n        True = 2 + 2\n\n-   Boolean values are used in expressions and can be stored in\n    variables of type Boolean:\n\n"
      ]
    },
    {
      "cell_type": "code",
      "execution_count": 1,
      "metadata": {},
      "outputs": [],
      "source": [
        "print(type(True))"
      ]
    },
    {
      "cell_type": "markdown",
      "metadata": {},
      "source": [
        "## Comparison operators\n\n"
      ]
    },
    {
      "cell_type": "markdown",
      "metadata": {},
      "source": [
        "-   Comparison operators are binary operators (they have a left and a\n    right hand argument) and evaluate down to a single Boolean value:\n    \n    ![img](../img/py_comparison.png \"Comparison operators (Source: Sweigart, 2020).\")\n\n-   Let's try this in the shell - when you type each command, think\n    about what the answer might be before you type ENTER:\n    \n        42 == 42\n        42 == 'Hello'\n        42 == 41\n        2 != 1\n        42 < 100\n        42 >= 100\n        42 < 42\n        42 <= 42\n        0 == 1e-350\n        0 == 1e-300\n\n-   With variables: comparisons are expressions and evaluate to a single\n    (Boolean) value no matter what:\n    \n        myAge = 59  # a statement\n        myAge < 60  # an expression\n\n-   Integers and strings are never equal to one another:\n\n"
      ]
    },
    {
      "cell_type": "code",
      "execution_count": 1,
      "metadata": {},
      "outputs": [],
      "source": [
        "print(42 == '42')"
      ]
    },
    {
      "cell_type": "markdown",
      "metadata": {},
      "source": [
        "-   How can you get `42 == '42'` to evaluate to `True`?\n\n"
      ]
    },
    {
      "cell_type": "code",
      "execution_count": 1,
      "metadata": {},
      "outputs": [],
      "source": [
        "print(str(42) == '42')\nprint(42 == int('42'))"
      ]
    },
    {
      "cell_type": "markdown",
      "metadata": {},
      "source": [
        "-   Float and integer values can be equal to one another:\n\n"
      ]
    },
    {
      "cell_type": "code",
      "execution_count": 1,
      "metadata": {},
      "outputs": [],
      "source": [
        "print(42.0 == 42)"
      ]
    },
    {
      "cell_type": "markdown",
      "metadata": {},
      "source": [
        "-   However, the `<`, `>`, `<=`, and `>=` operators only work properly with\n    integer and floating-point values on either side:\n\n"
      ]
    },
    {
      "cell_type": "code",
      "execution_count": 1,
      "metadata": {},
      "outputs": [
        {
          "name": "stdout",
          "output_type": "stream",
          "text": [
            ": False\n  : False\n  : True"
          ]
        }
      ],
      "source": [
        "print(42.0 < 42)\nprint(42.0 > 42)"
      ]
    },
    {
      "cell_type": "markdown",
      "metadata": {},
      "source": [
        "## Boolean operators\n\n"
      ]
    },
    {
      "cell_type": "markdown",
      "metadata": {},
      "source": [
        "-   The `and` and `or` operators are *binary* (they take two values) like\n    arithmetic operators, while the `non` operator is *unary*.\n\n-   Test the `and` operator and the `or` operator in a Python shell.\n    \n    ![img](../img/py_or.png \"Table with Boolean operators (Source: Sweigart, 2020).\")\n\n-   The `and` operator only leads to `True` if both values are `True`, while\n    the `or` operator only leads to `False` if both values are `False`.\n\n-   The `not` operator evaluates to the opposite Boolean value:\n    \n    ![img](../img/py_not.png \"Table with Boolean operators (Source: Sweigart, 2020).\")\n\n-   In code:\n\n"
      ]
    },
    {
      "cell_type": "code",
      "execution_count": 1,
      "metadata": {},
      "outputs": [
        {
          "name": "stdout",
          "output_type": "stream",
          "text": [
            ": False\n  : True"
          ]
        }
      ],
      "source": [
        "print(not True)\nprint(not False)"
      ]
    },
    {
      "cell_type": "markdown",
      "metadata": {},
      "source": [
        "-   The Boolean `not`, `and`, `or` operators have the lowest precedence of all\n    operators - what'll the output be of these expressions?\n\n"
      ]
    },
    {
      "cell_type": "code",
      "execution_count": 1,
      "metadata": {},
      "outputs": [],
      "source": [
        "print(not True == False)    \nprint(not True == False + 1) \nprint((not True == False) + 1)"
      ]
    },
    {
      "cell_type": "markdown",
      "metadata": {},
      "source": [
        "-   What will the output be of this expression?\n\n"
      ]
    },
    {
      "cell_type": "code",
      "execution_count": 1,
      "metadata": {},
      "outputs": [],
      "source": [
        "print(True == not True)"
      ]
    },
    {
      "cell_type": "markdown",
      "metadata": {},
      "source": [
        "-   **Exercise:** Open a Colab notebook and check if De Morgan's laws are\n    implemented in Python:\n    \n    ![img](../img/py_de_morgan.png \"De Morgan's laws (Wikipedia).\")\n\n-   `Bonus:` in a text cell, include the logic formula in $LaTeX$\n    ([here is a list of mathematical LaTeX symbols](https://oeis.org/wiki/List_of_LaTeX_mathematical_symbols)):\n    1.  `not` is $\\neg$\n    2.  `and` is $\\land$\n    3.  `or` is $\\lor$\n    4.  `==` is $\\Longleftrightarrow$\n\n-   Remember that you can copy and paste whole text and code cells!\n\n-   Solution in Python code:\n\n"
      ]
    },
    {
      "cell_type": "code",
      "execution_count": 1,
      "metadata": {},
      "outputs": [],
      "source": [
        "# NOT (P OR Q) <=> NOT(P) AND NOT(Q)\nprint(not(True or True) == (not True and not True))\nprint(not(True or False) == (not True and not False))\nprint(not(False or True) == (not False and not True))\nprint(not(False or False) == (not False and not False))\n# NOT (P AND Q) <=> NOT(P) OR NOT(Q)\nprint(not(True and True) == (not True or not True))\nprint(not(True and False) == (not True or not False))\nprint(not(False and True) == (not False or not True))\nprint(not(False and False) == (not False or not False))"
      ]
    },
    {
      "cell_type": "markdown",
      "metadata": {},
      "source": [
        "-   **[Bonus exercise (home):](https://lyon.instructure.com/courses/1700/assignments/14732)** Instead of printing `True` after each\n    statement, show that De Morgan's laws hold, but this time:\n    1.  print only the number of `True` statements at the end.\n    2.  print the final statement using string concatenation\n    3.  print the final statement using an 'f-string'\n\n-   Demonstration of the f-string (formatted print):\n\n"
      ]
    },
    {
      "cell_type": "code",
      "execution_count": 1,
      "metadata": {},
      "outputs": [
        {
          "name": "stdout",
          "output_type": "stream",
          "text": [
            ": Marcus Birkenkrahe\n  : My name is Marcus Birkenkrahe\n  : My name is Marcus Birkenkrahe\n  : My name is Marcus Birkenkrahe"
          ]
        }
      ],
      "source": [
        "whoami = 'Marcus Birkenkrahe'\nprint(whoami)  # plain string print\nprint('My name is', whoami) # plain string print w/text \nprint('My name is ' + whoami) # concatenated string\nprint(f'My name is {whoami}') # f-string printing"
      ]
    },
    {
      "cell_type": "markdown",
      "metadata": {},
      "source": [
        "-   The *exclusive* gateway that you saw in the BPMN diagram earlier, is\n    the result of a composite Boolean operation. It is only `True` if\n    either of the two values are `True`, and `False` otherwise.\n\n-   This combination of Boolean operators does that &forall; Booleans p, q:\n    \n    ![img](../img/py_xor.png \"Exclusive OR operation (Wikipedia)\")\n\n-   You can test if this is implemented in Python as before:\n\n"
      ]
    },
    {
      "cell_type": "code",
      "execution_count": 1,
      "metadata": {},
      "outputs": [
        {
          "name": "stdout",
          "output_type": "stream",
          "text": [
            ": False\n  : True\n  : True\n  : False"
          ]
        }
      ],
      "source": [
        "print((True or True) and (not True or not True))  # A = B = True\nprint((True or False) and (not True or not False)) # A=True, B=False\nprint((False or True) and (not False or not True)) # A=False, B=True\nprint((False or False) and (not False or not False)) # A = B = False"
      ]
    },
    {
      "cell_type": "markdown",
      "metadata": {},
      "source": [
        "-   Fortunately, Python has an bit-wise XOR ('exclusive `or`) operator:\n\n"
      ]
    },
    {
      "cell_type": "code",
      "execution_count": 1,
      "metadata": {},
      "outputs": [],
      "source": [
        "print(True ^ True)\nprint(True ^ False)\nprint(False ^ True)\nprint(False ^ False)"
      ]
    },
    {
      "cell_type": "markdown",
      "metadata": {},
      "source": [
        "## Compound logical operators\n\n"
      ]
    },
    {
      "cell_type": "markdown",
      "metadata": {},
      "source": [
        "-   Comparison and Boolean operators can be mixed to establish more\n    complicated logical dependencies.\n\n"
      ]
    },
    {
      "cell_type": "code",
      "execution_count": 1,
      "metadata": {},
      "outputs": [],
      "source": [
        "print(4 < 5 and 5 < 6)\nprint(4 < 5 and 9 < 6)\nprint(1 == 2 or 2 == 2)"
      ]
    },
    {
      "cell_type": "markdown",
      "metadata": {},
      "source": [
        "-   Here is the evaluation process of the computer:\n    \n    ![img](../img/py_compound.png)\n\n-   What will the output be? What's the order or precedence?\n\n"
      ]
    },
    {
      "cell_type": "code",
      "execution_count": 1,
      "metadata": {},
      "outputs": [
        {
          "name": "stdout",
          "output_type": "stream",
          "text": [
            ": True"
          ]
        }
      ],
      "source": [
        "result = 5 < 10 and 2 + 2 == 4 or not (3 >= 5)\nprint(result)"
      ]
    },
    {
      "cell_type": "markdown",
      "metadata": {},
      "source": [
        "-   Order or evaluation:\n    \n        2 + 2  # 4 (True)\n        5 < 10 # True\n        3 >= 5 # False\n        4 == 4 # True\n        not False  # True\n        True and True # True\n        True or True # True\n\n-   Compound logical expressions are common in database queries to\n    filter records that satisfy several conditions for different\n    features - here is an SQLite example:\n    \n        -- .databases -- check database\n        -- CREATE TABLE people -- create table\n        --        (f_name TEXT, l_name TEXT,\n        --         century text, phy INTEGER, eng INTEGER);\n        -- .tables -- check tables\n        -- INSERT INTO people VALUES (\"Albert\",\"Einstein\",\"19\",TRUE,FALSE);\n        -- INSERT INTO people VALUES (\"Elon\",\"Musk\",\"20\",FALSE,TRUE);\n        -- INSERT INTO people VALUES (\"Nikola\",\"Tesla\",\"19\",TRUE,TRUE);\n        -- ------------------------------------------------------------\n        .mode box\n        SELECT * FROM people; -- return only people born in the 19th century\n        -- who were both physicists and engineers:\n        SELECT * FROM people WHERE born==\"19\" AND eng==TRUE AND phy==TRUE;\n    \n    ![img](../img/py_tesla.jpg \"Nikola Tesla (1856-1943)\")\n\n-   For example, to test if someone's age is both greater than 20 and if\n    he owns a cat:\n\n"
      ]
    },
    {
      "cell_type": "code",
      "execution_count": 1,
      "metadata": {},
      "outputs": [
        {
          "name": "stdout",
          "output_type": "stream",
          "text": [
            ": True"
          ]
        }
      ],
      "source": [
        "age = 22\npet = 'cat'\nprint(age > 20 and pet == 'cat')"
      ]
    },
    {
      "cell_type": "markdown",
      "metadata": {},
      "source": [
        "-   Exercise! Let's say Joe is 20 and Jane is 24 years old, Joe has a\n    dog, and Jane has a cat:\n    1.  Establish suitable variables for Joe and Jane\n    2.  Assign the correct values to these variables\n    3.  Assign ALL of these values on ONE line only\n\n"
      ]
    },
    {
      "cell_type": "code",
      "execution_count": 1,
      "metadata": {},
      "outputs": [],
      "source": [
        "# Assign age and pet for Joe and Jane\nage_joe, pet_joe, age_jane, pet_jane = 20, 'dog', 24, 'cat'"
      ]
    },
    {
      "cell_type": "markdown",
      "metadata": {},
      "source": [
        "-   Using these variables and their values, check:\n    1.  Does Jane have a dog?\n    2.  Is Joe younger or as old as Jane?\n    3.  Is Jane as old as Joe, and do they have different pets?\n    4.  Is Jane older than Joe, or is Jane's pet a dog?\n\n"
      ]
    },
    {
      "cell_type": "code",
      "execution_count": 1,
      "metadata": {},
      "outputs": [
        {
          "name": "stdout",
          "output_type": "stream",
          "text": [
            ": False\n  : True\n  : False\n  : True"
          ]
        }
      ],
      "source": [
        "# Does Jane have a dog?\nprint(pet_jane == 'dog')\n# Is Joe younger or as old as Jane?\nprint(age_joe <= age_jane)\n# Is Jane as old as Joe, and do they have different pets?\nprint(age_jane == age_joe and pet_jane != pet_joe)\n# Is Jane older than Joe, or is Jane's pet a dog?\nprint(age_jane >= age_joe or pet_jane == 'dog')"
      ]
    },
    {
      "cell_type": "markdown",
      "metadata": {},
      "source": [
        "-   Lastly, check if: 4 is 2+2 and 2\\*2, and 2+2 is not 5:\n\n"
      ]
    },
    {
      "cell_type": "code",
      "execution_count": 1,
      "metadata": {},
      "outputs": [
        {
          "name": "stdout",
          "output_type": "stream",
          "text": [
            ": True\n  : True"
          ]
        }
      ],
      "source": [
        "print(2 + 2 == 4 and 2 * 2 == 4 and not 2 + 2 == 5)\nprint(2 + 2 == 4 and 2 * 2 == 4 and 2 + 2 != 5)"
      ]
    },
    {
      "cell_type": "markdown",
      "metadata": {},
      "source": [
        "-   Alternative with the `assert` statement to debug: the string \"x is not\n    1\" is printed to the screen if an `AssertionError` is raised.\n\n"
      ]
    },
    {
      "cell_type": "code",
      "execution_count": 1,
      "metadata": {},
      "outputs": [],
      "source": [
        "x = 2\nassert x == 1, \"x is not 1\""
      ]
    },
    {
      "cell_type": "markdown",
      "metadata": {},
      "source": [
        "## Summary\n\n"
      ]
    },
    {
      "cell_type": "markdown",
      "metadata": {},
      "source": [
        "-   The Boolean data type has only two values: `True` and `False` (both\n    beginning with capital letters).\n\n-   Comparison operators compare two values and evaluate to a Boolean\n    value: `==`, `!=`, `<`, `>`, `<=`, `>=`\n\n-   `==` is a comparison operator, while `=` is the assignment operator for\n    variables.\n\n-   Boolean operators (`and`, `or`, `not`) also evaluate to Boolean values.\n\n"
      ]
    },
    {
      "cell_type": "markdown",
      "metadata": {},
      "source": [
        "## Glossary\n\n"
      ]
    },
    {
      "cell_type": "markdown",
      "metadata": {},
      "source": [
        "![img](../img/2_glossary.png \"Glossary of commands for flow control\")\n\n"
      ]
    },
    {
      "cell_type": "markdown",
      "metadata": {},
      "source": [
        "## References\n\n"
      ]
    },
    {
      "cell_type": "markdown",
      "metadata": {},
      "source": [
        "-   IBM (2023). BPEL process. URL: [ibm.com](https://www.ibm.com/docs/en/baw/22.x?topic=types-bpel-process).\n-   Camunda (2022). Web-based tooling for BPMN, DMN and Forms. URL:\n    [bpmn.io](https://bpmn.io/).\n\n"
      ]
    },
    {
      "cell_type": "markdown",
      "metadata": {},
      "source": [
        "## Footnotes\n\n"
      ]
    }
  ],
  "metadata": [
    [
      "org"
    ],
    null,
    null
  ],
  "nbformat": 4,
  "nbformat_minor": 0
}