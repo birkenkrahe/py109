{
  "cells": [
    {
      "cell_type": "markdown",
      "metadata": {},
      "source": "INPUT\n=====\n\n**Author:** Marcus Birkenkrahe\n\n"
    },
    {
      "cell_type": "markdown",
      "metadata": {},
      "source": [
        "## Understanding standard data streams\n\n"
      ]
    },
    {
      "cell_type": "markdown",
      "metadata": {},
      "source": [
        "We want to write a program that\n\n1.  Says 'Hello world!'\n2.  Asks for your name\n3.  Greets you with your name\n4.  Tells you how many characters your name has\n5.  Asks for your age\n6.  Tells you how old you're going to be in one year\n\nWe're going to use this command sequence to learn a few functions\nuseful to get input from the keyboard and manipulate text.\n\nCheck the `help` for `input` in the Python reference manual, or in the\nnotebook, enter `?input` to get the *docstring* for the function.\n\n![img](../img/input.png \"Python help for keyboard input() function\")\n\nWhat does this mean?\n\n1.  `input` reads a string from the keyboard or from a file (*stdin*)\n2.  If `input()` is used, the default `prompt` is missing (`None`)\n3.  If a prompt is used, it is printed without newline (*stdout*)\n4.  If CTRL-D (End Of File) is hit, an `EOFError` is raised.\n\nStandard input, output and error are the three data streams:\n*[insert image `streams.png` here]*\n\n![img](../img/streams.png \"stdin, stdout, stderr for two shell commands\")\n\nTheir standard direction is the screen but they can be redirected\nanywhere, e.g. into files:\n\n    touch hello  # create empty file 'hello'\n    ls -l   # list all files in long format\n    rm hello 2&>/dev/null  # send 'hello' to the black hole\n    ls -l\n    echo \"Hello, world\" > hello  # put string into new file 'hello'\n    cat hello  # view 'hello'\n\nYou can try this in the terminal - do you remember how to get to it?\n\n"
      ]
    },
    {
      "cell_type": "markdown",
      "metadata": {},
      "source": [
        "## Getting input from the keyboard\n\n"
      ]
    },
    {
      "cell_type": "markdown",
      "metadata": {},
      "source": [
        "Step 1: Ask for user's `name` and print out the number of characters\nin the name:\n\n"
      ]
    },
    {
      "cell_type": "code",
      "execution_count": 1,
      "metadata": {},
      "outputs": [],
      "source": [
        "print('hello world')\nname = input('What is your name?' )\nprint('Good to meet you,' + name)\nprint('Your name has', len(name), 'characters')"
      ]
    },
    {
      "cell_type": "markdown",
      "metadata": {},
      "source": [
        "Why did we not use the `+` operator in the last line? Try it.\n\nStep 2: ask for user's age and print out age one year from now:\n\n"
      ]
    },
    {
      "cell_type": "code",
      "execution_count": 1,
      "metadata": {},
      "outputs": [],
      "source": [
        "print('What is your age?')\nage = input()\nprint('You are going to be ' + str(int(age) + 1) + ' years old')"
      ]
    },
    {
      "cell_type": "markdown",
      "metadata": {},
      "source": [
        "## Python script infrastructure\n\n"
      ]
    },
    {
      "cell_type": "markdown",
      "metadata": {},
      "source": [
        "Not to forget about the Python script infrastructure:\n\n1.  You can save the Python code of your notebook as `.py` file\n2.  You can run the script on the terminal using Jupyter lab.\n\n"
      ]
    },
    {
      "cell_type": "markdown",
      "metadata": {},
      "source": [
        "## Getting keyboard input with a prompt\n\n"
      ]
    },
    {
      "cell_type": "markdown",
      "metadata": {},
      "source": [
        "To save code, let's use the ability of `input` to display a `prompt` (as\nshown in the docstring with `?input`:\n\n1.  Put both programs in one code cell.\n2.  Use `input` to ask for the `name` and the `age`.\n3.  Print greeting with `name`, length of `name`.\n4.  Print `age` next year.\n5.  Sample run (terminal):\n    \n    ![img](../img/prompt.png \"Testing input with prompt\")\n\n"
      ]
    },
    {
      "cell_type": "code",
      "execution_count": 1,
      "metadata": {},
      "outputs": [],
      "source": [
        ""
      ]
    },
    {
      "cell_type": "markdown",
      "metadata": {},
      "source": [
        "Step 3: getting `input` with `prompt`:\n\n"
      ]
    },
    {
      "cell_type": "code",
      "execution_count": 1,
      "metadata": {},
      "outputs": [],
      "source": [
        "print(\"Hello world!\")\nname = input(\"What is your name? \")\nprint(\"Good to meet you, \" + name)\nprint(\"Your name has \", len(name), \" characters\")\nage = input(\"What is your age? \")\nprint(\"You're going to be \" + str(int(age) + 1) + \" years old\")"
      ]
    },
    {
      "cell_type": "markdown",
      "metadata": {},
      "source": [
        "## Getting two input values at once\n\n"
      ]
    },
    {
      "cell_type": "markdown",
      "metadata": {},
      "source": [
        "Step 4: getting two input values at once with `split`:\n\n"
      ]
    },
    {
      "cell_type": "code",
      "execution_count": 1,
      "metadata": {},
      "outputs": [],
      "source": [
        "print(\"Hello world!\")\ninput_data = input(\"Enter name and age separated by a space: \")\nname, age = input_data.split()\nprint(\"Good to meet you, \" + name)\nprint(\"Your name has \", len(name), \" characters\")\nprint(\"You're going to be \" + str(int(age) + 1) + \" years old\")"
      ]
    },
    {
      "cell_type": "markdown",
      "metadata": {},
      "source": [
        "Check out the docstring of this new function with: `split?`.\n> - `split` is a string method - outside of `str` it has no meaning.\n> - You have to look for `str.split?` to get the docstring.\n> - Notice that `str.split()?` or `help(str.split())` throw errors.\n\n"
      ]
    },
    {
      "cell_type": "markdown",
      "metadata": {},
      "source": [
        "## Function preview\n\n"
      ]
    },
    {
      "cell_type": "markdown",
      "metadata": {},
      "source": [
        "Functions in your code are like mini programs. We called six\nfunctions: `print`, `input`, `len`, `int`, `str`, `split`:\n\n1.  `print` prints its arguments but can also evaluate:\n\n"
      ]
    },
    {
      "cell_type": "code",
      "execution_count": 1,
      "metadata": {},
      "outputs": [],
      "source": [
        "print(\"Hi\")\nprint(5 + 5)"
      ]
    },
    {
      "cell_type": "markdown",
      "metadata": {},
      "source": [
        "1.  `input` takes input from the keyboard or from the command line\n    (input stream `stdin`) and either prints it or\n    lets you assign it to a variable (output stream `stdout`):\n    \n        input(\"What's your name? \") # prints and waits for input\n2.  `len` computes the length of its (string) argument and returns an\n    integer:\n\n"
      ]
    },
    {
      "cell_type": "code",
      "execution_count": 1,
      "metadata": {},
      "outputs": [],
      "source": [
        "print(len(\"Birkenkrahe\"))\nvar = 'Dampfschiffahrtsgesellschaftskapitän'\nprint(len(var))  # with the len() function\nprint(var.__len__())  # with the str.__len__ method"
      ]
    },
    {
      "cell_type": "markdown",
      "metadata": {},
      "source": [
        "1.  `str` returns its value as a string:\n\n"
      ]
    },
    {
      "cell_type": "code",
      "execution_count": 1,
      "metadata": {},
      "outputs": [],
      "source": [
        "print(str(1000) + \" random numbers\")\nprint(str('1000') + \" random numbers\")"
      ]
    },
    {
      "cell_type": "markdown",
      "metadata": {},
      "source": [
        "1.  `split` returns a `list` of words that can be split up among\n    different variables:\n\n"
      ]
    },
    {
      "cell_type": "code",
      "execution_count": 1,
      "metadata": {},
      "outputs": [],
      "source": [
        "name = \"Marcus 2  Birkenkrahe\"\nprint(name.split()) # default: split on whitespace, ignore ' '\nfirst, last = name.split()  # split name in two parts\nprint(first,last)\nprint(first + last)"
      ]
    },
    {
      "cell_type": "markdown",
      "metadata": {},
      "source": [
        "## A few open questions\n\n"
      ]
    },
    {
      "cell_type": "markdown",
      "metadata": {},
      "source": [
        "-   What does the expression `str(int(age) + 1)` do?\n    1.  `age` is string `input`\n    2.  `int(age)` converts the string to a number - you cannot do that\n        with any character like \"a\": `int(\"a\")` throws an error. To convert\n        characters to their Unicode standard, you need to use `ord`:\n\n"
      ]
    },
    {
      "cell_type": "code",
      "execution_count": 1,
      "metadata": {},
      "outputs": [],
      "source": [
        "print(int(\"25\"))\nprint(ord(\"a\"))\nprint(ord(\"A\"))"
      ]
    },
    {
      "cell_type": "markdown",
      "metadata": {},
      "source": [
        "1.  `int(age) + 1` adds 1 to whatever number `int(age)` evaluates to:\n\n"
      ]
    },
    {
      "cell_type": "code",
      "execution_count": 1,
      "metadata": {},
      "outputs": [
        {
          "name": "stdout",
          "output_type": "stream",
          "text": [
            ": 25\n     : 25 years old\n     : 25\n     : 26"
          ]
        }
      ],
      "source": [
        "age = \"25\"\nprint(age)\nprint(age + \" years old\")\nprint(int(age))\nprint(int(age)+1)"
      ]
    },
    {
      "cell_type": "markdown",
      "metadata": {},
      "source": [
        "1.  `str(int(age) + 1)` converts the result to a string:\n\n"
      ]
    },
    {
      "cell_type": "code",
      "execution_count": 1,
      "metadata": {},
      "outputs": [
        {
          "name": "stdout",
          "output_type": "stream",
          "text": [
            ": 25\n     : 25 years old\n     : 25\n     : 26\n     : 26\n     : 26 years old"
          ]
        }
      ],
      "source": [
        "age = \"25\"\nprint(age)\nprint(age + \" years old\")\nprint(int(age))\nprint(int(age)+1)\nprint(str(int(age)+1))\nprint(str(int(age)+1) + \" years old\")"
      ]
    },
    {
      "cell_type": "markdown",
      "metadata": {},
      "source": [
        "-   [Here is an HTML animation to illustrate these steps](https://automatetheboringstuff.com/eval/3-4.html) (Sweigart, 2023)\n\n-   `split(self, / , sep=None, maxsplit=-1)` is a *string method* with two\n    optional (defaulted) arguments - it returns list of words in the\n    string using `sep` as the delimiter, at most `maxsplit` splits are done:\n    elements (note the implicit arguments):\n\n"
      ]
    },
    {
      "cell_type": "code",
      "execution_count": 1,
      "metadata": {},
      "outputs": [],
      "source": [
        "print('1,2,3'.split(','))  # default maxsplit = -1 means no limit\nprint('1,2,3'.split(',',0)) # don't split\nprint('1,2,3'.split(',',1)) # split once\nprint('1,2,3'.split(',',2)) # split twice\nprint('1,2,3'.split(',',3)) # split thrice - nothing more to do"
      ]
    },
    {
      "cell_type": "markdown",
      "metadata": {},
      "source": [
        "-   The dot-operator `.` is an *accessor*: it allows you to access anything\n    that's stored inside an object, e.g. the *string* class `str`, or an\n    instance of that class, a particular string.\n\n-   What happens when the string to be split does not have substrings?\n\n"
      ]
    },
    {
      "cell_type": "code",
      "execution_count": 1,
      "metadata": {},
      "outputs": [],
      "source": [
        "a, b = 'Marcus'.split()\nprint(a,b)"
      ]
    },
    {
      "cell_type": "markdown",
      "metadata": {},
      "source": [
        "-   Why?\n\n"
      ]
    },
    {
      "cell_type": "code",
      "execution_count": 1,
      "metadata": {},
      "outputs": [
        {
          "name": "stdout",
          "output_type": "stream",
          "text": [
            "#+begin_example\n  Help on method_descriptor:\n\n  split(self, /, sep=None, maxsplit=-1)\n      Return a list of the substrings in the string, using sep as the separator string.\n\n        sep\n          The separator used to split the string.\n\n          When set to None (the default value), will split on any whitespace\n          character (including \\\\n \\\\r \\\\t \\\\f and spaces) and will discard\n          empty strings from the result.\n        maxsplit\n          Maximum number of splits (starting from the left).\n          -1 (the default value) means no limit.\n\n      Note, str.split() is mainly useful for data that has been intentionally\n      delimited.  With natural text that includes punctuation, consider using\n      the regular expression module.\n  #+end_example"
          ]
        }
      ],
      "source": [
        "help(str.split)"
      ]
    },
    {
      "cell_type": "markdown",
      "metadata": {},
      "source": [
        "-   What does the `/` refer to in the `str.split` docstring:\n    \n        str.split(self, /, sep=None, maxsplit=-1)\n    \n    The `/` is a *parameter separator*: it denotes the end of\n    positional-only parameters. After `self` (the string itself), the\n    parameters `sep` and `maxsplit` can be explicitly assigned:\n\n"
      ]
    },
    {
      "cell_type": "code",
      "execution_count": 1,
      "metadata": {},
      "outputs": [
        {
          "name": "stdout",
          "output_type": "stream",
          "text": [
            ": ['Marcus', 'Birkenkrahe']\n  : ['Marcus', 'Birkenkrahe']\n  : ['Marcus', 'Birkenkrahe']\n  : ['Marcus', 'Birkenkrahe']\n  : ['Marcus', 'Birkenkrahe']"
          ]
        }
      ],
      "source": [
        "print(str.split('Marcus Birkenkrahe'))\nprint(str.split('Marcus_Birkenkrahe','_'))\nprint(str.split('Marcus_Birkenkrahe',sep='_'))\nprint('Marcus_Birkenkrahe'.split(sep='_'))\nprint('Marcus_Birkenkrahe'.split('_'))"
      ]
    },
    {
      "cell_type": "markdown",
      "metadata": {},
      "source": [
        "## Summary\n\n"
      ]
    },
    {
      "cell_type": "markdown",
      "metadata": {},
      "source": [
        "-   Functions are like mini-programs in your program.\n-   The `print` function displays the value passed to it.\n-   The `input` function lets users type in a value.\n-   The `len` function takes a string value and returns an integer value\n    of the string's length.\n-   The `int`, `str`, and `float` functions can be used to convert data.\n\n"
      ]
    },
    {
      "cell_type": "markdown",
      "metadata": {},
      "source": [
        "## Glossary\n\n"
      ]
    },
    {
      "cell_type": "markdown",
      "metadata": {},
      "source": [
        "| TERM/COMMAND|MEANING|\n|---|---|\n| <code>print</code>|printing function|\n| <code>input</code>|takes input from stdin (e.g. keyboard, file)|\n| <code>len</code>|returns length of argument|\n| <code>str.split</code>|splits string into substrings|\n| <code>str.strip</code>|removes leading and trailing whitespace|\n| <code>int</code>, <code>float</code>, <code>str</code>|data type conversion functions|\n\n"
      ]
    },
    {
      "cell_type": "markdown",
      "metadata": {},
      "source": [
        "## References\n\n"
      ]
    },
    {
      "cell_type": "markdown",
      "metadata": {},
      "source": [
        "-   pythontutor.com (2023). Visualize code execution.\n-   Sweigart, A. (2016). Invent your own computer games with\n    Python. NoStarch. URL: [inventwithpython.com](http://inventwithpython.com/).\n-   Sweigart, A. (2019). Automate the boring stuff with\n    Python. NoStarch. URL: [automatetheboringstuff.com](http://automatetheboringstuff.com).\n\n"
      ]
    }
  ],
  "metadata": [
    [
      "org"
    ],
    null,
    null
  ],
  "nbformat": 4,
  "nbformat_minor": 0
}