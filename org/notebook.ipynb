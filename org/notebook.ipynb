{
  "cells": [
    {
      "cell_type": "markdown",
      "metadata": {},
      "source": [
        "### Test 7 preview / review `NumPy` library (DataCamp)\n\n"
      ]
    },
    {
      "cell_type": "markdown",
      "metadata": {},
      "source": [
        "1.  What do you need to do to use `np.array` instead of `numpy.array`?\n\n"
      ]
    },
    {
      "cell_type": "code",
      "execution_count": 1,
      "metadata": {},
      "outputs": [],
      "source": [
        "import numpy as np\ndocstring = np.array.__doc__\nprint(docstring)"
      ]
    },
    {
      "cell_type": "markdown",
      "metadata": {},
      "source": [
        "1.  What is the output of this code?\n\n"
      ]
    },
    {
      "cell_type": "code",
      "execution_count": 1,
      "metadata": {},
      "outputs": [],
      "source": [
        "import numpy as np\nprint(help(numpy.array))"
      ]
    },
    {
      "cell_type": "markdown",
      "metadata": {},
      "source": [
        ">    `NameError`: name 'numpy' not defined.3) `array` is a function in `numpy`. Use it on a list `[1,2,3]`.\n\n"
      ]
    },
    {
      "cell_type": "code",
      "execution_count": 1,
      "metadata": {},
      "outputs": [],
      "source": [
        "import numpy\nprint(numpy.array([1,2,3]))"
      ]
    },
    {
      "cell_type": "markdown",
      "metadata": {},
      "source": [
        "1.  What can you do with NumPy arrays that lists cannot do?\n\n"
      ]
    },
    {
      "cell_type": "code",
      "execution_count": 1,
      "metadata": {},
      "outputs": [
        {
          "name": "stdout",
          "output_type": "stream",
          "text": [
            ": [1, 2, 3, 1, 2, 3, 1, 2, 3, 1, 2, 3]\n   : [ 4  8 12]"
          ]
        }
      ],
      "source": [
        "# Vectorization\nfoo = [1,2,3]\nprint(foo * 4)\nprint(np.array(foo)*4)"
      ]
    },
    {
      "cell_type": "markdown",
      "metadata": {},
      "source": [
        "1.  How many data types can a list have? How many can an array have?\n\n"
      ]
    },
    {
      "cell_type": "code",
      "execution_count": 1,
      "metadata": {},
      "outputs": [
        {
          "name": "stdout",
          "output_type": "stream",
          "text": [
            ": ['me', 1, True] <class 'list'>\n   : ['me' '1' 'True']"
          ]
        }
      ],
      "source": [
        "foo = [\"me\", 1, True]\nprint(foo, type(foo))\nprint(np.array(foo))"
      ]
    },
    {
      "cell_type": "markdown",
      "metadata": {},
      "source": [
        "1.  How can you extract all array items in [5,10)?\n\n"
      ]
    },
    {
      "cell_type": "code",
      "execution_count": 1,
      "metadata": {},
      "outputs": [],
      "source": [
        "foo = np.array([0,1,2,5,8,10,11,12])"
      ]
    },
    {
      "cell_type": "markdown",
      "metadata": {},
      "source": [
        "Solution:\n\n"
      ]
    },
    {
      "cell_type": "code",
      "execution_count": 1,
      "metadata": {},
      "outputs": [
        {
          "name": "stdout",
          "output_type": "stream",
          "text": [
            ": [ 0  1  2  5  8 10 11 12]\n   : [False False False  True  True False False False]\n   : [5 8]\n   : [ 0  1  2 10 11 12]"
          ]
        }
      ],
      "source": [
        "print(foo)\nprint((foo >= 5) & (foo < 10))\nbar = (foo >= 5) & (foo < 10)\nprint(foo[bar])\nprint(foo[~bar]) # ~ inverts the condition: not in [5,10)"
      ]
    },
    {
      "cell_type": "markdown",
      "metadata": {},
      "source": [
        "1.  Can you put `['Joe','Jim','Jane']` and `[1.8,1.92,1.74]` in a NumPy\n    array?\n\n"
      ]
    },
    {
      "cell_type": "code",
      "execution_count": 1,
      "metadata": {},
      "outputs": [
        {
          "name": "stdout",
          "output_type": "stream",
          "text": [
            ": [['Joe' 'Jim' 'Jane']\n   :  ['1.8' '1.92' '1.74']]\n   : <class 'numpy.ndarray'>"
          ]
        }
      ],
      "source": [
        "name = ['Joe','Jim','Jane']\nheight = [1.8, 1.92, 1.74]\nnp_name_height = np.array([name,height])\nprint(np_name_height)\nprint(type(np_name_height))"
      ]
    },
    {
      "cell_type": "markdown",
      "metadata": {},
      "source": [
        "1.  Consider this 2D array - how can you extract the element `1.92`?\n\n"
      ]
    },
    {
      "cell_type": "code",
      "execution_count": 1,
      "metadata": {},
      "outputs": [
        {
          "name": "stdout",
          "output_type": "stream",
          "text": [
            ": [[179.   210.   140.  ]\n   :  [  1.8    1.92   1.74]]"
          ]
        }
      ],
      "source": [
        "weight = [179.,210.,140.]\nheight = [1.8, 1.92, 1.74]\nnp_weight_height = np.array([weight,height])\nprint(np_weight_height)"
      ]
    },
    {
      "cell_type": "markdown",
      "metadata": {},
      "source": [
        "Solution:\n\n"
      ]
    },
    {
      "cell_type": "code",
      "execution_count": 1,
      "metadata": {},
      "outputs": [
        {
          "name": "stdout",
          "output_type": "stream",
          "text": [
            ": 1.92"
          ]
        }
      ],
      "source": [
        "print(np_weight_height[1,1])"
      ]
    },
    {
      "cell_type": "markdown",
      "metadata": {},
      "source": [
        "1.  What does the `:` operator do in NumPy arrays?\n\n"
      ]
    },
    {
      "cell_type": "code",
      "execution_count": 1,
      "metadata": {},
      "outputs": [
        {
          "name": "stdout",
          "output_type": "stream",
          "text": [
            ": [ 0  1  2  5  8 10 11 12]\n   : [ 0  1  2  5  8 10 11 12]\n   : [ 0  1  2  5  8 10 11]\n   : [5 8]"
          ]
        }
      ],
      "source": [
        "print(foo)\nprint(foo[:]) # all elements\nprint(foo[:-1])  # all except the last element\nprint(foo[3:5])  # elements foo[3], foo[4] but not foo[5]"
      ]
    },
    {
      "cell_type": "markdown",
      "metadata": {},
      "source": [
        "1.  Compute the arithmetic average of `np_weight_height` over both\n    dimensions of the matrix:\n\n"
      ]
    },
    {
      "cell_type": "code",
      "execution_count": 1,
      "metadata": {},
      "outputs": [
        {
          "name": "stdout",
          "output_type": "stream",
          "text": [
            ": [179. 210. 140.]\n    : [1.8  1.92 1.74]\n    : 176.33333333333334\n    : 1.82"
          ]
        }
      ],
      "source": [
        "print(np_weight_height[0,])\nprint(np_weight_height[1,])      \nprint(np.mean(np_weight_height[0,]))\nprint(np.mean(np_weight_height[1,]))"
      ]
    },
    {
      "cell_type": "markdown",
      "metadata": {},
      "source": [
        "---\n\nNote: There is a whole course on `NumPy` [at DataCamp](https://app.datacamp.com/learn/courses/introduction-to-numpy) (intermediate+)\n\n"
      ]
    }
  ],
  "metadata": [
    [
      "org"
    ],
    null,
    null
  ],
  "nbformat": 4,
  "nbformat_minor": 0
}