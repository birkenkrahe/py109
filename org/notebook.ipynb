{
  "cells": [
    {
      "cell_type": "markdown",
      "metadata": {},
      "source": [
        "1.  Make a list of names `course` (class mates) and print it.\n\n"
      ]
    },
    {
      "cell_type": "code",
      "execution_count": 1,
      "metadata": {},
      "outputs": [
        {
          "name": "stdout",
          "output_type": "stream",
          "text": [
            ": ['Saige', 'Ethan', 'Lou', 'Loren']"
          ]
        }
      ],
      "source": [
        "course = [\"Saige\", \"Ethan\", \"Lou\", \"Loren\"]\nprint(course)"
      ]
    },
    {
      "cell_type": "markdown",
      "metadata": {},
      "source": [
        "1.  The `areas` list from DataCamp as a Python dictionary:\n\n"
      ]
    },
    {
      "cell_type": "code",
      "execution_count": 1,
      "metadata": {},
      "outputs": [
        {
          "name": "stdout",
          "output_type": "stream",
          "text": [
            ": {'hallway': 11.25, 'kitchen': 18.0, 'living room': 20.0, 'bedroom': 10.75, 'bathroom': 9.5}"
          ]
        }
      ],
      "source": [
        "hall = 11.25\nkit = 18.0\nliv = 20.0\nbed = 10.75\nbath = 9.50\nareas = {\n    \"hallway\": hall,\n    \"kitchen\": kit,\n    \"living room\": liv,\n    \"bedroom\": bed,\n    \"bathroom\": bath}\nprint(areas)\nfor name, value in areas:\n    print(name, value)"
      ]
    },
    {
      "cell_type": "markdown",
      "metadata": {},
      "source": [
        "1.  Make a dictionary of class mates `course_dict` with their name as key\n    and their sex and age as values.\n\n"
      ]
    },
    {
      "cell_type": "code",
      "execution_count": 1,
      "metadata": {},
      "outputs": [
        {
          "name": "stdout",
          "output_type": "stream",
          "text": [
            ": {'Saige': ['male', 17], 'Ethan': ['male', 17], 'Lou': ['female', 17], 'Loren': ['female', 17]}"
          ]
        }
      ],
      "source": [
        "course_dict = {\n    course[0]: [\"male\",17],\n    course[1]: [\"male\",17],\n    course[2]: [\"female\",17],\n    course[3]: [\"female\",17]\n    }                           \nprint(course_dict)"
      ]
    },
    {
      "cell_type": "markdown",
      "metadata": {},
      "source": [
        "1.  You can also print the list as a `for` loop:\n\n"
      ]
    },
    {
      "cell_type": "code",
      "execution_count": 1,
      "metadata": {},
      "outputs": [
        {
          "name": "stdout",
          "output_type": "stream",
          "text": [
            ": Key: hallway, value: 11.25\n  : Key: kitchen, value: 18.0\n  : Key: living room, value: 20.0\n  : Key: bedroom, value: 10.75\n  : Key: bathroom, value: 9.5"
          ]
        }
      ],
      "source": [
        "for key, value in areas.items():\n    print(f'Key: {key}, value: {value}')"
      ]
    },
    {
      "cell_type": "markdown",
      "metadata": {},
      "source": [
        "1.  Print `course_dict` as a `for` loop!\n\n"
      ]
    },
    {
      "cell_type": "code",
      "execution_count": 1,
      "metadata": {},
      "outputs": [
        {
          "name": "stdout",
          "output_type": "stream",
          "text": [
            ": Key: Saige, value: ['male', 17]\n   : Key: Ethan, value: ['male', 17]\n   : Key: Lou, value: ['female', 17]\n   : Key: Loren, value: ['female', 17]"
          ]
        }
      ],
      "source": [
        "for key, value in course_dict.items():\n    print(f'Key: {key}, value: {value}')"
      ]
    }
  ],
  "metadata": [
    [
      "org"
    ],
    null,
    null
  ],
  "nbformat": 4,
  "nbformat_minor": 0
}