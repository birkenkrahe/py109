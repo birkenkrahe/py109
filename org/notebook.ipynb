{
  "cells": [
    {
      "cell_type": "markdown",
      "metadata": {},
      "source": [
        "## Review DataCamp lesson 2 - Procedural programming\n\n"
      ]
    },
    {
      "cell_type": "markdown",
      "metadata": {},
      "source": [
        "#### Concepts\n\n"
      ]
    },
    {
      "cell_type": "markdown",
      "metadata": {},
      "source": [
        "-   What's a procedure?\n\n>   A series of steps that can be referenced and reused.- How are procedures implemented in Python?\n>   As functions, e.g. `def hello(): print(\"hello\")`- When is procedural programming used?\n>   When a problem can be broken down into steps.\n\n"
      ]
    },
    {
      "cell_type": "markdown",
      "metadata": {},
      "source": [
        "#### Code\n\n"
      ]
    },
    {
      "cell_type": "markdown",
      "metadata": {},
      "source": [
        "-   Define two variables `my_height` and `your_height` and assign values to\n    them, e.g. 180 cm and 170 cm.\n\n"
      ]
    },
    {
      "cell_type": "code",
      "execution_count": 1,
      "metadata": {},
      "outputs": [],
      "source": [
        "my_height = 180\nyour_height = 175"
      ]
    },
    {
      "cell_type": "markdown",
      "metadata": {},
      "source": [
        "-   Make a list `height_list` that contains the heights of four people:\n    179 cm, 185 cm, 175 cm and 189 cm.\n    \n    *Tip: `[1,2,3]` is a list of numbers.*\n\n"
      ]
    },
    {
      "cell_type": "code",
      "execution_count": 1,
      "metadata": {},
      "outputs": [],
      "source": [
        "height_list = [179,185,175,189]"
      ]
    },
    {
      "cell_type": "markdown",
      "metadata": {},
      "source": [
        "-   Write a *conditional statement* (with `if`) that checks if `my_height` is\n    greater than `your_height`. If it is, print `I'm taller`.\n\n"
      ]
    },
    {
      "cell_type": "code",
      "execution_count": 1,
      "metadata": {},
      "outputs": [],
      "source": [
        "if my_height > your_height:\n    print(\"I'm taller\")"
      ]
    },
    {
      "cell_type": "markdown",
      "metadata": {},
      "source": [
        "-   Write a loop (with `for`) that loops over the variable `height` in\n    `height_list` and prints out the `height` for every element of\n    `height_list`:\n\n"
      ]
    },
    {
      "cell_type": "code",
      "execution_count": 1,
      "metadata": {},
      "outputs": [],
      "source": [
        "for heigth in height_list:\n    print(height)"
      ]
    },
    {
      "cell_type": "markdown",
      "metadata": {},
      "source": [
        "-   Put the conditional inside the loop and if `my_height` is greater than\n    the `height` element of the list, then print `I'm taller than` and the\n    `height`.\n\n"
      ]
    },
    {
      "cell_type": "code",
      "execution_count": 1,
      "metadata": {},
      "outputs": [],
      "source": [
        "for height in height_list:\n    if my_height > height:\n        print(\"I'm taller\", height)"
      ]
    },
    {
      "cell_type": "markdown",
      "metadata": {},
      "source": [
        "#### Creativity\n\n"
      ]
    },
    {
      "cell_type": "markdown",
      "metadata": {},
      "source": [
        "-   Create a function `hello` that says \"Hi, [yourname]\":\n\n"
      ]
    },
    {
      "cell_type": "code",
      "execution_count": 1,
      "metadata": {},
      "outputs": [],
      "source": [
        "def hello():\n    print(\"Hi, Marcus\")"
      ]
    },
    {
      "cell_type": "markdown",
      "metadata": {},
      "source": [
        "-   Call the function.\n\n"
      ]
    },
    {
      "cell_type": "code",
      "execution_count": 1,
      "metadata": {},
      "outputs": [
        {
          "name": "stdout",
          "output_type": "stream",
          "text": [
            ": Hi, Marcus"
          ]
        }
      ],
      "source": [
        "hello()"
      ]
    },
    {
      "cell_type": "markdown",
      "metadata": {},
      "source": [
        "-   Modify the function and rename it to `hello_name`: add `name` as an\n    argument, and print `name`. Call the function with different names.\n\n"
      ]
    },
    {
      "cell_type": "code",
      "execution_count": 1,
      "metadata": {},
      "outputs": [
        {
          "name": "stdout",
          "output_type": "stream",
          "text": [
            ": Marcus\n  : Jane\n  : John"
          ]
        }
      ],
      "source": [
        "def hello_name(name):\n    print(name)\n    return\n\nhello_name(\"Marcus\")\nhello_name(\"Jane\")\nhello_name(\"John\")"
      ]
    },
    {
      "cell_type": "markdown",
      "metadata": {},
      "source": [
        "-   Add a conditional to the function and rename it to `hello_if`: print\n    the name only if it begins with the letter `'J'`.\n\n"
      ]
    },
    {
      "cell_type": "code",
      "execution_count": 1,
      "metadata": {},
      "outputs": [
        {
          "name": "stdout",
          "output_type": "stream",
          "text": [
            ": Jane\n  : John"
          ]
        }
      ],
      "source": [
        "def hello_if(name):\n    if name[0]=='J':\n        print(name)\n    return\n\nhello_if(\"Marcus\")\nhello_if(\"Jane\")\nhello_if(\"John\")"
      ]
    },
    {
      "cell_type": "markdown",
      "metadata": {},
      "source": [
        "-   Add a loop to the function and rename it to `hello_for`:\n    1.  Change the argument to `name_list`.\n    2.  Loop over `name_list` and greet each name with \"hello\".\n    3.  Outside the function, before calling it, define a list of names\n        `name_list` with the names \"Saige\",\"Lou\",\"Ethan\",\"Loren\".\n    4.  Call the function with the argument `name_list`.\n\n"
      ]
    },
    {
      "cell_type": "code",
      "execution_count": 1,
      "metadata": {},
      "outputs": [
        {
          "name": "stdout",
          "output_type": "stream",
          "text": [
            ": Hello, Saige\n  : Hello, Lou\n  : Hello, Ethan\n  : Hello, Loren"
          ]
        }
      ],
      "source": [
        "def hello_for(name_list):\n    for name in name_list:\n        print(\"Hello,\", name)\n    return\n\nname_list = [\"Saige\",\"Lou\",\"Ethan\",\"Loren\"]\nhello_for(name_list)"
      ]
    },
    {
      "cell_type": "markdown",
      "metadata": {},
      "source": [
        "\\*\n\n"
      ]
    }
  ],
  "metadata": [
    [
      "org"
    ],
    null,
    null
  ],
  "nbformat": 4,
  "nbformat_minor": 0
}