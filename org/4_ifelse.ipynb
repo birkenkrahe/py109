{
  "cells": [
    {
      "cell_type": "markdown",
      "metadata": {},
      "source": "PYTHON CONDITIONS AND CLAUSES - IF ELIF ELSE\n============================================\n\n**Author:** Marcus Birkenkrahe\n\n"
    },
    {
      "cell_type": "markdown",
      "metadata": {},
      "source": [
        "## Introduction\n\n"
      ]
    },
    {
      "cell_type": "markdown",
      "metadata": {},
      "source": [
        "![img](../img/claus.jpg \"Radio station Children's Christomas Party 1936 (Flickr.com)\")\n\n-   Flow control statements consist of\n    1.  a *condition* (expression)\n    2.  a *clause* (block of code)\n\n-   A *condition* is an *expression* that evaluates to a Boolean value and\n    determines if the program enters the *clause* or not.\n\n-   Lines of Python code can be grouped into [indented] blocks:\n    1.  Blocks begin when the indentation increases.\n    2.  Blocks can contain other blocks.\n    3.  Blocks end when the indentation decreases to zero or to the\n        indentation of a containing block.\n\n-   Example: what are the blocks in this small program?\n\n"
      ]
    },
    {
      "cell_type": "code",
      "execution_count": 1,
      "metadata": {},
      "outputs": [],
      "source": [
        "name = 'Mary'\npassword = 'swordfish'\nif name == 'Mary':\n    print('Hello, Mary')\n    if password == 'swordfish':\n        print('Access granted')\n    else:\n        print('Wrong password.')"
      ]
    },
    {
      "cell_type": "markdown",
      "metadata": {},
      "source": [
        "-   In the image, the blocks are highlighted: each colon `:` marks the\n    beginning of a new block.\n    \n    ![img](../img/py_blocks.png \"Python code blocks with indentation\")\n\n-   View the execution of this program at [autbor.com/blocks/](https://autbor.com/blocks/):\n    1.  Step through the program with `Next`\n    2.  The `Frames/Objects` area shows variables and their values\n    3.  The `Print output` area shows the program output\n\n-   Click on `Edit this code` and change `password` to `''` (empty string).\n\n-   View the execution again and notice the differences.\n\n-   An alternative to pythontutor.com is the built-in debugger `pdb`: you\n    start it for a file `file.py` from the command line with:\n    \n        python -m pdb file.py\n    \n    You can now step through the program with `n` and print variables with\n    `print`.\n\n"
      ]
    },
    {
      "cell_type": "markdown",
      "metadata": {},
      "source": [
        "## Code blocks in other languages\n\n"
      ]
    },
    {
      "cell_type": "markdown",
      "metadata": {},
      "source": [
        "-   It is good programming practice in all languages to use indentation\n    to mark code blocks, simply to make code more readable.\n\n-   All modern IDEs and editors offer indentation and syntax\n    highlighting, including parenthesis, keywords, variables etc.\n\n-   Very few other languages but Python use indentation as a significant\n    feature (Yunits, 2019). They include: Python, Haskell, COBOL,\n    Markdown [Colab, GitHub], Org [Emacs], yaml ['Yet Another Markup\n    Language'].\n\n-   Org-mode example: `C-M-\\` to indent all lines, or `<TAB>` for one line:\n\n"
      ]
    },
    {
      "cell_type": "code",
      "execution_count": 1,
      "metadata": {},
      "outputs": [],
      "source": [
        "name = input('What is your name? ')\nif name:\n    print(f'Hello, {name}.')\nelse:\n    print('Hello, stranger.')"
      ]
    },
    {
      "cell_type": "markdown",
      "metadata": {},
      "source": [
        "## If statements\n\n"
      ]
    },
    {
      "cell_type": "markdown",
      "metadata": {},
      "source": [
        "-   Let's look at a simple example program with and its process diagram:\n\n"
      ]
    },
    {
      "cell_type": "code",
      "execution_count": 1,
      "metadata": {},
      "outputs": [],
      "source": [
        "name = 'Alice'  # declare a variable `name`\nif name == 'Alice':\n    print('Hi, Alice.')"
      ]
    },
    {
      "cell_type": "markdown",
      "metadata": {},
      "source": [
        "![img](../img/py_alice_1.png)\n\n-   Note the fact that (unlike in a flowchart) the gateway, once opened,\n    needs to be closed again to mark the end of the logical\n    operation. One practical effect is that it is easier to remove\n    decisions from processes because their beginning and end is clear.\n\n"
      ]
    },
    {
      "cell_type": "markdown",
      "metadata": {},
      "source": [
        "## Else statements\n\n"
      ]
    },
    {
      "cell_type": "markdown",
      "metadata": {},
      "source": [
        "-   An `if` statement can be followed by an `else` statement whose clause is\n    executed only if the `if` statement's condition is `False`.\n\n-   The `else` statement does not have a condition. Let's offer a greeting\n    to a person that is not Alice:\n\n"
      ]
    },
    {
      "cell_type": "code",
      "execution_count": 1,
      "metadata": {},
      "outputs": [
        {
          "name": "stdout",
          "output_type": "stream",
          "text": [
            ": Hello, stranger."
          ]
        }
      ],
      "source": [
        "if name == 'Alice':\n    print('Hi, Alice.')\nelse:\n    print('Hello, stranger.')"
      ]
    },
    {
      "cell_type": "markdown",
      "metadata": {},
      "source": [
        "-   **Exercise:** Go to [bpmn.io](https://bpmn.io) to create a BPMN diagram for this process!\n\n-   Solution diagram:\n    \n    ![img](../img/py_alice_2.png \"BPMN diagram for an if&#x2026;else program\")\n\n-   Contrast this result with a non-standard flow chart diagram:\n    \n    ![img](../img/py_flow.png \"Flowchart for an else statement (Sweigart, 2019)\")\n\n"
      ]
    },
    {
      "cell_type": "markdown",
      "metadata": {},
      "source": [
        "## Comparison between C/C++ and R\n\n"
      ]
    },
    {
      "cell_type": "markdown",
      "metadata": {},
      "source": [
        "-   In C/C++, a compiled language (that requires a compiler like `gcc`\n    to generate a machine code file that is then executed), the last\n    program would look like this:\n    \n        #include <stdio.h>\n        #include <string.h>\n        \n        int main() {\n          char name[] = \"Alice\";\n          if (strcmp(name,\"Alice\") == 0) {\n            puts(\"Hi, Alice.\");\n          } else {\n            puts(\"Hello, stranger.\");\n          }\n          return 0;\n        }\n\n-   In R, another interpreted language (with a console that executes\n    the code block), it would look like this:\n    \n        name <- \"Alice\"\n        if (name == \"Alice\") {\n          paste(\"Hi, Alice.\")\n        } else {\n          paste(\"Hello, stranger.\")\n        }\n\n-   Neither of these languages require indentation. They could look like\n    this and would still run - they're not very readable this way:\n    \n        #include <stdio.h>\n        #include <string.h>\n        int main() { char name[] = \"Alice\"; if (strcmp(name,\"Alice\") == 0) {\n            puts(\"Hi, Alice.\"); } else { puts(\"Hello, stranger.\"); } return 0; }\n    \n        name <- \"Alice\"\n        if (name == \"Alice\") { paste(\"Hi, Alice.\")  } else {\n                                                      paste(\"Hello, stranger.\")  }\n\n"
      ]
    },
    {
      "cell_type": "markdown",
      "metadata": {},
      "source": [
        "## Elif statements\n\n"
      ]
    },
    {
      "cell_type": "markdown",
      "metadata": {},
      "source": [
        "-   If you want one of many possible clauses to execute, you can use an\n    \"else if\" statement called `elif` in Python.\n\n-   An `elif` statement consists of:\n    1.  The `elif` keyword\n    2.  A condition that evaluates to `True` or `False`\n    3.  A colon `:`\n    4.  An indented clause on the next line\n\n-   **Exercise:**\n    1.  Create a new section in your Python Colab notebook and title it\n        `Elif example`.\n    2.  Alter the `if`&#x2026; `else` \"Alice\" program by an `elif` block that prints\n        \"You're not Alice, kiddo\" if the variable `age` is less than `12`.\n    3.  To test the flow, copy your code into `pythontutor.com` and run it\n        with the following values:\n        1.  `name = 'Carol'`\n            `age = 10`\n        2.  `name = 'Carol'`\n            `'age = 28'`\n    4.  Here is the BPMN diagram for this program:\n        \n        ![img](../img/py_alice_3.png \"BPMN diagram for an if&#x2026;elif program\")\n        \n        The diagram shows: if neither of the conditions are fulfilled,\n        then nothing will be printed.\n\n-   Solution (here [in PythonTutor](https://pythontutor.com/visualize.html#code=name%20%3D%20'Carol'%0Aage%20%3D%2010%0Aif%20name%20%3D%3D%20'Alice'%3A%0A%20%20%20%20print%28%22Hi,%20Alice.%22%29%0Aelif%20age%20%3C%2012%3A%0A%20%20%20%20print%28%22You're%20not%20Alice,%20kiddo.%22%29&cumulative=false&curInstr=0&heapPrimitives=nevernest&mode=display&origin=opt-frontend.js&py=3&rawInputLstJSON=%5B%5D&textReferences=false)):\n\n"
      ]
    },
    {
      "cell_type": "code",
      "execution_count": 1,
      "metadata": {},
      "outputs": [],
      "source": [
        "name = 'Carol'\nage = 10\nif name == 'Alice':\n    print(\"Hi, Alice.\")\nelif age < 12:\n    print(\"You're not Alice, kiddo.\")"
      ]
    },
    {
      "cell_type": "markdown",
      "metadata": {},
      "source": [
        "-   Expand the program further in your notebook by adding two additional\n    `elif` clauses:\n    1.  if `age` is greater than `2000`, print \"Unlike you, Alice isn't a\n        vampire.\"\n    2.  if `age` is greater than `100`, print \"You are not Alice, grannie.\"\n\n-   Check out the program flow at [autbor.com/vampire/](https://autbor.com/vampire/).\n\n-   The BPMN diagram looks like this:\n    \n    ![img](../img/py_alice_4.png \"BPMN diagram for an expanded if&#x2026;elif program\")\n\n-   The order of the statements does matter: once a `True` condition has\n    been found in one of the `elif` conditions, the rest of the clauses\n    are automatically skipped.\n\n-   Example: in [autbor.com/vampire2/](https://autbor.com/vampire2/), two of the condition/clause\n    pairs were swapped: the first one, `age > 100` is `True` for values\n    greater than `2000` as well - the vampire condition is a *deadlock*.\n\n-   PythonTutor can help you understand how your code works (or does\n    not). Another useful tool is called a 'linter', after the Unix\n    utility `lint` so named because it removes small errors from code. The\n    VS Code IDE has a linter (I haven't tried it - low transfer value)\n\n"
      ]
    },
    {
      "cell_type": "markdown",
      "metadata": {},
      "source": [
        "## If, elif and else\n\n"
      ]
    },
    {
      "cell_type": "markdown",
      "metadata": {},
      "source": [
        "To round off this section, bring all statements together in one\nprogram: an added `else` makes sure that at least one decision is taken.\n\n1.  in your Colab notebook, modify the 'Alice' program so that it\n    does what the following BPMN diagram shows:\n    \n    ![img](../img/py_alice_5.png \"BPMN diagram for the 'Alice' program with if, elif, else\")\n2.  Test the code in your Colab notebook for `name, age = ~'Carol', 3000`.\n3.  Copy and paste the code to PythonTutor and visualize the process.\n\n4.  [Solution in PythonTutor](https://autbor.com/littlekid/):\n\n"
      ]
    },
    {
      "cell_type": "code",
      "execution_count": 1,
      "metadata": {},
      "outputs": [],
      "source": [
        "name = 'Carol'\nage = 3000\nif name == 'Alice':\n    print('Hi, Alice.')\nelif age < 12:\n    print('You are not Alice, kiddo.')\nelse:\n    print('You are neither Alice nor a little kid.')"
      ]
    },
    {
      "cell_type": "markdown",
      "metadata": {},
      "source": [
        "-   All diagrams in overview:\n    \n    ![img](../img/py_alice_1.png)  ![img](../img/py_alice_2.png)\n    ![img](../img/py_alice_3.png)  ![img](../img/py_alice_5.png)\n\n"
      ]
    },
    {
      "cell_type": "markdown",
      "metadata": {},
      "source": [
        "## Summary\n\n"
      ]
    },
    {
      "cell_type": "markdown",
      "metadata": {},
      "source": [
        "-   Decisions are modeled with conditions that evaluate to Boolean\n    values (`True`, `False`).\n\n-   Decisions include what code to execute and what to skip (`if`, `else`,\n    `elif`).\n\n-   Process models and flow charts show the logical structure clearly.\n\n-   You can create compound logical conditions using multiple operators,\n    e.g. ~name == 'Alice' and int(age) > 12' to check if the input name\n    is BOTH Alice and if she is older than 12.\n\n"
      ]
    },
    {
      "cell_type": "markdown",
      "metadata": {},
      "source": [
        "## Glossary\n\n"
      ]
    },
    {
      "cell_type": "markdown",
      "metadata": {},
      "source": [
        "| TERM/COMMAND|MEANING|\n|---|---|\n| <code>if</code>|keyword before a condition (start)|\n| <code>elif</code>|keyboard before a alternative condition|\n| <code>else</code>|keyword before a final condition|\n\n"
      ]
    },
    {
      "cell_type": "markdown",
      "metadata": {},
      "source": [
        "## References\n\n"
      ]
    },
    {
      "cell_type": "markdown",
      "metadata": {},
      "source": [
        "-   Sweigart, A. (2019). Automate the Boring Stuff with\n    Python. NoStarch. URL: [automatetheboringstuff.com](https://automatetheboringstuff.com/2e/chapter2/)\n-   Yunits, B. (2019). Which programming languages use indentation? URL:\n    [pldb.com](https://pldb.com/posts/which-programming-languages-use-indentation.html#:~:text=abc%2C%20aldor%2C%20boo%2C%20buddyscript,%2C%20stylus%2C%20xl%2Dprogramming%2D).\n\n"
      ]
    }
  ],
  "metadata": [
    [
      "org"
    ],
    null,
    null
  ],
  "nbformat": 4,
  "nbformat_minor": 0
}