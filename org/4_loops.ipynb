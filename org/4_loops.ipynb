{
  "cells": [
    {
      "cell_type": "markdown",
      "metadata": {},
      "source": "PYTHON LOOPS - WHILE, FOR, BREAK, CONTINUE, RANGE\n=================================================\n\n**Author:** Marcus Birkenkrahe\n\n"
    },
    {
      "cell_type": "markdown",
      "metadata": {},
      "source": [
        "## Introduction\n\n"
      ]
    },
    {
      "cell_type": "markdown",
      "metadata": {},
      "source": [
        "![img](../img/loop.jpg \"A Fokker looping (1915-20), Library of Congress@Flickr.com\")\n\n-   Loops are clauses that repeat any number of times.\n\n-   Like all clauses, a condition is tested to check if the clause ought\n    to be entered.\n\n-   But once it's been entered, the condition is tested again after\n    performing some action:\n    \n        loop [condition]:\n           do something\n           go back to the loop condition\n\n-   Python knows two loop types, `while` and `for`, and two loop exit\n    strategies, `break` and `continue`.\n\n"
      ]
    },
    {
      "cell_type": "markdown",
      "metadata": {},
      "source": [
        "## While loops\n\n"
      ]
    },
    {
      "cell_type": "markdown",
      "metadata": {},
      "source": [
        "-   A `while` statement always consists of:\n    1.  The `while` keyword\n    2.  A condition (an expression that evaluates to `True` or `False`)\n    3.  A colon (`:`)\n    4.  An indented block (`while` clause) on the next line.\n\n-   At the end of an `if` statement, execution continues. At the end of a\n    `while` statement, execution jumps back to test the condition again.\n\n-   Here is an `if` statement to print 'Hello, world.'\n\n"
      ]
    },
    {
      "cell_type": "code",
      "execution_count": 1,
      "metadata": {},
      "outputs": [
        {
          "name": "stdout",
          "output_type": "stream",
          "text": [
            ": Hello, world."
          ]
        }
      ],
      "source": [
        "spam = 0\nif spam < 5:\n    print('Hello, world.')\n    spam = spam + 1"
      ]
    },
    {
      "cell_type": "markdown",
      "metadata": {},
      "source": [
        "-   Replacing `if` by `while`: when executed, this prints 'Hello, world.'\n    five times.\n\n"
      ]
    },
    {
      "cell_type": "code",
      "execution_count": 1,
      "metadata": {},
      "outputs": [
        {
          "name": "stdout",
          "output_type": "stream",
          "text": [
            ": Hello, world.\n  : Hello, world.\n  : Hello, world.\n  : Hello, world.\n  : Hello, world."
          ]
        }
      ],
      "source": [
        "spam = 0\nwhile spam < 5:\n    print('Hello, world.')\n    spam = spam + 1"
      ]
    },
    {
      "cell_type": "markdown",
      "metadata": {},
      "source": [
        "-   Look at the BPMN process diagrams and the code side by side ([slide](https://docs.google.com/presentation/d/1B1eSv3pfQOCOoVl5dpuX6OcXsyXXPyvgAxUryBkGPL0/edit?usp=sharing)):\n    \n    ![img](../img/py_if_while_full.png \"if vs. while statement\")\n\n-   In the `while` statement, the condition is checked at the start of\n    each *iteration* (that is one loop execution).\n\n-   Production BPMN diagrams with loops do not have any lines running\n    back: instead, the loop tasks are overloaded as shown here. To save\n    time, we're not using a production BPMN tool (like signavio.com) but\n    a simpler, free online tool like bpmn.io.\n    \n    ![img](../img/py_bpmn_loop.png \"Loop task in BPMN (camunda.com)\")\n\n"
      ]
    },
    {
      "cell_type": "markdown",
      "metadata": {},
      "source": [
        "## Annoying while it lasts\n\n"
      ]
    },
    {
      "cell_type": "markdown",
      "metadata": {},
      "source": [
        "-   Create a new code block (or a new notebook) in Colab and enter the\n    following code, replacing `'your name'` by your actual name:\n    -   collapse the print + input lines into one input + prompt line!\n\n"
      ]
    },
    {
      "cell_type": "code",
      "execution_count": 1,
      "metadata": {},
      "outputs": [],
      "source": [
        "name = ''\nwhile name != 'your name':\n    print('Please type your name')\n    name = input()\nprint('Thank you!')"
      ]
    },
    {
      "cell_type": "markdown",
      "metadata": {},
      "source": [
        "-   Run the file and try to understand what's going on:\n    1.  The `name` variable is initialized as the empty string `''`\n    2.  The condition is tested for the first time: it's `True`\n    3.  The clause is entered and you're asked to enter your name\n    4.  The `input` function assigns what you entered to `name`\n    5.  The condition is tested again (and again and again&#x2026;)\n    6.  As soon as you enter your name, with the correct spelling, the\n        condition becomes `False` and the program jumps to the last line.\n\n-   Go to [autbor.com/yourname/](https://autbor.com/yourname/) to run the file. `Edit this code` to change\n    `'your name'` in the code to your own name.\n\n-   Here is the process diagram for this code:\n    \n    ![img](../img/py_yourname.png \"While loop that waits until you enter your name\")\n\n"
      ]
    },
    {
      "cell_type": "markdown",
      "metadata": {},
      "source": [
        "## Breaking out of a loop\n\n"
      ]
    },
    {
      "cell_type": "markdown",
      "metadata": {},
      "source": [
        "-   Loops are entered when the condition evaluates to `True` and they are\n    left only if it evaluates to `False` - it's easy to go \"infinite\".\n\n-   When execution hits the `break` statement, it exits the current clause\n    immediately. In nested loops, it exits the innermost loop only.\n\n-   Let's create an infinite loop and `break` it when a condition is met:\n\n"
      ]
    },
    {
      "cell_type": "code",
      "execution_count": 1,
      "metadata": {},
      "outputs": [],
      "source": [
        "while True:\n    name = input('Please type your name: ')\n    if name == 'your name':\n        break\nprint('Thank you!')"
      ]
    },
    {
      "cell_type": "markdown",
      "metadata": {},
      "source": [
        "-   Go to [autbor.com/yourname2/](https://autbor.com/yourname2/) to run the file. `Edit this code` to\n    change `'your name'` in the code to your own name.\n\n-   Here is the process diagram for this and the previous loop:\n    \n    ![img](../img/py_yourname2.png \"Infinite while loop that must be broken out of\")\n    ![img](../img/py_yourname.png \"Infinite while loop that must be broken out of\")\n\n-   **Exercise:** what happens if you use `break` outside of a loop clause?\n    Can you fool Python by indenting the `break`? Write a one-line \"Hello,\n    world!\" program followed by a `break` statement:\n\n"
      ]
    },
    {
      "cell_type": "code",
      "execution_count": 1,
      "metadata": {},
      "outputs": [],
      "source": [
        "print(\"Hello, world!\")\nbreak"
      ]
    },
    {
      "cell_type": "markdown",
      "metadata": {},
      "source": [
        "-   For fun, create an infinite loop *without* break condition that prints\n    \"Infinity!\" forever until you break the execution with CTRL-D:\n    \n        while True:\n            print('Infinity')\n\n-   In Colab, delete the \"infinite\" output by clicking on the \"X\".\n\n"
      ]
    },
    {
      "cell_type": "markdown",
      "metadata": {},
      "source": [
        "## Continuing a loop\n\n"
      ]
    },
    {
      "cell_type": "markdown",
      "metadata": {},
      "source": [
        "-   Like `break`, the `continue` statement is only used inside a loop.\n\n-   When a `continue` statement is reached, the program jumps back to the\n    start of the loop and re-evaluates the loop condition.\n\n-   Write a program that:\n    1.  starts with an infinite `while` loop (always `True`)\n    2.  asks for `input` of a `name`.\n    3.  `if` the `name` is not equal to `'Joe'` it executes `continue`\n    4.  otherwise, it asks for `input` of the `password`\n    5.  `if` the `password` is `'swordfish'` it executes `break`.\n    6.  confirms `'Access granted'` when you're done.\n\n-   Solution:\n\n"
      ]
    },
    {
      "cell_type": "code",
      "execution_count": 1,
      "metadata": {},
      "outputs": [],
      "source": [
        "while True:\n    name = input(\"Who are you? \")\n    if name != 'Joe':\n        continue\n    password = input(\"What's the password? \")\n    if password == 'swordfish':\n        break\nprint('Access granted')"
      ]
    },
    {
      "cell_type": "markdown",
      "metadata": {},
      "source": [
        "-   Copy the code, open pythontutor.com and paste the program code.\n\n-   Run the program inside the pythontutor.com visualization tool.\n\n-   The BPMN diagram shows the two break points clearly:\n    \n    ![img](../img/py_continue.png \"Continue and break with an infinite loop\")\n\n-   [Solution (pythontutor.com)](https://pythontutor.com/visualize.html#code=while%20True%3A%0A%20%20%20%20name%20%3D%20input%28%22What's%20your%20name%3F%20%22%29%0A%20%20%20%20if%20name%20!%3D%20'Joe'%3A%0A%20%20%20%20%20%20%20%20continue%0A%20%20%20%20password%20%3D%20input%28%22What's%20the%20password%3F%20%22%29%0A%20%20%20%20if%20password%20%3D%3D%20'swordfish'%3A%0A%20%20%20%20%20%20%20%20break%0Aprint%28'Access%20granted'%29%0A&cumulative=false&curInstr=0&heapPrimitives=nevernest&mode=display&origin=opt-frontend.js&py=3&rawInputLstJSON=%5B%22Joe%22,%22salmon%22,%22Joe%22,%22swordfish%22%5D&textReferences=false)\n\n"
      ]
    },
    {
      "cell_type": "markdown",
      "metadata": {},
      "source": [
        "## Non-Boolean truth values\n\n"
      ]
    },
    {
      "cell_type": "markdown",
      "metadata": {},
      "source": [
        "-   Recall: to the computer, when used in conditions, `0`, `0.0` and `''`\n    (empty string) are `False`, while all other values are `True`.\n\n-   What does the following program do?\n\n"
      ]
    },
    {
      "cell_type": "code",
      "execution_count": 1,
      "metadata": {},
      "outputs": [],
      "source": [
        "name = ''\nwhile not name:    # until you enter a name!\n    name = input('Enter your name: ')\n    guests = input('How many guests will you have? ')\nif int(guests):    # if you have non-zero guests\n    print('Make sure to have enough room')\nprint('Done')"
      ]
    },
    {
      "cell_type": "markdown",
      "metadata": {},
      "source": [
        "-   Try it in pythontutor: [autbor.com/howmanyguests/](https://autbor.com/howmanyguests/)\n\n-   You could have entered `while not name != ''` instead of `while not\n      name` and you could have used `if guests != 0` instead of `if guests`\n\n-   The BPMN diagram:\n    \n    ![img](../img/py_yourguests.png \"Non-Boolean truth values\")\n\n-   If you enter `''` in response to the second question (number of\n    `guests`), an error is generated, because `int` cannot convert empty\n    space or whitespace to an integer. To fix this, you must handle it\n    as an *exception*:\n\n"
      ]
    },
    {
      "cell_type": "code",
      "execution_count": 1,
      "metadata": {},
      "outputs": [],
      "source": [
        "name, guests = '',''\nwhile not name:\n    name = input('Enter your name: ')\n    guests = input('How many guests will you have? ')\nif guests == '':\n    guests = 0\n    print('okay')\nif int(guests):\n    print('Make sure to have enough room')\n    print('Done')"
      ]
    },
    {
      "cell_type": "markdown",
      "metadata": {},
      "source": [
        "## For loops\n\n"
      ]
    },
    {
      "cell_type": "markdown",
      "metadata": {},
      "source": [
        "-   The `for` statement allows you to repeat a block of code a certain\n    number of times.\n\n-   A `for` statement includes:\n    1.  the `for` keyword\n    2.  a loop variable\n    3.  a call to the `range` function with up to 3 integers\n    4.  a colon `:`\n    5.  An indented clause starting on the next line\n\n-   Simple example: the program `fiveTimes.py` executes the statement in\n    its clause five times while `i` is counting up from 0 to 4:\n\n"
      ]
    },
    {
      "cell_type": "code",
      "execution_count": 1,
      "metadata": {},
      "outputs": [
        {
          "name": "stdout",
          "output_type": "stream",
          "text": [
            ": My name is\n  : Jimmy Five Times (0)\n  : Jimmy Five Times (1)\n  : Jimmy Five Times (2)\n  : Jimmy Five Times (3)\n  : Jimmy Five Times (4)"
          ]
        }
      ],
      "source": [
        "print('My name is')\nfor i in range(5):\n    print('Jimmy Five Times (' + str(i) + ')')"
      ]
    },
    {
      "cell_type": "markdown",
      "metadata": {},
      "source": [
        "![img](../img/py_for.png \"For loop with range 5\")\n\n-   Challenge: how would the `print` statement look like with an f-string?\n\n-   Solution:\n\n"
      ]
    },
    {
      "cell_type": "code",
      "execution_count": 1,
      "metadata": {},
      "outputs": [],
      "source": [
        "print('My name is')\nfor i in range(5):\n    print(f'Jimmy Five Times ({i})')"
      ]
    },
    {
      "cell_type": "markdown",
      "metadata": {},
      "source": [
        "-   `for` loops are great for counting up and down in regular in- or\n    decrements. This program adds up all numbers from 1 to 100 and\n    stores the result in `total`:\n\n"
      ]
    },
    {
      "cell_type": "code",
      "execution_count": 1,
      "metadata": {},
      "outputs": [
        {
          "name": "stdout",
          "output_type": "stream",
          "text": [
            ": 5050"
          ]
        }
      ],
      "source": [
        "total = 0\nfor i in range(101):\n    total = total + i\nprint(total)"
      ]
    },
    {
      "cell_type": "markdown",
      "metadata": {},
      "source": [
        "-   This last result relates to a story: when the mathematician Carl\n    Friedrich Gauss was a boy, he found a way to add up all the numbers\n    from 0 to 100. He noticed that there are 50 pairs of numbers that\n    add up to 101: 1 + 100, 2 + 99,&#x2026;,50 + 51, and 50 \\* 101 = 5,050.\n\n-   Check this program [in pythontutor.com](https://pythontutor.com/visualize.html#code=total%20%3D%200%0Afor%20i%20in%20range%28101%29%3A%0A%20%20%20%20total%20%3D%20total%20%2B%20i%0Aprint%28total%29%20%20%20%20%20%20%20%20%0A&cumulative=false&curInstr=0&heapPrimitives=nevernest&mode=display&origin=opt-frontend.js&py=3&rawInputLstJSON=%5B%5D&textReferences=false).\n\n"
      ]
    },
    {
      "cell_type": "markdown",
      "metadata": {},
      "source": [
        "## Equivalence of while and for\n\n"
      ]
    },
    {
      "cell_type": "markdown",
      "metadata": {},
      "source": [
        "-   `for` loops and `while` loops are fully equivalent but the former are\n    more concise than the latter.\n\n-   **Exercise**: rewrite `fiveTimes.py` as `fiveTimes2.py` with a `while` loop\n    instead of a `for` loop.\n\n-   Solution:\n\n"
      ]
    },
    {
      "cell_type": "code",
      "execution_count": 1,
      "metadata": {},
      "outputs": [],
      "source": [
        "print('My name is')\ni = 0\nwhile i < 5:\n    print('Jimmy Five Times (' + str(i) + ')')\n    i = i + 1"
      ]
    },
    {
      "cell_type": "markdown",
      "metadata": {},
      "source": [
        "-   Once you're done, run the program at [pythontutor.com](https://autbor.com/fivetimeswhile/).\n\n"
      ]
    },
    {
      "cell_type": "markdown",
      "metadata": {},
      "source": [
        "## Starting, stopping and stepping with `range`\n\n"
      ]
    },
    {
      "cell_type": "markdown",
      "metadata": {},
      "source": [
        "-   The shortest documentation can be had on the IPython shell with the\n    keyword (variable or function) `?`\n\n-   The `range` function ('constructor') e.g. is documented online in the\n    [Python standard library](https://docs.python.org/3/library/stdtypes.html?highlight=range#range):\n    1.  All parameters must be integers only, keywords are not allowed\n    2.  Only the `stop` parameter is mandatory: `range(5)`\n    3.  The other paramaters: `range(start, stop[, step])` with defaults\n        `start=0` and `step=1`.\n\n-   For example, `range(12,16)` starts at 12 and stops at 16:\n\n"
      ]
    },
    {
      "cell_type": "code",
      "execution_count": 1,
      "metadata": {},
      "outputs": [
        {
          "name": "stdout",
          "output_type": "stream",
          "text": [
            ": 12\n  : 13\n  : 14\n  : 15"
          ]
        }
      ],
      "source": [
        "for i in range(12,16):\n    print(i)"
      ]
    },
    {
      "cell_type": "markdown",
      "metadata": {},
      "source": [
        "-   Counting up from 2 in steps of 2:\n\n"
      ]
    },
    {
      "cell_type": "code",
      "execution_count": 1,
      "metadata": {},
      "outputs": [
        {
          "name": "stdout",
          "output_type": "stream",
          "text": [
            ": 2\n  : 4\n  : 6\n  : 8"
          ]
        }
      ],
      "source": [
        "for i in range(2,10,2):\n    print(i)"
      ]
    },
    {
      "cell_type": "markdown",
      "metadata": {},
      "source": [
        "-   You can use a negative number for `step` to make the loop count down:\n\n"
      ]
    },
    {
      "cell_type": "code",
      "execution_count": 1,
      "metadata": {},
      "outputs": [
        {
          "name": "stdout",
          "output_type": "stream",
          "text": [
            ": 5\n  : 4\n  : 3\n  : 2\n  : 1\n  : 0"
          ]
        }
      ],
      "source": [
        "for i in range(5,-1,-1):\n    print(i)"
      ]
    },
    {
      "cell_type": "markdown",
      "metadata": {},
      "source": [
        "-   What `type` is `range(5)`?\n\n"
      ]
    },
    {
      "cell_type": "code",
      "execution_count": 1,
      "metadata": {},
      "outputs": [],
      "source": [
        "print(type(range(5))"
      ]
    },
    {
      "cell_type": "markdown",
      "metadata": {},
      "source": [
        "## Summary\n\n"
      ]
    },
    {
      "cell_type": "markdown",
      "metadata": {},
      "source": [
        "-   Code can be executed repeatedly in a loop while their conditions\n    evaluate to `True` using `while` or `for`.\n\n-   The `range` function constructs a sequence of integers. Its parameters\n    are `start`, `stop` and `step` values, with default `start=0`, `step=1`.\n\n-   `break`, `continue` and `sys.exit` can exit a loop, jump back to the\n    start, or terminate the execution.\n\n"
      ]
    },
    {
      "cell_type": "markdown",
      "metadata": {},
      "source": [
        "## Glossary\n\n"
      ]
    },
    {
      "cell_type": "markdown",
      "metadata": {},
      "source": [
        "| TERM/COMMAND|MEANING|\n|---|---|\n| <code>while</code>|Conditional loop|\n| <code>for</code>|Conditional loop with counter|\n| <code>range</code>|Create sequence of integers|\n| <code>break</code>|Exit loop|\n| <code>continue</code>|Go to start of loop|\n\n"
      ]
    },
    {
      "cell_type": "markdown",
      "metadata": {},
      "source": [
        "## References\n\n"
      ]
    },
    {
      "cell_type": "markdown",
      "metadata": {},
      "source": [
        "-   Sweigart, A. (2019). Automate the Boring Stuff with\n    Python. NoStarch. URL: [automatetheboringstuff.com](https://automatetheboringstuff.com/2e/chapter2/)\n-   Yunits, B. (2019). Which programming languages use indentation? URL:\n    [pldb.com](https://pldb.com/posts/which-programming-languages-use-indentation.html#:~:text=abc%2C%20aldor%2C%20boo%2C%20buddyscript,%2C%20stylus%2C%20xl%2Dprogramming%2D).\n\n"
      ]
    }
  ],
  "metadata": [
    [
      "org"
    ],
    null,
    null
  ],
  "nbformat": 4,
  "nbformat_minor": 0
}